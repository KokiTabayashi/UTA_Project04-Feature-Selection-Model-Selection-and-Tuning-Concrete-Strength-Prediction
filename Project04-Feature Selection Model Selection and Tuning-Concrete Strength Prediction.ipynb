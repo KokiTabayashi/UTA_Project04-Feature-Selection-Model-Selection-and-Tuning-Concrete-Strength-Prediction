{
 "cells": [
  {
   "cell_type": "markdown",
   "metadata": {},
   "source": [
    "## Project \"Concrete Strength Prediction\""
   ]
  },
  {
   "cell_type": "markdown",
   "metadata": {},
   "source": [
    "## Objective\n",
    "To predict the concrete strength using the data available in file \"concrete.csv\". Apply feature engineering and model tuning to obtain 85% to 95% accuracy.\n"
   ]
  },
  {
   "cell_type": "markdown",
   "metadata": {},
   "source": [
    "#### Resources Available\n",
    "The data for this project is available in file https://archive.ics.uci.edu/ml/machine-learning-databases/concrete/compressive/."
   ]
  },
  {
   "cell_type": "markdown",
   "metadata": {},
   "source": [
    "### Steps and Tasks:"
   ]
  },
  {
   "cell_type": "markdown",
   "metadata": {},
   "source": [
    "##### Exploratory Data Quality Report Reflecting the Following:\n",
    "\n",
    "1. Univariate analysis<br>\n",
    "  Data types and description of the independent attributes which should include\n",
    "  - name, \n",
    "  - range of values observed, \n",
    "  - central values (mean and median), \n",
    "  - standard deviation and quartiles, \n",
    "  - analysis of the body of distributions/tails, \n",
    "  - missing values, \n",
    "  - outliers, \n",
    "  - duplicates\n",
    "  <br><br>\n",
    "2. Bi-variate analysis between the predictor variables and target column. \n",
    " - Comment on your findings in terms of their relationship and degree of relation if any. \n",
    " - Visualize the analysis using boxplots and pair plots, histograms, or density curves. \n",
    "<br><br>\n",
    "3. Feature Engineering techniques<br>\n",
    " (1) Identify opportunities (if any) to extract new features from existing features, drop a feature(if required)<br> Hint: Feature Extraction, for example, consider a dataset with two features length and breadth. <br>\n",
    "From this, we can extract a new feature Area which would be length * breadth.<br>\n",
    " (2) Get the data model ready and do a train test split.<br>\n",
    " (3) Decide on the complexity of the model, should it be a simple linear model in terms of parameters or would a quadratic or higher degree.<br>\n"
   ]
  },
  {
   "cell_type": "markdown",
   "metadata": {},
   "source": [
    "##### Creating the Model and Tuning it:\n",
    "\n",
    "1. Algorithms that you think will be suitable for this project. \n",
    " - Use Kfold Cross-Validation to evaluate model performance. \n",
    " - Use appropriate metrics and make a DataFrame to compare models w.r.t their metrics. (at least 3 algorithms, one bagging and one boosting based algorithms have to be there). \n",
    "<br><br>\n",
    "2. Techniques employed to squeeze that extra performance out of the model without making it overfit. \n",
    " - Use Grid Search or Random Search on any of the two models used above. \n",
    " - Make a DataFrame to compare models after hyperparameter tuning and their metrics as above. "
   ]
  },
  {
   "cell_type": "markdown",
   "metadata": {},
   "source": [
    "### Attribute Information:"
   ]
  },
  {
   "cell_type": "markdown",
   "metadata": {},
   "source": [
    "\tName\tData Type\tMeasurement\tDescription\n",
    "1.\tCement (cement),\tquantitative,\tkg in a m3 mixture,\tInput Variable\n",
    "2.\tBlast Furnace Slag (slag),\tquantitative,\tkg in a m3 mixture,\tInput Variable\n",
    "3.\tFly Ash (ash),\tquantitative,\tkg in a m3 mixture,\tInput Variable\n",
    "4.\tWater(water),\tquantitative,\tkg in a m3 mixture,\tInput Variable\n",
    "5.\tSuperplasticizer (superplastic),\tquantitative,\tkg in a m3 mixture,\tInput Variable\n",
    "6.\tCoarse Aggregate (coarseagg),\tquantitative,\tkg in a m3 mixture,\tInput Variable\n",
    "7.\tFine Aggregate (fineagg),\tquantitative,\tkg in a m3 mixture,\tInput Variable\n",
    "8.\tAge(age),\tquantitative,\tDay (1~365),\tInput Variable\n",
    "9.\tConcrete compressive strength(strength),\tquantitative,\tMPa,\tOutput Variable"
   ]
  },
  {
   "cell_type": "markdown",
   "metadata": {},
   "source": [
    "+++++++++++++++++++++++++++++++++++++++++++++++++++++++++++++++++++++++++++++++++++++++++++++++++++++++++++++++++++"
   ]
  },
  {
   "cell_type": "markdown",
   "metadata": {},
   "source": [
    "#### Time"
   ]
  },
  {
   "cell_type": "code",
   "execution_count": 1,
   "metadata": {},
   "outputs": [
    {
     "name": "stdout",
     "output_type": "stream",
     "text": [
      "2020-12-05 03:42:18.298345\n"
     ]
    }
   ],
   "source": [
    "from datetime import datetime\n",
    "startTime = datetime.now()\n",
    "print(startTime)"
   ]
  },
  {
   "cell_type": "markdown",
   "metadata": {},
   "source": [
    "### Import all necessary modules and load the data"
   ]
  },
  {
   "cell_type": "code",
   "execution_count": 2,
   "metadata": {},
   "outputs": [],
   "source": [
    "import numpy as np\n",
    "import pandas as pd\n",
    "\n",
    "import matplotlib.pyplot as plt\n",
    "%matplotlib inline\n",
    "import seaborn as sns"
   ]
  },
  {
   "cell_type": "code",
   "execution_count": 3,
   "metadata": {},
   "outputs": [],
   "source": [
    "import warnings\n",
    "warnings.filterwarnings('ignore')"
   ]
  },
  {
   "cell_type": "code",
   "execution_count": 4,
   "metadata": {},
   "outputs": [],
   "source": [
    "pd.options.display.float_format = '{:,.4f}'.format"
   ]
  },
  {
   "cell_type": "code",
   "execution_count": 5,
   "metadata": {},
   "outputs": [],
   "source": [
    "df = pd.read_csv('concrete.csv')"
   ]
  },
  {
   "cell_type": "code",
   "execution_count": 6,
   "metadata": {},
   "outputs": [
    {
     "data": {
      "text/html": [
       "<div>\n",
       "<style scoped>\n",
       "    .dataframe tbody tr th:only-of-type {\n",
       "        vertical-align: middle;\n",
       "    }\n",
       "\n",
       "    .dataframe tbody tr th {\n",
       "        vertical-align: top;\n",
       "    }\n",
       "\n",
       "    .dataframe thead th {\n",
       "        text-align: right;\n",
       "    }\n",
       "</style>\n",
       "<table border=\"1\" class=\"dataframe\">\n",
       "  <thead>\n",
       "    <tr style=\"text-align: right;\">\n",
       "      <th></th>\n",
       "      <th>cement</th>\n",
       "      <th>slag</th>\n",
       "      <th>ash</th>\n",
       "      <th>water</th>\n",
       "      <th>superplastic</th>\n",
       "      <th>coarseagg</th>\n",
       "      <th>fineagg</th>\n",
       "      <th>age</th>\n",
       "      <th>strength</th>\n",
       "    </tr>\n",
       "  </thead>\n",
       "  <tbody>\n",
       "    <tr>\n",
       "      <th>0</th>\n",
       "      <td>141.3000</td>\n",
       "      <td>212.0000</td>\n",
       "      <td>0.0000</td>\n",
       "      <td>203.5000</td>\n",
       "      <td>0.0000</td>\n",
       "      <td>971.8000</td>\n",
       "      <td>748.5000</td>\n",
       "      <td>28</td>\n",
       "      <td>29.8900</td>\n",
       "    </tr>\n",
       "    <tr>\n",
       "      <th>1</th>\n",
       "      <td>168.9000</td>\n",
       "      <td>42.2000</td>\n",
       "      <td>124.3000</td>\n",
       "      <td>158.3000</td>\n",
       "      <td>10.8000</td>\n",
       "      <td>1,080.8000</td>\n",
       "      <td>796.2000</td>\n",
       "      <td>14</td>\n",
       "      <td>23.5100</td>\n",
       "    </tr>\n",
       "    <tr>\n",
       "      <th>2</th>\n",
       "      <td>250.0000</td>\n",
       "      <td>0.0000</td>\n",
       "      <td>95.7000</td>\n",
       "      <td>187.4000</td>\n",
       "      <td>5.5000</td>\n",
       "      <td>956.9000</td>\n",
       "      <td>861.2000</td>\n",
       "      <td>28</td>\n",
       "      <td>29.2200</td>\n",
       "    </tr>\n",
       "    <tr>\n",
       "      <th>3</th>\n",
       "      <td>266.0000</td>\n",
       "      <td>114.0000</td>\n",
       "      <td>0.0000</td>\n",
       "      <td>228.0000</td>\n",
       "      <td>0.0000</td>\n",
       "      <td>932.0000</td>\n",
       "      <td>670.0000</td>\n",
       "      <td>28</td>\n",
       "      <td>45.8500</td>\n",
       "    </tr>\n",
       "    <tr>\n",
       "      <th>4</th>\n",
       "      <td>154.8000</td>\n",
       "      <td>183.4000</td>\n",
       "      <td>0.0000</td>\n",
       "      <td>193.3000</td>\n",
       "      <td>9.1000</td>\n",
       "      <td>1,047.4000</td>\n",
       "      <td>696.7000</td>\n",
       "      <td>28</td>\n",
       "      <td>18.2900</td>\n",
       "    </tr>\n",
       "  </tbody>\n",
       "</table>\n",
       "</div>"
      ],
      "text/plain": [
       "    cement     slag      ash    water  superplastic  coarseagg  fineagg  age  \\\n",
       "0 141.3000 212.0000   0.0000 203.5000        0.0000   971.8000 748.5000   28   \n",
       "1 168.9000  42.2000 124.3000 158.3000       10.8000 1,080.8000 796.2000   14   \n",
       "2 250.0000   0.0000  95.7000 187.4000        5.5000   956.9000 861.2000   28   \n",
       "3 266.0000 114.0000   0.0000 228.0000        0.0000   932.0000 670.0000   28   \n",
       "4 154.8000 183.4000   0.0000 193.3000        9.1000 1,047.4000 696.7000   28   \n",
       "\n",
       "   strength  \n",
       "0   29.8900  \n",
       "1   23.5100  \n",
       "2   29.2200  \n",
       "3   45.8500  \n",
       "4   18.2900  "
      ]
     },
     "execution_count": 6,
     "metadata": {},
     "output_type": "execute_result"
    }
   ],
   "source": [
    "df.head()"
   ]
  },
  {
   "cell_type": "code",
   "execution_count": 7,
   "metadata": {},
   "outputs": [
    {
     "data": {
      "text/html": [
       "<div>\n",
       "<style scoped>\n",
       "    .dataframe tbody tr th:only-of-type {\n",
       "        vertical-align: middle;\n",
       "    }\n",
       "\n",
       "    .dataframe tbody tr th {\n",
       "        vertical-align: top;\n",
       "    }\n",
       "\n",
       "    .dataframe thead th {\n",
       "        text-align: right;\n",
       "    }\n",
       "</style>\n",
       "<table border=\"1\" class=\"dataframe\">\n",
       "  <thead>\n",
       "    <tr style=\"text-align: right;\">\n",
       "      <th></th>\n",
       "      <th>cement</th>\n",
       "      <th>slag</th>\n",
       "      <th>ash</th>\n",
       "      <th>water</th>\n",
       "      <th>superplastic</th>\n",
       "      <th>coarseagg</th>\n",
       "      <th>fineagg</th>\n",
       "      <th>age</th>\n",
       "      <th>strength</th>\n",
       "    </tr>\n",
       "  </thead>\n",
       "  <tbody>\n",
       "    <tr>\n",
       "      <th>1025</th>\n",
       "      <td>135.0000</td>\n",
       "      <td>0.0000</td>\n",
       "      <td>166.0000</td>\n",
       "      <td>180.0000</td>\n",
       "      <td>10.0000</td>\n",
       "      <td>961.0000</td>\n",
       "      <td>805.0000</td>\n",
       "      <td>28</td>\n",
       "      <td>13.2900</td>\n",
       "    </tr>\n",
       "    <tr>\n",
       "      <th>1026</th>\n",
       "      <td>531.3000</td>\n",
       "      <td>0.0000</td>\n",
       "      <td>0.0000</td>\n",
       "      <td>141.8000</td>\n",
       "      <td>28.2000</td>\n",
       "      <td>852.1000</td>\n",
       "      <td>893.7000</td>\n",
       "      <td>3</td>\n",
       "      <td>41.3000</td>\n",
       "    </tr>\n",
       "    <tr>\n",
       "      <th>1027</th>\n",
       "      <td>276.4000</td>\n",
       "      <td>116.0000</td>\n",
       "      <td>90.3000</td>\n",
       "      <td>179.6000</td>\n",
       "      <td>8.9000</td>\n",
       "      <td>870.1000</td>\n",
       "      <td>768.3000</td>\n",
       "      <td>28</td>\n",
       "      <td>44.2800</td>\n",
       "    </tr>\n",
       "    <tr>\n",
       "      <th>1028</th>\n",
       "      <td>342.0000</td>\n",
       "      <td>38.0000</td>\n",
       "      <td>0.0000</td>\n",
       "      <td>228.0000</td>\n",
       "      <td>0.0000</td>\n",
       "      <td>932.0000</td>\n",
       "      <td>670.0000</td>\n",
       "      <td>270</td>\n",
       "      <td>55.0600</td>\n",
       "    </tr>\n",
       "    <tr>\n",
       "      <th>1029</th>\n",
       "      <td>540.0000</td>\n",
       "      <td>0.0000</td>\n",
       "      <td>0.0000</td>\n",
       "      <td>173.0000</td>\n",
       "      <td>0.0000</td>\n",
       "      <td>1,125.0000</td>\n",
       "      <td>613.0000</td>\n",
       "      <td>7</td>\n",
       "      <td>52.6100</td>\n",
       "    </tr>\n",
       "  </tbody>\n",
       "</table>\n",
       "</div>"
      ],
      "text/plain": [
       "       cement     slag      ash    water  superplastic  coarseagg  fineagg  \\\n",
       "1025 135.0000   0.0000 166.0000 180.0000       10.0000   961.0000 805.0000   \n",
       "1026 531.3000   0.0000   0.0000 141.8000       28.2000   852.1000 893.7000   \n",
       "1027 276.4000 116.0000  90.3000 179.6000        8.9000   870.1000 768.3000   \n",
       "1028 342.0000  38.0000   0.0000 228.0000        0.0000   932.0000 670.0000   \n",
       "1029 540.0000   0.0000   0.0000 173.0000        0.0000 1,125.0000 613.0000   \n",
       "\n",
       "      age  strength  \n",
       "1025   28   13.2900  \n",
       "1026    3   41.3000  \n",
       "1027   28   44.2800  \n",
       "1028  270   55.0600  \n",
       "1029    7   52.6100  "
      ]
     },
     "execution_count": 7,
     "metadata": {},
     "output_type": "execute_result"
    }
   ],
   "source": [
    "df.tail()"
   ]
  },
  {
   "cell_type": "markdown",
   "metadata": {},
   "source": [
    "### Shape, Check for null values, Data types, Descriptive statistics"
   ]
  },
  {
   "cell_type": "code",
   "execution_count": 8,
   "metadata": {},
   "outputs": [
    {
     "data": {
      "text/plain": [
       "(1030, 9)"
      ]
     },
     "execution_count": 8,
     "metadata": {},
     "output_type": "execute_result"
    }
   ],
   "source": [
    "df.shape"
   ]
  },
  {
   "cell_type": "code",
   "execution_count": 9,
   "metadata": {},
   "outputs": [
    {
     "data": {
      "text/plain": [
       "cement          False\n",
       "slag            False\n",
       "ash             False\n",
       "water           False\n",
       "superplastic    False\n",
       "coarseagg       False\n",
       "fineagg         False\n",
       "age             False\n",
       "strength        False\n",
       "dtype: bool"
      ]
     },
     "execution_count": 9,
     "metadata": {},
     "output_type": "execute_result"
    }
   ],
   "source": [
    "df.isnull().any()"
   ]
  },
  {
   "cell_type": "markdown",
   "metadata": {},
   "source": [
    "##### <i>[Note] There is no null data"
   ]
  },
  {
   "cell_type": "code",
   "execution_count": 10,
   "metadata": {},
   "outputs": [
    {
     "name": "stdout",
     "output_type": "stream",
     "text": [
      "<class 'pandas.core.frame.DataFrame'>\n",
      "RangeIndex: 1030 entries, 0 to 1029\n",
      "Data columns (total 9 columns):\n",
      " #   Column        Non-Null Count  Dtype  \n",
      "---  ------        --------------  -----  \n",
      " 0   cement        1030 non-null   float64\n",
      " 1   slag          1030 non-null   float64\n",
      " 2   ash           1030 non-null   float64\n",
      " 3   water         1030 non-null   float64\n",
      " 4   superplastic  1030 non-null   float64\n",
      " 5   coarseagg     1030 non-null   float64\n",
      " 6   fineagg       1030 non-null   float64\n",
      " 7   age           1030 non-null   int64  \n",
      " 8   strength      1030 non-null   float64\n",
      "dtypes: float64(8), int64(1)\n",
      "memory usage: 72.5 KB\n"
     ]
    }
   ],
   "source": [
    "df.info()"
   ]
  },
  {
   "cell_type": "code",
   "execution_count": 11,
   "metadata": {},
   "outputs": [
    {
     "data": {
      "text/html": [
       "<div>\n",
       "<style scoped>\n",
       "    .dataframe tbody tr th:only-of-type {\n",
       "        vertical-align: middle;\n",
       "    }\n",
       "\n",
       "    .dataframe tbody tr th {\n",
       "        vertical-align: top;\n",
       "    }\n",
       "\n",
       "    .dataframe thead th {\n",
       "        text-align: right;\n",
       "    }\n",
       "</style>\n",
       "<table border=\"1\" class=\"dataframe\">\n",
       "  <thead>\n",
       "    <tr style=\"text-align: right;\">\n",
       "      <th></th>\n",
       "      <th>count</th>\n",
       "      <th>mean</th>\n",
       "      <th>std</th>\n",
       "      <th>min</th>\n",
       "      <th>25%</th>\n",
       "      <th>50%</th>\n",
       "      <th>75%</th>\n",
       "      <th>max</th>\n",
       "    </tr>\n",
       "  </thead>\n",
       "  <tbody>\n",
       "    <tr>\n",
       "      <th>cement</th>\n",
       "      <td>1,030.0000</td>\n",
       "      <td>281.1679</td>\n",
       "      <td>104.5064</td>\n",
       "      <td>102.0000</td>\n",
       "      <td>192.3750</td>\n",
       "      <td>272.9000</td>\n",
       "      <td>350.0000</td>\n",
       "      <td>540.0000</td>\n",
       "    </tr>\n",
       "    <tr>\n",
       "      <th>slag</th>\n",
       "      <td>1,030.0000</td>\n",
       "      <td>73.8958</td>\n",
       "      <td>86.2793</td>\n",
       "      <td>0.0000</td>\n",
       "      <td>0.0000</td>\n",
       "      <td>22.0000</td>\n",
       "      <td>142.9500</td>\n",
       "      <td>359.4000</td>\n",
       "    </tr>\n",
       "    <tr>\n",
       "      <th>ash</th>\n",
       "      <td>1,030.0000</td>\n",
       "      <td>54.1883</td>\n",
       "      <td>63.9970</td>\n",
       "      <td>0.0000</td>\n",
       "      <td>0.0000</td>\n",
       "      <td>0.0000</td>\n",
       "      <td>118.3000</td>\n",
       "      <td>200.1000</td>\n",
       "    </tr>\n",
       "    <tr>\n",
       "      <th>water</th>\n",
       "      <td>1,030.0000</td>\n",
       "      <td>181.5673</td>\n",
       "      <td>21.3542</td>\n",
       "      <td>121.8000</td>\n",
       "      <td>164.9000</td>\n",
       "      <td>185.0000</td>\n",
       "      <td>192.0000</td>\n",
       "      <td>247.0000</td>\n",
       "    </tr>\n",
       "    <tr>\n",
       "      <th>superplastic</th>\n",
       "      <td>1,030.0000</td>\n",
       "      <td>6.2047</td>\n",
       "      <td>5.9738</td>\n",
       "      <td>0.0000</td>\n",
       "      <td>0.0000</td>\n",
       "      <td>6.4000</td>\n",
       "      <td>10.2000</td>\n",
       "      <td>32.2000</td>\n",
       "    </tr>\n",
       "    <tr>\n",
       "      <th>coarseagg</th>\n",
       "      <td>1,030.0000</td>\n",
       "      <td>972.9189</td>\n",
       "      <td>77.7540</td>\n",
       "      <td>801.0000</td>\n",
       "      <td>932.0000</td>\n",
       "      <td>968.0000</td>\n",
       "      <td>1,029.4000</td>\n",
       "      <td>1,145.0000</td>\n",
       "    </tr>\n",
       "    <tr>\n",
       "      <th>fineagg</th>\n",
       "      <td>1,030.0000</td>\n",
       "      <td>773.5805</td>\n",
       "      <td>80.1760</td>\n",
       "      <td>594.0000</td>\n",
       "      <td>730.9500</td>\n",
       "      <td>779.5000</td>\n",
       "      <td>824.0000</td>\n",
       "      <td>992.6000</td>\n",
       "    </tr>\n",
       "    <tr>\n",
       "      <th>age</th>\n",
       "      <td>1,030.0000</td>\n",
       "      <td>45.6621</td>\n",
       "      <td>63.1699</td>\n",
       "      <td>1.0000</td>\n",
       "      <td>7.0000</td>\n",
       "      <td>28.0000</td>\n",
       "      <td>56.0000</td>\n",
       "      <td>365.0000</td>\n",
       "    </tr>\n",
       "    <tr>\n",
       "      <th>strength</th>\n",
       "      <td>1,030.0000</td>\n",
       "      <td>35.8180</td>\n",
       "      <td>16.7057</td>\n",
       "      <td>2.3300</td>\n",
       "      <td>23.7100</td>\n",
       "      <td>34.4450</td>\n",
       "      <td>46.1350</td>\n",
       "      <td>82.6000</td>\n",
       "    </tr>\n",
       "  </tbody>\n",
       "</table>\n",
       "</div>"
      ],
      "text/plain": [
       "                  count     mean      std      min      25%      50%  \\\n",
       "cement       1,030.0000 281.1679 104.5064 102.0000 192.3750 272.9000   \n",
       "slag         1,030.0000  73.8958  86.2793   0.0000   0.0000  22.0000   \n",
       "ash          1,030.0000  54.1883  63.9970   0.0000   0.0000   0.0000   \n",
       "water        1,030.0000 181.5673  21.3542 121.8000 164.9000 185.0000   \n",
       "superplastic 1,030.0000   6.2047   5.9738   0.0000   0.0000   6.4000   \n",
       "coarseagg    1,030.0000 972.9189  77.7540 801.0000 932.0000 968.0000   \n",
       "fineagg      1,030.0000 773.5805  80.1760 594.0000 730.9500 779.5000   \n",
       "age          1,030.0000  45.6621  63.1699   1.0000   7.0000  28.0000   \n",
       "strength     1,030.0000  35.8180  16.7057   2.3300  23.7100  34.4450   \n",
       "\n",
       "                    75%        max  \n",
       "cement         350.0000   540.0000  \n",
       "slag           142.9500   359.4000  \n",
       "ash            118.3000   200.1000  \n",
       "water          192.0000   247.0000  \n",
       "superplastic    10.2000    32.2000  \n",
       "coarseagg    1,029.4000 1,145.0000  \n",
       "fineagg        824.0000   992.6000  \n",
       "age             56.0000   365.0000  \n",
       "strength        46.1350    82.6000  "
      ]
     },
     "execution_count": 11,
     "metadata": {},
     "output_type": "execute_result"
    }
   ],
   "source": [
    "df.describe().T"
   ]
  },
  {
   "cell_type": "markdown",
   "metadata": {},
   "source": [
    "##### <i>[Insights]\n",
    "<i>All variables are numerical.\n",
    "<br><i>All variables except age are continuous.\n",
    "<br><i>There are no null values.\n",
    "<br><i>There are no negative values."
   ]
  },
  {
   "cell_type": "markdown",
   "metadata": {},
   "source": [
    "### Skewness and Kurtosis"
   ]
  },
  {
   "cell_type": "code",
   "execution_count": 12,
   "metadata": {},
   "outputs": [
    {
     "data": {
      "text/plain": [
       "age             3.2692\n",
       "superplastic    0.9072\n",
       "slag            0.8007\n",
       "ash             0.5374\n",
       "cement          0.5095\n",
       "strength        0.4170\n",
       "water           0.0746\n",
       "coarseagg      -0.0402\n",
       "fineagg        -0.2530\n",
       "dtype: float64"
      ]
     },
     "execution_count": 12,
     "metadata": {},
     "output_type": "execute_result"
    }
   ],
   "source": [
    "df.skew().sort_values(ascending=False)"
   ]
  },
  {
   "cell_type": "code",
   "execution_count": 13,
   "metadata": {},
   "outputs": [
    {
     "data": {
      "text/plain": [
       "age            12.1690\n",
       "superplastic    1.4113\n",
       "water           0.1221\n",
       "fineagg        -0.1022\n",
       "strength       -0.3137\n",
       "slag           -0.5082\n",
       "cement         -0.5207\n",
       "coarseagg      -0.5990\n",
       "ash            -1.3287\n",
       "dtype: float64"
      ]
     },
     "execution_count": 13,
     "metadata": {},
     "output_type": "execute_result"
    }
   ],
   "source": [
    "df.kurt().sort_values(ascending=False)"
   ]
  },
  {
   "cell_type": "markdown",
   "metadata": {},
   "source": [
    "##### <i>[Insights]\n",
    "<i>\"Age\" has higher skewness (right skewed) and kurtosis.\n",
    "<br><i>Based on mean and median value, \"slag\", \"ash\", \"superplastic\" are also right skewed."
   ]
  },
  {
   "cell_type": "markdown",
   "metadata": {},
   "source": [
    "### Duplicates"
   ]
  },
  {
   "cell_type": "markdown",
   "metadata": {},
   "source": [
    "##### Check whether there are duplicated values"
   ]
  },
  {
   "cell_type": "code",
   "execution_count": 14,
   "metadata": {},
   "outputs": [],
   "source": [
    "# pandas.DataFrame.duplicated\n",
    "# https://pandas.pydata.org/pandas-docs/stable/reference/api/pandas.DataFrame.duplicated.html"
   ]
  },
  {
   "cell_type": "code",
   "execution_count": 15,
   "metadata": {},
   "outputs": [
    {
     "data": {
      "text/plain": [
       "True"
      ]
     },
     "execution_count": 15,
     "metadata": {},
     "output_type": "execute_result"
    }
   ],
   "source": [
    "df.duplicated().any()"
   ]
  },
  {
   "cell_type": "code",
   "execution_count": 16,
   "metadata": {},
   "outputs": [
    {
     "data": {
      "text/plain": [
       "36"
      ]
     },
     "execution_count": 16,
     "metadata": {},
     "output_type": "execute_result"
    }
   ],
   "source": [
    "# By setting keep on False, all duplicates are True.\n",
    "df.duplicated(keep=False).sum()"
   ]
  },
  {
   "cell_type": "code",
   "execution_count": 17,
   "metadata": {},
   "outputs": [
    {
     "data": {
      "text/plain": [
       "25"
      ]
     },
     "execution_count": 17,
     "metadata": {},
     "output_type": "execute_result"
    }
   ],
   "source": [
    "# By default, for each set of duplicated values, the first occurrence is set on False and all others on True.\n",
    "df.duplicated().sum()"
   ]
  },
  {
   "cell_type": "code",
   "execution_count": 18,
   "metadata": {},
   "outputs": [
    {
     "data": {
      "text/html": [
       "<div>\n",
       "<style scoped>\n",
       "    .dataframe tbody tr th:only-of-type {\n",
       "        vertical-align: middle;\n",
       "    }\n",
       "\n",
       "    .dataframe tbody tr th {\n",
       "        vertical-align: top;\n",
       "    }\n",
       "\n",
       "    .dataframe thead th {\n",
       "        text-align: right;\n",
       "    }\n",
       "</style>\n",
       "<table border=\"1\" class=\"dataframe\">\n",
       "  <thead>\n",
       "    <tr style=\"text-align: right;\">\n",
       "      <th></th>\n",
       "      <th>cement</th>\n",
       "      <th>slag</th>\n",
       "      <th>ash</th>\n",
       "      <th>water</th>\n",
       "      <th>superplastic</th>\n",
       "      <th>coarseagg</th>\n",
       "      <th>fineagg</th>\n",
       "      <th>age</th>\n",
       "      <th>strength</th>\n",
       "    </tr>\n",
       "  </thead>\n",
       "  <tbody>\n",
       "    <tr>\n",
       "      <th>468</th>\n",
       "      <td>252.0000</td>\n",
       "      <td>0.0000</td>\n",
       "      <td>0.0000</td>\n",
       "      <td>185.0000</td>\n",
       "      <td>0.0000</td>\n",
       "      <td>1,111.0000</td>\n",
       "      <td>784.0000</td>\n",
       "      <td>28</td>\n",
       "      <td>19.6900</td>\n",
       "    </tr>\n",
       "    <tr>\n",
       "      <th>278</th>\n",
       "      <td>425.0000</td>\n",
       "      <td>106.3000</td>\n",
       "      <td>0.0000</td>\n",
       "      <td>153.5000</td>\n",
       "      <td>16.5000</td>\n",
       "      <td>852.1000</td>\n",
       "      <td>887.1000</td>\n",
       "      <td>3</td>\n",
       "      <td>33.4000</td>\n",
       "    </tr>\n",
       "    <tr>\n",
       "      <th>298</th>\n",
       "      <td>425.0000</td>\n",
       "      <td>106.3000</td>\n",
       "      <td>0.0000</td>\n",
       "      <td>153.5000</td>\n",
       "      <td>16.5000</td>\n",
       "      <td>852.1000</td>\n",
       "      <td>887.1000</td>\n",
       "      <td>3</td>\n",
       "      <td>33.4000</td>\n",
       "    </tr>\n",
       "    <tr>\n",
       "      <th>400</th>\n",
       "      <td>362.6000</td>\n",
       "      <td>189.0000</td>\n",
       "      <td>0.0000</td>\n",
       "      <td>164.9000</td>\n",
       "      <td>11.6000</td>\n",
       "      <td>944.7000</td>\n",
       "      <td>755.8000</td>\n",
       "      <td>3</td>\n",
       "      <td>35.3000</td>\n",
       "    </tr>\n",
       "    <tr>\n",
       "      <th>420</th>\n",
       "      <td>362.6000</td>\n",
       "      <td>189.0000</td>\n",
       "      <td>0.0000</td>\n",
       "      <td>164.9000</td>\n",
       "      <td>11.6000</td>\n",
       "      <td>944.7000</td>\n",
       "      <td>755.8000</td>\n",
       "      <td>3</td>\n",
       "      <td>35.3000</td>\n",
       "    </tr>\n",
       "    <tr>\n",
       "      <th>943</th>\n",
       "      <td>362.6000</td>\n",
       "      <td>189.0000</td>\n",
       "      <td>0.0000</td>\n",
       "      <td>164.9000</td>\n",
       "      <td>11.6000</td>\n",
       "      <td>944.7000</td>\n",
       "      <td>755.8000</td>\n",
       "      <td>3</td>\n",
       "      <td>35.3000</td>\n",
       "    </tr>\n",
       "    <tr>\n",
       "      <th>884</th>\n",
       "      <td>425.0000</td>\n",
       "      <td>106.3000</td>\n",
       "      <td>0.0000</td>\n",
       "      <td>153.5000</td>\n",
       "      <td>16.5000</td>\n",
       "      <td>852.1000</td>\n",
       "      <td>887.1000</td>\n",
       "      <td>7</td>\n",
       "      <td>49.2000</td>\n",
       "    </tr>\n",
       "    <tr>\n",
       "      <th>830</th>\n",
       "      <td>425.0000</td>\n",
       "      <td>106.3000</td>\n",
       "      <td>0.0000</td>\n",
       "      <td>153.5000</td>\n",
       "      <td>16.5000</td>\n",
       "      <td>852.1000</td>\n",
       "      <td>887.1000</td>\n",
       "      <td>7</td>\n",
       "      <td>49.2000</td>\n",
       "    </tr>\n",
       "    <tr>\n",
       "      <th>933</th>\n",
       "      <td>362.6000</td>\n",
       "      <td>189.0000</td>\n",
       "      <td>0.0000</td>\n",
       "      <td>164.9000</td>\n",
       "      <td>11.6000</td>\n",
       "      <td>944.7000</td>\n",
       "      <td>755.8000</td>\n",
       "      <td>7</td>\n",
       "      <td>55.9000</td>\n",
       "    </tr>\n",
       "    <tr>\n",
       "      <th>576</th>\n",
       "      <td>362.6000</td>\n",
       "      <td>189.0000</td>\n",
       "      <td>0.0000</td>\n",
       "      <td>164.9000</td>\n",
       "      <td>11.6000</td>\n",
       "      <td>944.7000</td>\n",
       "      <td>755.8000</td>\n",
       "      <td>7</td>\n",
       "      <td>55.9000</td>\n",
       "    </tr>\n",
       "    <tr>\n",
       "      <th>577</th>\n",
       "      <td>425.0000</td>\n",
       "      <td>106.3000</td>\n",
       "      <td>0.0000</td>\n",
       "      <td>153.5000</td>\n",
       "      <td>16.5000</td>\n",
       "      <td>852.1000</td>\n",
       "      <td>887.1000</td>\n",
       "      <td>28</td>\n",
       "      <td>60.2900</td>\n",
       "    </tr>\n",
       "    <tr>\n",
       "      <th>992</th>\n",
       "      <td>425.0000</td>\n",
       "      <td>106.3000</td>\n",
       "      <td>0.0000</td>\n",
       "      <td>153.5000</td>\n",
       "      <td>16.5000</td>\n",
       "      <td>852.1000</td>\n",
       "      <td>887.1000</td>\n",
       "      <td>28</td>\n",
       "      <td>60.2900</td>\n",
       "    </tr>\n",
       "    <tr>\n",
       "      <th>517</th>\n",
       "      <td>425.0000</td>\n",
       "      <td>106.3000</td>\n",
       "      <td>0.0000</td>\n",
       "      <td>153.5000</td>\n",
       "      <td>16.5000</td>\n",
       "      <td>852.1000</td>\n",
       "      <td>887.1000</td>\n",
       "      <td>56</td>\n",
       "      <td>64.3000</td>\n",
       "    </tr>\n",
       "    <tr>\n",
       "      <th>880</th>\n",
       "      <td>425.0000</td>\n",
       "      <td>106.3000</td>\n",
       "      <td>0.0000</td>\n",
       "      <td>153.5000</td>\n",
       "      <td>16.5000</td>\n",
       "      <td>852.1000</td>\n",
       "      <td>887.1000</td>\n",
       "      <td>56</td>\n",
       "      <td>64.3000</td>\n",
       "    </tr>\n",
       "    <tr>\n",
       "      <th>482</th>\n",
       "      <td>425.0000</td>\n",
       "      <td>106.3000</td>\n",
       "      <td>0.0000</td>\n",
       "      <td>153.5000</td>\n",
       "      <td>16.5000</td>\n",
       "      <td>852.1000</td>\n",
       "      <td>887.1000</td>\n",
       "      <td>91</td>\n",
       "      <td>65.2000</td>\n",
       "    </tr>\n",
       "    <tr>\n",
       "      <th>527</th>\n",
       "      <td>425.0000</td>\n",
       "      <td>106.3000</td>\n",
       "      <td>0.0000</td>\n",
       "      <td>153.5000</td>\n",
       "      <td>16.5000</td>\n",
       "      <td>852.1000</td>\n",
       "      <td>887.1000</td>\n",
       "      <td>91</td>\n",
       "      <td>65.2000</td>\n",
       "    </tr>\n",
       "    <tr>\n",
       "      <th>525</th>\n",
       "      <td>362.6000</td>\n",
       "      <td>189.0000</td>\n",
       "      <td>0.0000</td>\n",
       "      <td>164.9000</td>\n",
       "      <td>11.6000</td>\n",
       "      <td>944.7000</td>\n",
       "      <td>755.8000</td>\n",
       "      <td>28</td>\n",
       "      <td>71.3000</td>\n",
       "    </tr>\n",
       "    <tr>\n",
       "      <th>967</th>\n",
       "      <td>362.6000</td>\n",
       "      <td>189.0000</td>\n",
       "      <td>0.0000</td>\n",
       "      <td>164.9000</td>\n",
       "      <td>11.6000</td>\n",
       "      <td>944.7000</td>\n",
       "      <td>755.8000</td>\n",
       "      <td>28</td>\n",
       "      <td>71.3000</td>\n",
       "    </tr>\n",
       "    <tr>\n",
       "      <th>738</th>\n",
       "      <td>362.6000</td>\n",
       "      <td>189.0000</td>\n",
       "      <td>0.0000</td>\n",
       "      <td>164.9000</td>\n",
       "      <td>11.6000</td>\n",
       "      <td>944.7000</td>\n",
       "      <td>755.8000</td>\n",
       "      <td>28</td>\n",
       "      <td>71.3000</td>\n",
       "    </tr>\n",
       "    <tr>\n",
       "      <th>604</th>\n",
       "      <td>362.6000</td>\n",
       "      <td>189.0000</td>\n",
       "      <td>0.0000</td>\n",
       "      <td>164.9000</td>\n",
       "      <td>11.6000</td>\n",
       "      <td>944.7000</td>\n",
       "      <td>755.8000</td>\n",
       "      <td>56</td>\n",
       "      <td>77.3000</td>\n",
       "    </tr>\n",
       "    <tr>\n",
       "      <th>892</th>\n",
       "      <td>362.6000</td>\n",
       "      <td>189.0000</td>\n",
       "      <td>0.0000</td>\n",
       "      <td>164.9000</td>\n",
       "      <td>11.6000</td>\n",
       "      <td>944.7000</td>\n",
       "      <td>755.8000</td>\n",
       "      <td>56</td>\n",
       "      <td>77.3000</td>\n",
       "    </tr>\n",
       "    <tr>\n",
       "      <th>463</th>\n",
       "      <td>362.6000</td>\n",
       "      <td>189.0000</td>\n",
       "      <td>0.0000</td>\n",
       "      <td>164.9000</td>\n",
       "      <td>11.6000</td>\n",
       "      <td>944.7000</td>\n",
       "      <td>755.8000</td>\n",
       "      <td>56</td>\n",
       "      <td>77.3000</td>\n",
       "    </tr>\n",
       "    <tr>\n",
       "      <th>733</th>\n",
       "      <td>362.6000</td>\n",
       "      <td>189.0000</td>\n",
       "      <td>0.0000</td>\n",
       "      <td>164.9000</td>\n",
       "      <td>11.6000</td>\n",
       "      <td>944.7000</td>\n",
       "      <td>755.8000</td>\n",
       "      <td>91</td>\n",
       "      <td>79.3000</td>\n",
       "    </tr>\n",
       "    <tr>\n",
       "      <th>766</th>\n",
       "      <td>362.6000</td>\n",
       "      <td>189.0000</td>\n",
       "      <td>0.0000</td>\n",
       "      <td>164.9000</td>\n",
       "      <td>11.6000</td>\n",
       "      <td>944.7000</td>\n",
       "      <td>755.8000</td>\n",
       "      <td>91</td>\n",
       "      <td>79.3000</td>\n",
       "    </tr>\n",
       "    <tr>\n",
       "      <th>493</th>\n",
       "      <td>362.6000</td>\n",
       "      <td>189.0000</td>\n",
       "      <td>0.0000</td>\n",
       "      <td>164.9000</td>\n",
       "      <td>11.6000</td>\n",
       "      <td>944.7000</td>\n",
       "      <td>755.8000</td>\n",
       "      <td>91</td>\n",
       "      <td>79.3000</td>\n",
       "    </tr>\n",
       "  </tbody>\n",
       "</table>\n",
       "</div>"
      ],
      "text/plain": [
       "      cement     slag    ash    water  superplastic  coarseagg  fineagg  age  \\\n",
       "468 252.0000   0.0000 0.0000 185.0000        0.0000 1,111.0000 784.0000   28   \n",
       "278 425.0000 106.3000 0.0000 153.5000       16.5000   852.1000 887.1000    3   \n",
       "298 425.0000 106.3000 0.0000 153.5000       16.5000   852.1000 887.1000    3   \n",
       "400 362.6000 189.0000 0.0000 164.9000       11.6000   944.7000 755.8000    3   \n",
       "420 362.6000 189.0000 0.0000 164.9000       11.6000   944.7000 755.8000    3   \n",
       "943 362.6000 189.0000 0.0000 164.9000       11.6000   944.7000 755.8000    3   \n",
       "884 425.0000 106.3000 0.0000 153.5000       16.5000   852.1000 887.1000    7   \n",
       "830 425.0000 106.3000 0.0000 153.5000       16.5000   852.1000 887.1000    7   \n",
       "933 362.6000 189.0000 0.0000 164.9000       11.6000   944.7000 755.8000    7   \n",
       "576 362.6000 189.0000 0.0000 164.9000       11.6000   944.7000 755.8000    7   \n",
       "577 425.0000 106.3000 0.0000 153.5000       16.5000   852.1000 887.1000   28   \n",
       "992 425.0000 106.3000 0.0000 153.5000       16.5000   852.1000 887.1000   28   \n",
       "517 425.0000 106.3000 0.0000 153.5000       16.5000   852.1000 887.1000   56   \n",
       "880 425.0000 106.3000 0.0000 153.5000       16.5000   852.1000 887.1000   56   \n",
       "482 425.0000 106.3000 0.0000 153.5000       16.5000   852.1000 887.1000   91   \n",
       "527 425.0000 106.3000 0.0000 153.5000       16.5000   852.1000 887.1000   91   \n",
       "525 362.6000 189.0000 0.0000 164.9000       11.6000   944.7000 755.8000   28   \n",
       "967 362.6000 189.0000 0.0000 164.9000       11.6000   944.7000 755.8000   28   \n",
       "738 362.6000 189.0000 0.0000 164.9000       11.6000   944.7000 755.8000   28   \n",
       "604 362.6000 189.0000 0.0000 164.9000       11.6000   944.7000 755.8000   56   \n",
       "892 362.6000 189.0000 0.0000 164.9000       11.6000   944.7000 755.8000   56   \n",
       "463 362.6000 189.0000 0.0000 164.9000       11.6000   944.7000 755.8000   56   \n",
       "733 362.6000 189.0000 0.0000 164.9000       11.6000   944.7000 755.8000   91   \n",
       "766 362.6000 189.0000 0.0000 164.9000       11.6000   944.7000 755.8000   91   \n",
       "493 362.6000 189.0000 0.0000 164.9000       11.6000   944.7000 755.8000   91   \n",
       "\n",
       "     strength  \n",
       "468   19.6900  \n",
       "278   33.4000  \n",
       "298   33.4000  \n",
       "400   35.3000  \n",
       "420   35.3000  \n",
       "943   35.3000  \n",
       "884   49.2000  \n",
       "830   49.2000  \n",
       "933   55.9000  \n",
       "576   55.9000  \n",
       "577   60.2900  \n",
       "992   60.2900  \n",
       "517   64.3000  \n",
       "880   64.3000  \n",
       "482   65.2000  \n",
       "527   65.2000  \n",
       "525   71.3000  \n",
       "967   71.3000  \n",
       "738   71.3000  \n",
       "604   77.3000  \n",
       "892   77.3000  \n",
       "463   77.3000  \n",
       "733   79.3000  \n",
       "766   79.3000  \n",
       "493   79.3000  "
      ]
     },
     "execution_count": 18,
     "metadata": {},
     "output_type": "execute_result"
    }
   ],
   "source": [
    "df[df.duplicated()].sort_values(ascending=True, by=\"strength\")"
   ]
  },
  {
   "cell_type": "markdown",
   "metadata": {},
   "source": [
    "##### Drop duplicated values\n"
   ]
  },
  {
   "cell_type": "code",
   "execution_count": 19,
   "metadata": {},
   "outputs": [],
   "source": [
    "# pandas.DataFrame.drop_duplicates\n",
    "# https://pandas.pydata.org/pandas-docs/stable/reference/api/pandas.DataFrame.drop_duplicates.html"
   ]
  },
  {
   "cell_type": "code",
   "execution_count": 20,
   "metadata": {},
   "outputs": [],
   "source": [
    "df.drop_duplicates(inplace=True)"
   ]
  },
  {
   "cell_type": "code",
   "execution_count": 21,
   "metadata": {},
   "outputs": [
    {
     "data": {
      "text/plain": [
       "(1005, 9)"
      ]
     },
     "execution_count": 21,
     "metadata": {},
     "output_type": "execute_result"
    }
   ],
   "source": [
    "df.shape"
   ]
  },
  {
   "cell_type": "markdown",
   "metadata": {},
   "source": [
    "##### Displot"
   ]
  },
  {
   "cell_type": "code",
   "execution_count": 22,
   "metadata": {},
   "outputs": [
    {
     "data": {
      "image/png": "[encoded data removed]",
      "text/plain": [
       "<Figure size 288x144 with 1 Axes>"
      ]
     },
     "metadata": {
      "needs_background": "light"
     },
     "output_type": "display_data"
    },
    {
     "data": {
      "image/png": "[encoded data removed]",
      "text/plain": [
       "<Figure size 288x144 with 1 Axes>"
      ]
     },
     "metadata": {
      "needs_background": "light"
     },
     "output_type": "display_data"
    },
    {
     "data": {
      "image/png": "[encoded data removed]",
      "text/plain": [
       "<Figure size 288x144 with 1 Axes>"
      ]
     },
     "metadata": {
      "needs_background": "light"
     },
     "output_type": "display_data"
    },
    {
     "data": {
      "image/png": "[encoded data removed]",
      "text/plain": [
       "<Figure size 288x144 with 1 Axes>"
      ]
     },
     "metadata": {
      "needs_background": "light"
     },
     "output_type": "display_data"
    },
    {
     "data": {
      "image/png": "[encoded data removed]",
      "text/plain": [
       "<Figure size 288x144 with 1 Axes>"
      ]
     },
     "metadata": {
      "needs_background": "light"
     },
     "output_type": "display_data"
    },
    {
     "data": {
      "image/png": "[encoded data removed]",
      "text/plain": [
       "<Figure size 288x144 with 1 Axes>"
      ]
     },
     "metadata": {
      "needs_background": "light"
     },
     "output_type": "display_data"
    },
    {
     "data": {
      "image/png": "[encoded data removed]",
      "text/plain": [
       "<Figure size 288x144 with 1 Axes>"
      ]
     },
     "metadata": {
      "needs_background": "light"
     },
     "output_type": "display_data"
    },
    {
     "data": {
      "image/png": "[encoded data removed]",
      "text/plain": [
       "<Figure size 288x144 with 1 Axes>"
      ]
     },
     "metadata": {
      "needs_background": "light"
     },
     "output_type": "display_data"
    },
    {
     "data": {
      "image/png": "[encoded data removed]",
      "text/plain": [
       "<Figure size 288x144 with 1 Axes>"
      ]
     },
     "metadata": {
      "needs_background": "light"
     },
     "output_type": "display_data"
    }
   ],
   "source": [
    "for col in df.columns:\n",
    "    if df[col].dtypes == int or df[col].dtypes == float:\n",
    "        sns.displot(df[col], kde=True, height=2, aspect=2)\n",
    "        plt.xlabel(col, fontsize=12)\n",
    "        plt.ylabel(\"Count\", fontsize=10)\n",
    "        plt.show()"
   ]
  },
  {
   "cell_type": "markdown",
   "metadata": {},
   "source": [
    "##### <i>[Insights]\n",
    "<i>\"slag\", \"ash\", \"superplastic\", and \"age\" are right skewed and right tailed.\n",
    "<br><i>Other variables are relatively close to normal distribution and symmetrical"
   ]
  },
  {
   "cell_type": "markdown",
   "metadata": {},
   "source": [
    "##### Boxplot"
   ]
  },
  {
   "cell_type": "code",
   "execution_count": 23,
   "metadata": {},
   "outputs": [
    {
     "data": {
      "image/png": "[encoded data removed]",
      "text/plain": [
       "<Figure size 864x72 with 1 Axes>"
      ]
     },
     "metadata": {
      "needs_background": "light"
     },
     "output_type": "display_data"
    },
    {
     "name": "stdout",
     "output_type": "stream",
     "text": [
      "\n"
     ]
    },
    {
     "data": {
      "image/png": "[encoded data removed]",
      "text/plain": [
       "<Figure size 864x72 with 1 Axes>"
      ]
     },
     "metadata": {
      "needs_background": "light"
     },
     "output_type": "display_data"
    },
    {
     "name": "stdout",
     "output_type": "stream",
     "text": [
      "\n"
     ]
    },
    {
     "data": {
      "image/png": "[encoded data removed]",
      "text/plain": [
       "<Figure size 864x72 with 1 Axes>"
      ]
     },
     "metadata": {
      "needs_background": "light"
     },
     "output_type": "display_data"
    },
    {
     "name": "stdout",
     "output_type": "stream",
     "text": [
      "\n"
     ]
    },
    {
     "data": {
      "image/png": "[encoded data removed]",
      "text/plain": [
       "<Figure size 864x72 with 1 Axes>"
      ]
     },
     "metadata": {
      "needs_background": "light"
     },
     "output_type": "display_data"
    },
    {
     "name": "stdout",
     "output_type": "stream",
     "text": [
      "\n"
     ]
    },
    {
     "data": {
      "image/png": "[encoded data removed]",
      "text/plain": [
       "<Figure size 864x72 with 1 Axes>"
      ]
     },
     "metadata": {
      "needs_background": "light"
     },
     "output_type": "display_data"
    },
    {
     "name": "stdout",
     "output_type": "stream",
     "text": [
      "\n"
     ]
    },
    {
     "data": {
      "image/png": "[encoded data removed]",
      "text/plain": [
       "<Figure size 864x72 with 1 Axes>"
      ]
     },
     "metadata": {
      "needs_background": "light"
     },
     "output_type": "display_data"
    },
    {
     "name": "stdout",
     "output_type": "stream",
     "text": [
      "\n"
     ]
    },
    {
     "data": {
      "image/png": "[encoded data removed]",
      "text/plain": [
       "<Figure size 864x72 with 1 Axes>"
      ]
     },
     "metadata": {
      "needs_background": "light"
     },
     "output_type": "display_data"
    },
    {
     "name": "stdout",
     "output_type": "stream",
     "text": [
      "\n"
     ]
    },
    {
     "data": {
      "image/png": "[encoded data removed]",
      "text/plain": [
       "<Figure size 864x72 with 1 Axes>"
      ]
     },
     "metadata": {
      "needs_background": "light"
     },
     "output_type": "display_data"
    },
    {
     "name": "stdout",
     "output_type": "stream",
     "text": [
      "\n"
     ]
    },
    {
     "data": {
      "image/png": "[encoded data removed]",
      "text/plain": [
       "<Figure size 864x72 with 1 Axes>"
      ]
     },
     "metadata": {
      "needs_background": "light"
     },
     "output_type": "display_data"
    },
    {
     "name": "stdout",
     "output_type": "stream",
     "text": [
      "\n"
     ]
    }
   ],
   "source": [
    "for i in df.columns:\n",
    "    if df[i].dtypes == int or df[i].dtypes == float:\n",
    "        plt.figure(figsize=(12,1))\n",
    "        sns.boxplot(x=i, data=df)\n",
    "        plt.xlabel(i ,fontsize=12)\n",
    "        plt.show()\n",
    "        print()"
   ]
  },
  {
   "cell_type": "markdown",
   "metadata": {},
   "source": [
    "##### <i>[Insights]\n",
    "<i>\"slag\", \"superplastic\", \"fineagg\", \"age\", and \"strength\" have some outliers in the right side.\n",
    "<br><i>\"water\" have outliers in both sides."
   ]
  },
  {
   "cell_type": "markdown",
   "metadata": {},
   "source": [
    "##### heatmap (Correlation)"
   ]
  },
  {
   "cell_type": "code",
   "execution_count": 24,
   "metadata": {},
   "outputs": [
    {
     "data": {
      "image/png": "[encoded data removed]",
      "text/plain": [
       "<Figure size 576x432 with 1 Axes>"
      ]
     },
     "metadata": {
      "needs_background": "light"
     },
     "output_type": "display_data"
    }
   ],
   "source": [
    "plt.figure(figsize=(8, 6))\n",
    "\n",
    "# Change Font size\n",
    "sns.set(font_scale=1.2)\n",
    "\n",
    "sns.heatmap(df.corr(),\n",
    "            annot=True,\n",
    "            linewidths=.5,\n",
    "            center=0,\n",
    "            cbar=False,\n",
    "            cmap=\"YlGnBu\")\n",
    "\n",
    "plt.show()"
   ]
  },
  {
   "cell_type": "markdown",
   "metadata": {},
   "source": [
    "##### <i>[Insights]\n",
    "<i>Following variables have high correrations (positive / negative 0.5 or higher)\n",
    "    <br><i> - \"water\" and \"superplastic\"<br>\n",
    "<br><i>Following variables have relatively higher correrations (positive / negative 0.4 or higher)\n",
    "    <br><i> - \"cement\" and \"strength\"\n",
    "    <br><i> - \"ash\" and \"superplastic\"\n",
    "    <br><i> - \"water\" and \"fineagg\"<br>\n",
    "<br><i>Following variables have relatively moderate correrations (positive / negative 0.3 or higher)\n",
    "    <br><i> - \"superplastic\" and \"strength\"\n",
    "    <br><i> - \"age\" and \"strength\"\n",
    "    <br><i> - \"cement\" and \"slag\"\n",
    "    <br><i> - \"cement\" and \"ash\"\n",
    "    <br><i> - \"slag\" and \"ash\"\n"
   ]
  },
  {
   "cell_type": "markdown",
   "metadata": {},
   "source": [
    "##### Pairplot"
   ]
  },
  {
   "cell_type": "code",
   "execution_count": 25,
   "metadata": {},
   "outputs": [],
   "source": [
    "########### Run only before submitting the work ###########\n",
    "###sns.pairplot(df)"
   ]
  },
  {
   "cell_type": "markdown",
   "metadata": {},
   "source": [
    "##### <i>[Notes]\n",
    "<i>According to Wikipedia, \"Superplasticizers (SP's), also known as high range water reducers, are additives used in making high strength concrete. Plasticizers are chemical compounds that enable the production of concrete with approximately 15% less water content. Superplasticizers allow reduction in water content by 30% or more.\" (https://en.wikipedia.org/wiki/Superplasticizer)\n",
    "<br><i>This explains the reason of high negative correration between \"water\" and \"superplastic\".\n",
    "<br><i>Since the \"Superplasticizers\" is the additives which enabels the reduction of the water, we will drop \"water\" from the variables."
   ]
  },
  {
   "cell_type": "code",
   "execution_count": 26,
   "metadata": {},
   "outputs": [],
   "source": [
    "#df.drop('water', axis=1, inplace=True)"
   ]
  },
  {
   "cell_type": "markdown",
   "metadata": {},
   "source": [
    "##### <i>[Notes]\n",
    "<i> Tried dropping \"water\" but since it caused the accuracy score drop in many models, commented out."
   ]
  },
  {
   "cell_type": "code",
   "execution_count": 27,
   "metadata": {},
   "outputs": [
    {
     "name": "stdout",
     "output_type": "stream",
     "text": [
      "<class 'pandas.core.frame.DataFrame'>\n",
      "Int64Index: 1005 entries, 0 to 1029\n",
      "Data columns (total 9 columns):\n",
      " #   Column        Non-Null Count  Dtype  \n",
      "---  ------        --------------  -----  \n",
      " 0   cement        1005 non-null   float64\n",
      " 1   slag          1005 non-null   float64\n",
      " 2   ash           1005 non-null   float64\n",
      " 3   water         1005 non-null   float64\n",
      " 4   superplastic  1005 non-null   float64\n",
      " 5   coarseagg     1005 non-null   float64\n",
      " 6   fineagg       1005 non-null   float64\n",
      " 7   age           1005 non-null   int64  \n",
      " 8   strength      1005 non-null   float64\n",
      "dtypes: float64(8), int64(1)\n",
      "memory usage: 78.5 KB\n"
     ]
    }
   ],
   "source": [
    "df.info()"
   ]
  },
  {
   "cell_type": "markdown",
   "metadata": {},
   "source": [
    "### Split the dataset into train set test set also the validation "
   ]
  },
  {
   "cell_type": "code",
   "execution_count": 28,
   "metadata": {},
   "outputs": [],
   "source": [
    "X = df.drop('strength', axis=1)\n",
    "y = df['strength']"
   ]
  },
  {
   "cell_type": "code",
   "execution_count": 29,
   "metadata": {},
   "outputs": [
    {
     "name": "stdout",
     "output_type": "stream",
     "text": [
      "<class 'pandas.core.frame.DataFrame'>\n",
      "<class 'pandas.core.series.Series'>\n"
     ]
    }
   ],
   "source": [
    "print(type(X))\n",
    "print(type(y))"
   ]
  },
  {
   "cell_type": "code",
   "execution_count": 30,
   "metadata": {},
   "outputs": [],
   "source": [
    "from sklearn.model_selection import train_test_split\n",
    "X_train, X_inter, y_train, y_inter = train_test_split(X, y, test_size=.3, random_state=1)\n",
    "X_validation, X_test, y_validation, y_test = train_test_split(X_inter, y_inter, test_size=.5, random_state=1)"
   ]
  },
  {
   "cell_type": "code",
   "execution_count": 31,
   "metadata": {},
   "outputs": [
    {
     "name": "stdout",
     "output_type": "stream",
     "text": [
      "(703, 8)\n",
      "(151, 8)\n",
      "(151, 8)\n"
     ]
    }
   ],
   "source": [
    "print(X_train.shape)\n",
    "print(X_validation.shape)\n",
    "print(X_test.shape)"
   ]
  },
  {
   "cell_type": "markdown",
   "metadata": {},
   "source": [
    "### Models"
   ]
  },
  {
   "cell_type": "markdown",
   "metadata": {},
   "source": [
    "#### Linear Regression"
   ]
  },
  {
   "cell_type": "code",
   "execution_count": 32,
   "metadata": {},
   "outputs": [],
   "source": [
    "model_name = 'Linear Regression'"
   ]
  },
  {
   "cell_type": "code",
   "execution_count": 33,
   "metadata": {},
   "outputs": [],
   "source": [
    "#X_train, X_inter, y_train, y_inter = train_test_split(X, y, test_size=.3, random_state=1)\n",
    "#X_validation, X_test, y_validation, y_test = train_test_split(X_inter, y_inter, test_size=.5, random_state=1)\n",
    "X_train, X_test, y_train, y_test = train_test_split(X, y, test_size=.3, random_state=1)"
   ]
  },
  {
   "cell_type": "code",
   "execution_count": 34,
   "metadata": {},
   "outputs": [
    {
     "data": {
      "text/plain": [
       "LinearRegression(copy_X=True, fit_intercept=True, n_jobs=None, normalize=False)"
      ]
     },
     "execution_count": 34,
     "metadata": {},
     "output_type": "execute_result"
    }
   ],
   "source": [
    "from sklearn.linear_model import LinearRegression\n",
    "\n",
    "model = LinearRegression()\n",
    "model.fit(X_train, y_train)"
   ]
  },
  {
   "cell_type": "code",
   "execution_count": 35,
   "metadata": {},
   "outputs": [],
   "source": [
    "from sklearn.metrics import mean_absolute_error, mean_squared_error, r2_score "
   ]
  },
  {
   "cell_type": "code",
   "execution_count": 36,
   "metadata": {},
   "outputs": [
    {
     "data": {
      "text/html": [
       "<div>\n",
       "<style scoped>\n",
       "    .dataframe tbody tr th:only-of-type {\n",
       "        vertical-align: middle;\n",
       "    }\n",
       "\n",
       "    .dataframe tbody tr th {\n",
       "        vertical-align: top;\n",
       "    }\n",
       "\n",
       "    .dataframe thead th {\n",
       "        text-align: right;\n",
       "    }\n",
       "</style>\n",
       "<table border=\"1\" class=\"dataframe\">\n",
       "  <thead>\n",
       "    <tr style=\"text-align: right;\">\n",
       "      <th></th>\n",
       "      <th>Method</th>\n",
       "      <th>Training accuracy</th>\n",
       "      <th>Testing accuracy</th>\n",
       "      <th>Mean Absolute Error</th>\n",
       "      <th>Root Mean Squared Error</th>\n",
       "      <th>R2 Squared</th>\n",
       "    </tr>\n",
       "  </thead>\n",
       "  <tbody>\n",
       "    <tr>\n",
       "      <th>0</th>\n",
       "      <td>Linear Regression</td>\n",
       "      <td>0.6217</td>\n",
       "      <td>0.5420</td>\n",
       "      <td>8.0367</td>\n",
       "      <td>10.3168</td>\n",
       "      <td>0.5420</td>\n",
       "    </tr>\n",
       "  </tbody>\n",
       "</table>\n",
       "</div>"
      ],
      "text/plain": [
       "              Method  Training accuracy  Testing accuracy  \\\n",
       "0  Linear Regression             0.6217            0.5420   \n",
       "\n",
       "   Mean Absolute Error  Root Mean Squared Error  R2 Squared  \n",
       "0               8.0367                  10.3168      0.5420  "
      ]
     },
     "execution_count": 36,
     "metadata": {},
     "output_type": "execute_result"
    }
   ],
   "source": [
    "y_pred = model.predict(X_test)\n",
    "\n",
    "# Mean Absolute Error\n",
    "mae = mean_absolute_error(y_test, y_pred)\n",
    "\n",
    "# RMSE (Root Mean Squared Error)\n",
    "rmse = mean_squared_error(y_test, y_pred)**0.5\n",
    "\n",
    "# R2 Squared:\n",
    "r2s = r2_score(y_test, y_pred)\n",
    "\n",
    "# Training Score\n",
    "accuracy_training = model.score(X_train, y_train)\n",
    "\n",
    "# Testing Score\n",
    "accuracy_testing = model.score(X_test, y_test)\n",
    "\n",
    "#Store the accuracy results for each model in a dataframe for final comparison\n",
    "resultsDf = pd.DataFrame({'Method':[model_name],\n",
    "                          'Training accuracy': [accuracy_training],\n",
    "                          'Testing accuracy': [accuracy_testing],\n",
    "                          'Mean Absolute Error': [mae],\n",
    "                          'Root Mean Squared Error': [rmse],\n",
    "                          'R2 Squared': [r2s]\n",
    "                         })\n",
    "resultsDf = resultsDf[['Method', 'Training accuracy', 'Testing accuracy', 'Mean Absolute Error', 'Root Mean Squared Error', 'R2 Squared']]\n",
    "resultsDf"
   ]
  },
  {
   "cell_type": "code",
   "execution_count": 37,
   "metadata": {},
   "outputs": [
    {
     "data": {
      "text/html": [
       "<div>\n",
       "<style scoped>\n",
       "    .dataframe tbody tr th:only-of-type {\n",
       "        vertical-align: middle;\n",
       "    }\n",
       "\n",
       "    .dataframe tbody tr th {\n",
       "        vertical-align: top;\n",
       "    }\n",
       "\n",
       "    .dataframe thead th {\n",
       "        text-align: right;\n",
       "    }\n",
       "</style>\n",
       "<table border=\"1\" class=\"dataframe\">\n",
       "  <thead>\n",
       "    <tr style=\"text-align: right;\">\n",
       "      <th></th>\n",
       "      <th>Col</th>\n",
       "      <th>Coeff</th>\n",
       "    </tr>\n",
       "  </thead>\n",
       "  <tbody>\n",
       "    <tr>\n",
       "      <th>0</th>\n",
       "      <td>cement</td>\n",
       "      <td>0.1300</td>\n",
       "    </tr>\n",
       "    <tr>\n",
       "      <th>1</th>\n",
       "      <td>slag</td>\n",
       "      <td>0.1300</td>\n",
       "    </tr>\n",
       "    <tr>\n",
       "      <th>2</th>\n",
       "      <td>ash</td>\n",
       "      <td>0.1300</td>\n",
       "    </tr>\n",
       "    <tr>\n",
       "      <th>3</th>\n",
       "      <td>water</td>\n",
       "      <td>0.1300</td>\n",
       "    </tr>\n",
       "    <tr>\n",
       "      <th>4</th>\n",
       "      <td>superplastic</td>\n",
       "      <td>0.1300</td>\n",
       "    </tr>\n",
       "    <tr>\n",
       "      <th>5</th>\n",
       "      <td>coarseagg</td>\n",
       "      <td>0.1300</td>\n",
       "    </tr>\n",
       "    <tr>\n",
       "      <th>6</th>\n",
       "      <td>fineagg</td>\n",
       "      <td>0.1300</td>\n",
       "    </tr>\n",
       "    <tr>\n",
       "      <th>7</th>\n",
       "      <td>age</td>\n",
       "      <td>0.1300</td>\n",
       "    </tr>\n",
       "  </tbody>\n",
       "</table>\n",
       "</div>"
      ],
      "text/plain": [
       "            Col  Coeff\n",
       "0        cement 0.1300\n",
       "1          slag 0.1300\n",
       "2           ash 0.1300\n",
       "3         water 0.1300\n",
       "4  superplastic 0.1300\n",
       "5     coarseagg 0.1300\n",
       "6       fineagg 0.1300\n",
       "7           age 0.1300"
      ]
     },
     "execution_count": 37,
     "metadata": {},
     "output_type": "execute_result"
    }
   ],
   "source": [
    "## Feature Importance or Coefficients \n",
    "fi = pd.DataFrame()\n",
    "fi['Col'] = X_train.columns\n",
    "fi['Coeff'] = np.round(abs(model.coef_[0]),4)\n",
    "fi.sort_values(by='Coeff',ascending=False)"
   ]
  },
  {
   "cell_type": "markdown",
   "metadata": {},
   "source": [
    "#### Linear Regression (Preprocessing Scale)"
   ]
  },
  {
   "cell_type": "code",
   "execution_count": 38,
   "metadata": {},
   "outputs": [],
   "source": [
    "model_name = 'Linear Regression (Preprocessing Scale)'"
   ]
  },
  {
   "cell_type": "code",
   "execution_count": 39,
   "metadata": {},
   "outputs": [],
   "source": [
    "#X_train, X_inter, y_train, y_inter = train_test_split(X, y, test_size=.3, random_state=1)\n",
    "#X_validation, X_test, y_validation, y_test = train_test_split(X_inter, y_inter, test_size=.5, random_state=1)\n",
    "X_train, X_test, y_train, y_test = train_test_split(X, y, test_size=.3, random_state=1)"
   ]
  },
  {
   "cell_type": "code",
   "execution_count": 40,
   "metadata": {},
   "outputs": [],
   "source": [
    "from sklearn import preprocessing\n",
    "from sklearn.preprocessing import StandardScaler, MinMaxScaler\n",
    "\n",
    "X_train = preprocessing.scale(X_train)\n",
    "X_test = preprocessing.scale(X_test)"
   ]
  },
  {
   "cell_type": "code",
   "execution_count": 41,
   "metadata": {},
   "outputs": [
    {
     "data": {
      "text/plain": [
       "LinearRegression(copy_X=True, fit_intercept=True, n_jobs=None, normalize=False)"
      ]
     },
     "execution_count": 41,
     "metadata": {},
     "output_type": "execute_result"
    }
   ],
   "source": [
    "model = LinearRegression()\n",
    "model.fit(X_train, y_train)"
   ]
  },
  {
   "cell_type": "code",
   "execution_count": 42,
   "metadata": {},
   "outputs": [],
   "source": [
    "# Function to calculate and print the score for each models\n",
    "\n",
    "def print_results(model, X_train, y_train, X_test, y_test, resultsDf):\n",
    "    y_pred = model.predict(X_test)\n",
    "\n",
    "    # Mean Absolute Error\n",
    "    mae = mean_absolute_error(y_test, y_pred)\n",
    "\n",
    "    # RMSE (Root Mean Squared Error)\n",
    "    rmse = mean_squared_error(y_test, y_pred)**0.5\n",
    "\n",
    "    # R2 Squared:\n",
    "    r2s = r2_score(y_test, y_pred)\n",
    "\n",
    "    # Training Score\n",
    "    accuracy_training = model.score(X_train, y_train)\n",
    "\n",
    "    # Testing Score\n",
    "    accuracy_testing = model.score(X_test, y_test)\n",
    "\n",
    "    tempResultsDf = pd.DataFrame({'Method':[model_name],\n",
    "                                'Training accuracy': [accuracy_training],\n",
    "                                'Testing accuracy': [accuracy_testing],\n",
    "                                'Mean Absolute Error': [mae],\n",
    "                                'Root Mean Squared Error': [rmse],\n",
    "                                'R2 Squared': [r2s]\n",
    "                             })\n",
    "    resultsDf = pd.concat([resultsDf, tempResultsDf])\n",
    "    resultsDf = resultsDf[['Method', 'Training accuracy', 'Testing accuracy', 'Mean Absolute Error', 'Root Mean Squared Error', 'R2 Squared']].reset_index()\n",
    "    return resultsDf"
   ]
  },
  {
   "cell_type": "code",
   "execution_count": 43,
   "metadata": {},
   "outputs": [
    {
     "data": {
      "text/html": [
       "<div>\n",
       "<style scoped>\n",
       "    .dataframe tbody tr th:only-of-type {\n",
       "        vertical-align: middle;\n",
       "    }\n",
       "\n",
       "    .dataframe tbody tr th {\n",
       "        vertical-align: top;\n",
       "    }\n",
       "\n",
       "    .dataframe thead th {\n",
       "        text-align: right;\n",
       "    }\n",
       "</style>\n",
       "<table border=\"1\" class=\"dataframe\">\n",
       "  <thead>\n",
       "    <tr style=\"text-align: right;\">\n",
       "      <th></th>\n",
       "      <th>index</th>\n",
       "      <th>Method</th>\n",
       "      <th>Training accuracy</th>\n",
       "      <th>Testing accuracy</th>\n",
       "      <th>Mean Absolute Error</th>\n",
       "      <th>Root Mean Squared Error</th>\n",
       "      <th>R2 Squared</th>\n",
       "    </tr>\n",
       "  </thead>\n",
       "  <tbody>\n",
       "    <tr>\n",
       "      <th>0</th>\n",
       "      <td>0</td>\n",
       "      <td>Linear Regression</td>\n",
       "      <td>0.6217</td>\n",
       "      <td>0.5420</td>\n",
       "      <td>8.0367</td>\n",
       "      <td>10.3168</td>\n",
       "      <td>0.5420</td>\n",
       "    </tr>\n",
       "    <tr>\n",
       "      <th>1</th>\n",
       "      <td>0</td>\n",
       "      <td>Linear Regression (Preprocessing Scale)</td>\n",
       "      <td>0.6217</td>\n",
       "      <td>0.5186</td>\n",
       "      <td>8.0143</td>\n",
       "      <td>10.5766</td>\n",
       "      <td>0.5186</td>\n",
       "    </tr>\n",
       "  </tbody>\n",
       "</table>\n",
       "</div>"
      ],
      "text/plain": [
       "   index                                   Method  Training accuracy  \\\n",
       "0      0                        Linear Regression             0.6217   \n",
       "1      0  Linear Regression (Preprocessing Scale)             0.6217   \n",
       "\n",
       "   Testing accuracy  Mean Absolute Error  Root Mean Squared Error  R2 Squared  \n",
       "0            0.5420               8.0367                  10.3168      0.5420  \n",
       "1            0.5186               8.0143                  10.5766      0.5186  "
      ]
     },
     "execution_count": 43,
     "metadata": {},
     "output_type": "execute_result"
    }
   ],
   "source": [
    "resultsDf = print_results(model, X_train, y_train, X_test, y_test, resultsDf)\n",
    "resultsDf"
   ]
  },
  {
   "cell_type": "markdown",
   "metadata": {},
   "source": [
    "#### Linear Regression (Standard Scaler)"
   ]
  },
  {
   "cell_type": "code",
   "execution_count": 44,
   "metadata": {},
   "outputs": [],
   "source": [
    "model_name = 'Linear Regression (Standard Scale)'"
   ]
  },
  {
   "cell_type": "code",
   "execution_count": 45,
   "metadata": {},
   "outputs": [],
   "source": [
    "#X_train, X_inter, y_train, y_inter = train_test_split(X, y, test_size=.3, random_state=1)\n",
    "#X_validation, X_test, y_validation, y_test = train_test_split(X_inter, y_inter, test_size=.5, random_state=1)\n",
    "X_train, X_test, y_train, y_test = train_test_split(X, y, test_size=.3, random_state=1)"
   ]
  },
  {
   "cell_type": "code",
   "execution_count": 46,
   "metadata": {},
   "outputs": [],
   "source": [
    "scaler = StandardScaler()\n",
    "scaler.fit(X_train)\n",
    "X_train = scaler.transform(X_train)\n",
    "X_test= scaler.transform(X_test)"
   ]
  },
  {
   "cell_type": "code",
   "execution_count": 47,
   "metadata": {},
   "outputs": [
    {
     "data": {
      "text/plain": [
       "LinearRegression(copy_X=True, fit_intercept=True, n_jobs=None, normalize=False)"
      ]
     },
     "execution_count": 47,
     "metadata": {},
     "output_type": "execute_result"
    }
   ],
   "source": [
    "model = LinearRegression()\n",
    "model.fit(X_train, y_train)"
   ]
  },
  {
   "cell_type": "code",
   "execution_count": 48,
   "metadata": {},
   "outputs": [
    {
     "data": {
      "text/html": [
       "<div>\n",
       "<style scoped>\n",
       "    .dataframe tbody tr th:only-of-type {\n",
       "        vertical-align: middle;\n",
       "    }\n",
       "\n",
       "    .dataframe tbody tr th {\n",
       "        vertical-align: top;\n",
       "    }\n",
       "\n",
       "    .dataframe thead th {\n",
       "        text-align: right;\n",
       "    }\n",
       "</style>\n",
       "<table border=\"1\" class=\"dataframe\">\n",
       "  <thead>\n",
       "    <tr style=\"text-align: right;\">\n",
       "      <th></th>\n",
       "      <th>index</th>\n",
       "      <th>Method</th>\n",
       "      <th>Training accuracy</th>\n",
       "      <th>Testing accuracy</th>\n",
       "      <th>Mean Absolute Error</th>\n",
       "      <th>Root Mean Squared Error</th>\n",
       "      <th>R2 Squared</th>\n",
       "    </tr>\n",
       "  </thead>\n",
       "  <tbody>\n",
       "    <tr>\n",
       "      <th>0</th>\n",
       "      <td>0</td>\n",
       "      <td>Linear Regression</td>\n",
       "      <td>0.6217</td>\n",
       "      <td>0.5420</td>\n",
       "      <td>8.0367</td>\n",
       "      <td>10.3168</td>\n",
       "      <td>0.5420</td>\n",
       "    </tr>\n",
       "    <tr>\n",
       "      <th>1</th>\n",
       "      <td>1</td>\n",
       "      <td>Linear Regression (Preprocessing Scale)</td>\n",
       "      <td>0.6217</td>\n",
       "      <td>0.5186</td>\n",
       "      <td>8.0143</td>\n",
       "      <td>10.5766</td>\n",
       "      <td>0.5186</td>\n",
       "    </tr>\n",
       "    <tr>\n",
       "      <th>2</th>\n",
       "      <td>0</td>\n",
       "      <td>Linear Regression (Standard Scale)</td>\n",
       "      <td>0.6217</td>\n",
       "      <td>0.5420</td>\n",
       "      <td>8.0367</td>\n",
       "      <td>10.3168</td>\n",
       "      <td>0.5420</td>\n",
       "    </tr>\n",
       "  </tbody>\n",
       "</table>\n",
       "</div>"
      ],
      "text/plain": [
       "   index                                   Method  Training accuracy  \\\n",
       "0      0                        Linear Regression             0.6217   \n",
       "1      1  Linear Regression (Preprocessing Scale)             0.6217   \n",
       "2      0       Linear Regression (Standard Scale)             0.6217   \n",
       "\n",
       "   Testing accuracy  Mean Absolute Error  Root Mean Squared Error  R2 Squared  \n",
       "0            0.5420               8.0367                  10.3168      0.5420  \n",
       "1            0.5186               8.0143                  10.5766      0.5186  \n",
       "2            0.5420               8.0367                  10.3168      0.5420  "
      ]
     },
     "execution_count": 48,
     "metadata": {},
     "output_type": "execute_result"
    }
   ],
   "source": [
    "resultsDf = print_results(model, X_train, y_train, X_test, y_test, resultsDf)\n",
    "resultsDf"
   ]
  },
  {
   "cell_type": "markdown",
   "metadata": {},
   "source": [
    "#### Linear Regression (MixMax Scaler)"
   ]
  },
  {
   "cell_type": "code",
   "execution_count": 49,
   "metadata": {},
   "outputs": [],
   "source": [
    "model_name = 'Linear Regression (MinMax Scale)'"
   ]
  },
  {
   "cell_type": "code",
   "execution_count": 50,
   "metadata": {},
   "outputs": [],
   "source": [
    "#X_train, X_inter, y_train, y_inter = train_test_split(X, y, test_size=.3, random_state=1)\n",
    "#X_validation, X_test, y_validation, y_test = train_test_split(X_inter, y_inter, test_size=.5, random_state=1)\n",
    "X_train, X_test, y_train, y_test = train_test_split(X, y, test_size=.3, random_state=1)"
   ]
  },
  {
   "cell_type": "code",
   "execution_count": 51,
   "metadata": {},
   "outputs": [],
   "source": [
    "scaler = MinMaxScaler()\n",
    "scaler.fit(X_train)\n",
    "X_train = scaler.transform(X_train)\n",
    "X_test = scaler.transform(X_test)"
   ]
  },
  {
   "cell_type": "code",
   "execution_count": 52,
   "metadata": {},
   "outputs": [
    {
     "data": {
      "text/plain": [
       "LinearRegression(copy_X=True, fit_intercept=True, n_jobs=None, normalize=False)"
      ]
     },
     "execution_count": 52,
     "metadata": {},
     "output_type": "execute_result"
    }
   ],
   "source": [
    "model = LinearRegression()\n",
    "model.fit(X_train, y_train)"
   ]
  },
  {
   "cell_type": "code",
   "execution_count": 53,
   "metadata": {},
   "outputs": [
    {
     "data": {
      "text/html": [
       "<div>\n",
       "<style scoped>\n",
       "    .dataframe tbody tr th:only-of-type {\n",
       "        vertical-align: middle;\n",
       "    }\n",
       "\n",
       "    .dataframe tbody tr th {\n",
       "        vertical-align: top;\n",
       "    }\n",
       "\n",
       "    .dataframe thead th {\n",
       "        text-align: right;\n",
       "    }\n",
       "</style>\n",
       "<table border=\"1\" class=\"dataframe\">\n",
       "  <thead>\n",
       "    <tr style=\"text-align: right;\">\n",
       "      <th></th>\n",
       "      <th>index</th>\n",
       "      <th>Method</th>\n",
       "      <th>Training accuracy</th>\n",
       "      <th>Testing accuracy</th>\n",
       "      <th>Mean Absolute Error</th>\n",
       "      <th>Root Mean Squared Error</th>\n",
       "      <th>R2 Squared</th>\n",
       "    </tr>\n",
       "  </thead>\n",
       "  <tbody>\n",
       "    <tr>\n",
       "      <th>0</th>\n",
       "      <td>0</td>\n",
       "      <td>Linear Regression</td>\n",
       "      <td>0.6217</td>\n",
       "      <td>0.5420</td>\n",
       "      <td>8.0367</td>\n",
       "      <td>10.3168</td>\n",
       "      <td>0.5420</td>\n",
       "    </tr>\n",
       "    <tr>\n",
       "      <th>1</th>\n",
       "      <td>1</td>\n",
       "      <td>Linear Regression (Preprocessing Scale)</td>\n",
       "      <td>0.6217</td>\n",
       "      <td>0.5186</td>\n",
       "      <td>8.0143</td>\n",
       "      <td>10.5766</td>\n",
       "      <td>0.5186</td>\n",
       "    </tr>\n",
       "    <tr>\n",
       "      <th>2</th>\n",
       "      <td>2</td>\n",
       "      <td>Linear Regression (Standard Scale)</td>\n",
       "      <td>0.6217</td>\n",
       "      <td>0.5420</td>\n",
       "      <td>8.0367</td>\n",
       "      <td>10.3168</td>\n",
       "      <td>0.5420</td>\n",
       "    </tr>\n",
       "    <tr>\n",
       "      <th>3</th>\n",
       "      <td>0</td>\n",
       "      <td>Linear Regression (MinMax Scale)</td>\n",
       "      <td>0.6217</td>\n",
       "      <td>0.5420</td>\n",
       "      <td>8.0367</td>\n",
       "      <td>10.3168</td>\n",
       "      <td>0.5420</td>\n",
       "    </tr>\n",
       "  </tbody>\n",
       "</table>\n",
       "</div>"
      ],
      "text/plain": [
       "   index                                   Method  Training accuracy  \\\n",
       "0      0                        Linear Regression             0.6217   \n",
       "1      1  Linear Regression (Preprocessing Scale)             0.6217   \n",
       "2      2       Linear Regression (Standard Scale)             0.6217   \n",
       "3      0         Linear Regression (MinMax Scale)             0.6217   \n",
       "\n",
       "   Testing accuracy  Mean Absolute Error  Root Mean Squared Error  R2 Squared  \n",
       "0            0.5420               8.0367                  10.3168      0.5420  \n",
       "1            0.5186               8.0143                  10.5766      0.5186  \n",
       "2            0.5420               8.0367                  10.3168      0.5420  \n",
       "3            0.5420               8.0367                  10.3168      0.5420  "
      ]
     },
     "execution_count": 53,
     "metadata": {},
     "output_type": "execute_result"
    }
   ],
   "source": [
    "resultsDf = print_results(model, X_train, y_train, X_test, y_test, resultsDf)\n",
    "resultsDf"
   ]
  },
  {
   "cell_type": "markdown",
   "metadata": {},
   "source": [
    "#### Ridge Regression"
   ]
  },
  {
   "cell_type": "code",
   "execution_count": 54,
   "metadata": {},
   "outputs": [],
   "source": [
    "model_name = 'Ridge Regression'"
   ]
  },
  {
   "cell_type": "code",
   "execution_count": 55,
   "metadata": {},
   "outputs": [],
   "source": [
    "#X_train, X_inter, y_train, y_inter = train_test_split(X, y, test_size=.3, random_state=1)\n",
    "#X_validation, X_test, y_validation, y_test = train_test_split(X_inter, y_inter, test_size=.5, random_state=1)\n",
    "X_train, X_test, y_train, y_test = train_test_split(X, y, test_size=.3, random_state=1)"
   ]
  },
  {
   "cell_type": "code",
   "execution_count": 56,
   "metadata": {},
   "outputs": [],
   "source": [
    "from sklearn.linear_model import Ridge"
   ]
  },
  {
   "cell_type": "code",
   "execution_count": 57,
   "metadata": {},
   "outputs": [
    {
     "data": {
      "text/plain": [
       "Ridge(alpha=0.3, copy_X=True, fit_intercept=True, max_iter=None,\n",
       "      normalize=False, random_state=None, solver='auto', tol=0.001)"
      ]
     },
     "execution_count": 57,
     "metadata": {},
     "output_type": "execute_result"
    }
   ],
   "source": [
    "model = Ridge(alpha=.3)\n",
    "model.fit(X_train, y_train)"
   ]
  },
  {
   "cell_type": "code",
   "execution_count": 58,
   "metadata": {},
   "outputs": [
    {
     "data": {
      "text/html": [
       "<div>\n",
       "<style scoped>\n",
       "    .dataframe tbody tr th:only-of-type {\n",
       "        vertical-align: middle;\n",
       "    }\n",
       "\n",
       "    .dataframe tbody tr th {\n",
       "        vertical-align: top;\n",
       "    }\n",
       "\n",
       "    .dataframe thead th {\n",
       "        text-align: right;\n",
       "    }\n",
       "</style>\n",
       "<table border=\"1\" class=\"dataframe\">\n",
       "  <thead>\n",
       "    <tr style=\"text-align: right;\">\n",
       "      <th></th>\n",
       "      <th>index</th>\n",
       "      <th>Method</th>\n",
       "      <th>Training accuracy</th>\n",
       "      <th>Testing accuracy</th>\n",
       "      <th>Mean Absolute Error</th>\n",
       "      <th>Root Mean Squared Error</th>\n",
       "      <th>R2 Squared</th>\n",
       "    </tr>\n",
       "  </thead>\n",
       "  <tbody>\n",
       "    <tr>\n",
       "      <th>0</th>\n",
       "      <td>0</td>\n",
       "      <td>Linear Regression</td>\n",
       "      <td>0.6217</td>\n",
       "      <td>0.5420</td>\n",
       "      <td>8.0367</td>\n",
       "      <td>10.3168</td>\n",
       "      <td>0.5420</td>\n",
       "    </tr>\n",
       "    <tr>\n",
       "      <th>1</th>\n",
       "      <td>1</td>\n",
       "      <td>Linear Regression (Preprocessing Scale)</td>\n",
       "      <td>0.6217</td>\n",
       "      <td>0.5186</td>\n",
       "      <td>8.0143</td>\n",
       "      <td>10.5766</td>\n",
       "      <td>0.5186</td>\n",
       "    </tr>\n",
       "    <tr>\n",
       "      <th>2</th>\n",
       "      <td>2</td>\n",
       "      <td>Linear Regression (Standard Scale)</td>\n",
       "      <td>0.6217</td>\n",
       "      <td>0.5420</td>\n",
       "      <td>8.0367</td>\n",
       "      <td>10.3168</td>\n",
       "      <td>0.5420</td>\n",
       "    </tr>\n",
       "    <tr>\n",
       "      <th>3</th>\n",
       "      <td>3</td>\n",
       "      <td>Linear Regression (MinMax Scale)</td>\n",
       "      <td>0.6217</td>\n",
       "      <td>0.5420</td>\n",
       "      <td>8.0367</td>\n",
       "      <td>10.3168</td>\n",
       "      <td>0.5420</td>\n",
       "    </tr>\n",
       "    <tr>\n",
       "      <th>4</th>\n",
       "      <td>0</td>\n",
       "      <td>Ridge Regression</td>\n",
       "      <td>0.6217</td>\n",
       "      <td>0.5420</td>\n",
       "      <td>8.0367</td>\n",
       "      <td>10.3168</td>\n",
       "      <td>0.5420</td>\n",
       "    </tr>\n",
       "  </tbody>\n",
       "</table>\n",
       "</div>"
      ],
      "text/plain": [
       "   index                                   Method  Training accuracy  \\\n",
       "0      0                        Linear Regression             0.6217   \n",
       "1      1  Linear Regression (Preprocessing Scale)             0.6217   \n",
       "2      2       Linear Regression (Standard Scale)             0.6217   \n",
       "3      3         Linear Regression (MinMax Scale)             0.6217   \n",
       "4      0                         Ridge Regression             0.6217   \n",
       "\n",
       "   Testing accuracy  Mean Absolute Error  Root Mean Squared Error  R2 Squared  \n",
       "0            0.5420               8.0367                  10.3168      0.5420  \n",
       "1            0.5186               8.0143                  10.5766      0.5186  \n",
       "2            0.5420               8.0367                  10.3168      0.5420  \n",
       "3            0.5420               8.0367                  10.3168      0.5420  \n",
       "4            0.5420               8.0367                  10.3168      0.5420  "
      ]
     },
     "execution_count": 58,
     "metadata": {},
     "output_type": "execute_result"
    }
   ],
   "source": [
    "resultsDf = print_results(model, X_train, y_train, X_test, y_test, resultsDf)\n",
    "resultsDf"
   ]
  },
  {
   "cell_type": "markdown",
   "metadata": {},
   "source": [
    "#### Ridge Regression (Standard Scaler)"
   ]
  },
  {
   "cell_type": "code",
   "execution_count": 59,
   "metadata": {},
   "outputs": [],
   "source": [
    "model_name = 'Ridge Regression (Standard Scaler)'"
   ]
  },
  {
   "cell_type": "code",
   "execution_count": 60,
   "metadata": {},
   "outputs": [],
   "source": [
    "#X_train, X_inter, y_train, y_inter = train_test_split(X, y, test_size=.3, random_state=1)\n",
    "#X_validation, X_test, y_validation, y_test = train_test_split(X_inter, y_inter, test_size=.5, random_state=1)\n",
    "X_train, X_test, y_train, y_test = train_test_split(X, y, test_size=.3, random_state=1)"
   ]
  },
  {
   "cell_type": "code",
   "execution_count": 61,
   "metadata": {},
   "outputs": [],
   "source": [
    "scaler = StandardScaler()\n",
    "scaler.fit(X_train)\n",
    "X_train = scaler.transform(X_train)\n",
    "X_test = scaler.transform(X_test)"
   ]
  },
  {
   "cell_type": "code",
   "execution_count": 62,
   "metadata": {},
   "outputs": [],
   "source": [
    "from sklearn.linear_model import Ridge"
   ]
  },
  {
   "cell_type": "code",
   "execution_count": 63,
   "metadata": {},
   "outputs": [
    {
     "data": {
      "text/plain": [
       "Ridge(alpha=0.3, copy_X=True, fit_intercept=True, max_iter=None,\n",
       "      normalize=False, random_state=None, solver='auto', tol=0.001)"
      ]
     },
     "execution_count": 63,
     "metadata": {},
     "output_type": "execute_result"
    }
   ],
   "source": [
    "model = Ridge(alpha=.3)\n",
    "model.fit(X_train, y_train)"
   ]
  },
  {
   "cell_type": "code",
   "execution_count": 64,
   "metadata": {},
   "outputs": [
    {
     "data": {
      "text/html": [
       "<div>\n",
       "<style scoped>\n",
       "    .dataframe tbody tr th:only-of-type {\n",
       "        vertical-align: middle;\n",
       "    }\n",
       "\n",
       "    .dataframe tbody tr th {\n",
       "        vertical-align: top;\n",
       "    }\n",
       "\n",
       "    .dataframe thead th {\n",
       "        text-align: right;\n",
       "    }\n",
       "</style>\n",
       "<table border=\"1\" class=\"dataframe\">\n",
       "  <thead>\n",
       "    <tr style=\"text-align: right;\">\n",
       "      <th></th>\n",
       "      <th>index</th>\n",
       "      <th>Method</th>\n",
       "      <th>Training accuracy</th>\n",
       "      <th>Testing accuracy</th>\n",
       "      <th>Mean Absolute Error</th>\n",
       "      <th>Root Mean Squared Error</th>\n",
       "      <th>R2 Squared</th>\n",
       "    </tr>\n",
       "  </thead>\n",
       "  <tbody>\n",
       "    <tr>\n",
       "      <th>0</th>\n",
       "      <td>0</td>\n",
       "      <td>Linear Regression</td>\n",
       "      <td>0.6217</td>\n",
       "      <td>0.5420</td>\n",
       "      <td>8.0367</td>\n",
       "      <td>10.3168</td>\n",
       "      <td>0.5420</td>\n",
       "    </tr>\n",
       "    <tr>\n",
       "      <th>1</th>\n",
       "      <td>1</td>\n",
       "      <td>Linear Regression (Preprocessing Scale)</td>\n",
       "      <td>0.6217</td>\n",
       "      <td>0.5186</td>\n",
       "      <td>8.0143</td>\n",
       "      <td>10.5766</td>\n",
       "      <td>0.5186</td>\n",
       "    </tr>\n",
       "    <tr>\n",
       "      <th>2</th>\n",
       "      <td>2</td>\n",
       "      <td>Linear Regression (Standard Scale)</td>\n",
       "      <td>0.6217</td>\n",
       "      <td>0.5420</td>\n",
       "      <td>8.0367</td>\n",
       "      <td>10.3168</td>\n",
       "      <td>0.5420</td>\n",
       "    </tr>\n",
       "    <tr>\n",
       "      <th>3</th>\n",
       "      <td>3</td>\n",
       "      <td>Linear Regression (MinMax Scale)</td>\n",
       "      <td>0.6217</td>\n",
       "      <td>0.5420</td>\n",
       "      <td>8.0367</td>\n",
       "      <td>10.3168</td>\n",
       "      <td>0.5420</td>\n",
       "    </tr>\n",
       "    <tr>\n",
       "      <th>4</th>\n",
       "      <td>4</td>\n",
       "      <td>Ridge Regression</td>\n",
       "      <td>0.6217</td>\n",
       "      <td>0.5420</td>\n",
       "      <td>8.0367</td>\n",
       "      <td>10.3168</td>\n",
       "      <td>0.5420</td>\n",
       "    </tr>\n",
       "    <tr>\n",
       "      <th>5</th>\n",
       "      <td>0</td>\n",
       "      <td>Ridge Regression (Standard Scaler)</td>\n",
       "      <td>0.6217</td>\n",
       "      <td>0.5423</td>\n",
       "      <td>8.0363</td>\n",
       "      <td>10.3128</td>\n",
       "      <td>0.5423</td>\n",
       "    </tr>\n",
       "  </tbody>\n",
       "</table>\n",
       "</div>"
      ],
      "text/plain": [
       "   index                                   Method  Training accuracy  \\\n",
       "0      0                        Linear Regression             0.6217   \n",
       "1      1  Linear Regression (Preprocessing Scale)             0.6217   \n",
       "2      2       Linear Regression (Standard Scale)             0.6217   \n",
       "3      3         Linear Regression (MinMax Scale)             0.6217   \n",
       "4      4                         Ridge Regression             0.6217   \n",
       "5      0       Ridge Regression (Standard Scaler)             0.6217   \n",
       "\n",
       "   Testing accuracy  Mean Absolute Error  Root Mean Squared Error  R2 Squared  \n",
       "0            0.5420               8.0367                  10.3168      0.5420  \n",
       "1            0.5186               8.0143                  10.5766      0.5186  \n",
       "2            0.5420               8.0367                  10.3168      0.5420  \n",
       "3            0.5420               8.0367                  10.3168      0.5420  \n",
       "4            0.5420               8.0367                  10.3168      0.5420  \n",
       "5            0.5423               8.0363                  10.3128      0.5423  "
      ]
     },
     "execution_count": 64,
     "metadata": {},
     "output_type": "execute_result"
    }
   ],
   "source": [
    "resultsDf = print_results(model, X_train, y_train, X_test, y_test, resultsDf)\n",
    "resultsDf"
   ]
  },
  {
   "cell_type": "markdown",
   "metadata": {},
   "source": [
    "#### Lasso Regression"
   ]
  },
  {
   "cell_type": "code",
   "execution_count": 65,
   "metadata": {},
   "outputs": [],
   "source": [
    "model_name = 'Lasso Regression'"
   ]
  },
  {
   "cell_type": "code",
   "execution_count": 66,
   "metadata": {},
   "outputs": [],
   "source": [
    "from sklearn.linear_model import Lasso"
   ]
  },
  {
   "cell_type": "code",
   "execution_count": 67,
   "metadata": {},
   "outputs": [],
   "source": [
    "#X_train, X_inter, y_train, y_inter = train_test_split(X, y, test_size=.3, random_state=1)\n",
    "#X_validation, X_test, y_validation, y_test = train_test_split(X_inter, y_inter, test_size=.5, random_state=1)\n",
    "X_train, X_test, y_train, y_test = train_test_split(X, y, test_size=.3, random_state=1)"
   ]
  },
  {
   "cell_type": "code",
   "execution_count": 68,
   "metadata": {},
   "outputs": [
    {
     "data": {
      "text/plain": [
       "Lasso(alpha=0.2, copy_X=True, fit_intercept=True, max_iter=1000,\n",
       "      normalize=False, positive=False, precompute=False, random_state=None,\n",
       "      selection='cyclic', tol=0.0001, warm_start=False)"
      ]
     },
     "execution_count": 68,
     "metadata": {},
     "output_type": "execute_result"
    }
   ],
   "source": [
    "model = Lasso(alpha=0.2)\n",
    "model.fit(X_train, y_train)"
   ]
  },
  {
   "cell_type": "code",
   "execution_count": 69,
   "metadata": {},
   "outputs": [
    {
     "data": {
      "text/html": [
       "<div>\n",
       "<style scoped>\n",
       "    .dataframe tbody tr th:only-of-type {\n",
       "        vertical-align: middle;\n",
       "    }\n",
       "\n",
       "    .dataframe tbody tr th {\n",
       "        vertical-align: top;\n",
       "    }\n",
       "\n",
       "    .dataframe thead th {\n",
       "        text-align: right;\n",
       "    }\n",
       "</style>\n",
       "<table border=\"1\" class=\"dataframe\">\n",
       "  <thead>\n",
       "    <tr style=\"text-align: right;\">\n",
       "      <th></th>\n",
       "      <th>index</th>\n",
       "      <th>Method</th>\n",
       "      <th>Training accuracy</th>\n",
       "      <th>Testing accuracy</th>\n",
       "      <th>Mean Absolute Error</th>\n",
       "      <th>Root Mean Squared Error</th>\n",
       "      <th>R2 Squared</th>\n",
       "    </tr>\n",
       "  </thead>\n",
       "  <tbody>\n",
       "    <tr>\n",
       "      <th>0</th>\n",
       "      <td>0</td>\n",
       "      <td>Linear Regression</td>\n",
       "      <td>0.6217</td>\n",
       "      <td>0.5420</td>\n",
       "      <td>8.0367</td>\n",
       "      <td>10.3168</td>\n",
       "      <td>0.5420</td>\n",
       "    </tr>\n",
       "    <tr>\n",
       "      <th>1</th>\n",
       "      <td>1</td>\n",
       "      <td>Linear Regression (Preprocessing Scale)</td>\n",
       "      <td>0.6217</td>\n",
       "      <td>0.5186</td>\n",
       "      <td>8.0143</td>\n",
       "      <td>10.5766</td>\n",
       "      <td>0.5186</td>\n",
       "    </tr>\n",
       "    <tr>\n",
       "      <th>2</th>\n",
       "      <td>2</td>\n",
       "      <td>Linear Regression (Standard Scale)</td>\n",
       "      <td>0.6217</td>\n",
       "      <td>0.5420</td>\n",
       "      <td>8.0367</td>\n",
       "      <td>10.3168</td>\n",
       "      <td>0.5420</td>\n",
       "    </tr>\n",
       "    <tr>\n",
       "      <th>3</th>\n",
       "      <td>3</td>\n",
       "      <td>Linear Regression (MinMax Scale)</td>\n",
       "      <td>0.6217</td>\n",
       "      <td>0.5420</td>\n",
       "      <td>8.0367</td>\n",
       "      <td>10.3168</td>\n",
       "      <td>0.5420</td>\n",
       "    </tr>\n",
       "    <tr>\n",
       "      <th>4</th>\n",
       "      <td>4</td>\n",
       "      <td>Ridge Regression</td>\n",
       "      <td>0.6217</td>\n",
       "      <td>0.5420</td>\n",
       "      <td>8.0367</td>\n",
       "      <td>10.3168</td>\n",
       "      <td>0.5420</td>\n",
       "    </tr>\n",
       "    <tr>\n",
       "      <th>5</th>\n",
       "      <td>5</td>\n",
       "      <td>Ridge Regression (Standard Scaler)</td>\n",
       "      <td>0.6217</td>\n",
       "      <td>0.5423</td>\n",
       "      <td>8.0363</td>\n",
       "      <td>10.3128</td>\n",
       "      <td>0.5423</td>\n",
       "    </tr>\n",
       "    <tr>\n",
       "      <th>6</th>\n",
       "      <td>0</td>\n",
       "      <td>Lasso Regression</td>\n",
       "      <td>0.6217</td>\n",
       "      <td>0.5423</td>\n",
       "      <td>8.0343</td>\n",
       "      <td>10.3133</td>\n",
       "      <td>0.5423</td>\n",
       "    </tr>\n",
       "  </tbody>\n",
       "</table>\n",
       "</div>"
      ],
      "text/plain": [
       "   index                                   Method  Training accuracy  \\\n",
       "0      0                        Linear Regression             0.6217   \n",
       "1      1  Linear Regression (Preprocessing Scale)             0.6217   \n",
       "2      2       Linear Regression (Standard Scale)             0.6217   \n",
       "3      3         Linear Regression (MinMax Scale)             0.6217   \n",
       "4      4                         Ridge Regression             0.6217   \n",
       "5      5       Ridge Regression (Standard Scaler)             0.6217   \n",
       "6      0                         Lasso Regression             0.6217   \n",
       "\n",
       "   Testing accuracy  Mean Absolute Error  Root Mean Squared Error  R2 Squared  \n",
       "0            0.5420               8.0367                  10.3168      0.5420  \n",
       "1            0.5186               8.0143                  10.5766      0.5186  \n",
       "2            0.5420               8.0367                  10.3168      0.5420  \n",
       "3            0.5420               8.0367                  10.3168      0.5420  \n",
       "4            0.5420               8.0367                  10.3168      0.5420  \n",
       "5            0.5423               8.0363                  10.3128      0.5423  \n",
       "6            0.5423               8.0343                  10.3133      0.5423  "
      ]
     },
     "execution_count": 69,
     "metadata": {},
     "output_type": "execute_result"
    }
   ],
   "source": [
    "resultsDf = print_results(model, X_train, y_train, X_test, y_test, resultsDf)\n",
    "resultsDf"
   ]
  },
  {
   "cell_type": "markdown",
   "metadata": {},
   "source": [
    "#### Lasso Regression (Standard Scaler)"
   ]
  },
  {
   "cell_type": "code",
   "execution_count": 70,
   "metadata": {},
   "outputs": [],
   "source": [
    "model_name = 'Lasso Regression (Standard Scaler)'"
   ]
  },
  {
   "cell_type": "code",
   "execution_count": 71,
   "metadata": {},
   "outputs": [],
   "source": [
    "from sklearn.linear_model import Lasso"
   ]
  },
  {
   "cell_type": "code",
   "execution_count": 72,
   "metadata": {},
   "outputs": [],
   "source": [
    "#X_train, X_inter, y_train, y_inter = train_test_split(X, y, test_size=.3, random_state=1)\n",
    "#X_validation, X_test, y_validation, y_test = train_test_split(X_inter, y_inter, test_size=.5, random_state=1)\n",
    "X_train, X_test, y_train, y_test = train_test_split(X, y, test_size=.3, random_state=1)"
   ]
  },
  {
   "cell_type": "code",
   "execution_count": 73,
   "metadata": {},
   "outputs": [],
   "source": [
    "scaler = StandardScaler()\n",
    "scaler.fit(X_train)\n",
    "X_train = scaler.transform(X_train)\n",
    "X_test = scaler.transform(X_test)"
   ]
  },
  {
   "cell_type": "code",
   "execution_count": 74,
   "metadata": {},
   "outputs": [
    {
     "data": {
      "text/plain": [
       "Lasso(alpha=0.2, copy_X=True, fit_intercept=True, max_iter=1000,\n",
       "      normalize=False, positive=False, precompute=False, random_state=None,\n",
       "      selection='cyclic', tol=0.0001, warm_start=False)"
      ]
     },
     "execution_count": 74,
     "metadata": {},
     "output_type": "execute_result"
    }
   ],
   "source": [
    "model = Lasso(alpha=0.2)\n",
    "model.fit(X_train, y_train)"
   ]
  },
  {
   "cell_type": "code",
   "execution_count": 75,
   "metadata": {},
   "outputs": [
    {
     "data": {
      "text/html": [
       "<div>\n",
       "<style scoped>\n",
       "    .dataframe tbody tr th:only-of-type {\n",
       "        vertical-align: middle;\n",
       "    }\n",
       "\n",
       "    .dataframe tbody tr th {\n",
       "        vertical-align: top;\n",
       "    }\n",
       "\n",
       "    .dataframe thead th {\n",
       "        text-align: right;\n",
       "    }\n",
       "</style>\n",
       "<table border=\"1\" class=\"dataframe\">\n",
       "  <thead>\n",
       "    <tr style=\"text-align: right;\">\n",
       "      <th></th>\n",
       "      <th>index</th>\n",
       "      <th>Method</th>\n",
       "      <th>Training accuracy</th>\n",
       "      <th>Testing accuracy</th>\n",
       "      <th>Mean Absolute Error</th>\n",
       "      <th>Root Mean Squared Error</th>\n",
       "      <th>R2 Squared</th>\n",
       "    </tr>\n",
       "  </thead>\n",
       "  <tbody>\n",
       "    <tr>\n",
       "      <th>0</th>\n",
       "      <td>0</td>\n",
       "      <td>Linear Regression</td>\n",
       "      <td>0.6217</td>\n",
       "      <td>0.5420</td>\n",
       "      <td>8.0367</td>\n",
       "      <td>10.3168</td>\n",
       "      <td>0.5420</td>\n",
       "    </tr>\n",
       "    <tr>\n",
       "      <th>1</th>\n",
       "      <td>1</td>\n",
       "      <td>Linear Regression (Preprocessing Scale)</td>\n",
       "      <td>0.6217</td>\n",
       "      <td>0.5186</td>\n",
       "      <td>8.0143</td>\n",
       "      <td>10.5766</td>\n",
       "      <td>0.5186</td>\n",
       "    </tr>\n",
       "    <tr>\n",
       "      <th>2</th>\n",
       "      <td>2</td>\n",
       "      <td>Linear Regression (Standard Scale)</td>\n",
       "      <td>0.6217</td>\n",
       "      <td>0.5420</td>\n",
       "      <td>8.0367</td>\n",
       "      <td>10.3168</td>\n",
       "      <td>0.5420</td>\n",
       "    </tr>\n",
       "    <tr>\n",
       "      <th>3</th>\n",
       "      <td>3</td>\n",
       "      <td>Linear Regression (MinMax Scale)</td>\n",
       "      <td>0.6217</td>\n",
       "      <td>0.5420</td>\n",
       "      <td>8.0367</td>\n",
       "      <td>10.3168</td>\n",
       "      <td>0.5420</td>\n",
       "    </tr>\n",
       "    <tr>\n",
       "      <th>4</th>\n",
       "      <td>4</td>\n",
       "      <td>Ridge Regression</td>\n",
       "      <td>0.6217</td>\n",
       "      <td>0.5420</td>\n",
       "      <td>8.0367</td>\n",
       "      <td>10.3168</td>\n",
       "      <td>0.5420</td>\n",
       "    </tr>\n",
       "    <tr>\n",
       "      <th>5</th>\n",
       "      <td>5</td>\n",
       "      <td>Ridge Regression (Standard Scaler)</td>\n",
       "      <td>0.6217</td>\n",
       "      <td>0.5423</td>\n",
       "      <td>8.0363</td>\n",
       "      <td>10.3128</td>\n",
       "      <td>0.5423</td>\n",
       "    </tr>\n",
       "    <tr>\n",
       "      <th>6</th>\n",
       "      <td>6</td>\n",
       "      <td>Lasso Regression</td>\n",
       "      <td>0.6217</td>\n",
       "      <td>0.5423</td>\n",
       "      <td>8.0343</td>\n",
       "      <td>10.3133</td>\n",
       "      <td>0.5423</td>\n",
       "    </tr>\n",
       "    <tr>\n",
       "      <th>7</th>\n",
       "      <td>0</td>\n",
       "      <td>Lasso Regression (Standard Scaler)</td>\n",
       "      <td>0.6163</td>\n",
       "      <td>0.5480</td>\n",
       "      <td>8.0827</td>\n",
       "      <td>10.2482</td>\n",
       "      <td>0.5480</td>\n",
       "    </tr>\n",
       "  </tbody>\n",
       "</table>\n",
       "</div>"
      ],
      "text/plain": [
       "   index                                   Method  Training accuracy  \\\n",
       "0      0                        Linear Regression             0.6217   \n",
       "1      1  Linear Regression (Preprocessing Scale)             0.6217   \n",
       "2      2       Linear Regression (Standard Scale)             0.6217   \n",
       "3      3         Linear Regression (MinMax Scale)             0.6217   \n",
       "4      4                         Ridge Regression             0.6217   \n",
       "5      5       Ridge Regression (Standard Scaler)             0.6217   \n",
       "6      6                         Lasso Regression             0.6217   \n",
       "7      0       Lasso Regression (Standard Scaler)             0.6163   \n",
       "\n",
       "   Testing accuracy  Mean Absolute Error  Root Mean Squared Error  R2 Squared  \n",
       "0            0.5420               8.0367                  10.3168      0.5420  \n",
       "1            0.5186               8.0143                  10.5766      0.5186  \n",
       "2            0.5420               8.0367                  10.3168      0.5420  \n",
       "3            0.5420               8.0367                  10.3168      0.5420  \n",
       "4            0.5420               8.0367                  10.3168      0.5420  \n",
       "5            0.5423               8.0363                  10.3128      0.5423  \n",
       "6            0.5423               8.0343                  10.3133      0.5423  \n",
       "7            0.5480               8.0827                  10.2482      0.5480  "
      ]
     },
     "execution_count": 75,
     "metadata": {},
     "output_type": "execute_result"
    }
   ],
   "source": [
    "resultsDf = print_results(model, X_train, y_train, X_test, y_test, resultsDf)\n",
    "resultsDf"
   ]
  },
  {
   "cell_type": "markdown",
   "metadata": {},
   "source": [
    "#### Linear Regression & Polynomial models"
   ]
  },
  {
   "cell_type": "code",
   "execution_count": 76,
   "metadata": {},
   "outputs": [],
   "source": [
    "model_name = 'Linear Regression & Polynomial models'\n",
    "\n",
    "X_train, X_test, y_train, y_test = train_test_split(X, y, test_size=.3, random_state=1)"
   ]
  },
  {
   "cell_type": "code",
   "execution_count": 77,
   "metadata": {},
   "outputs": [],
   "source": [
    "from sklearn.preprocessing import PolynomialFeatures"
   ]
  },
  {
   "cell_type": "code",
   "execution_count": 78,
   "metadata": {},
   "outputs": [],
   "source": [
    "from sklearn.pipeline import Pipeline\n",
    "from sklearn.pipeline import make_pipeline"
   ]
  },
  {
   "cell_type": "code",
   "execution_count": 79,
   "metadata": {},
   "outputs": [
    {
     "data": {
      "text/plain": [
       "Pipeline(memory=None,\n",
       "         steps=[('polynomialfeatures',\n",
       "                 PolynomialFeatures(degree=2, include_bias=True,\n",
       "                                    interaction_only=True, order='C')),\n",
       "                ('linearregression',\n",
       "                 LinearRegression(copy_X=True, fit_intercept=True, n_jobs=None,\n",
       "                                  normalize=False))],\n",
       "         verbose=False)"
      ]
     },
     "execution_count": 79,
     "metadata": {},
     "output_type": "execute_result"
    }
   ],
   "source": [
    "pipe = make_pipeline(PolynomialFeatures(degree = 2, interaction_only=True), LinearRegression())\n",
    "pipe.fit(X_train, y_train)"
   ]
  },
  {
   "cell_type": "code",
   "execution_count": 80,
   "metadata": {},
   "outputs": [],
   "source": [
    "model = pipe"
   ]
  },
  {
   "cell_type": "code",
   "execution_count": 81,
   "metadata": {},
   "outputs": [
    {
     "data": {
      "text/html": [
       "<div>\n",
       "<style scoped>\n",
       "    .dataframe tbody tr th:only-of-type {\n",
       "        vertical-align: middle;\n",
       "    }\n",
       "\n",
       "    .dataframe tbody tr th {\n",
       "        vertical-align: top;\n",
       "    }\n",
       "\n",
       "    .dataframe thead th {\n",
       "        text-align: right;\n",
       "    }\n",
       "</style>\n",
       "<table border=\"1\" class=\"dataframe\">\n",
       "  <thead>\n",
       "    <tr style=\"text-align: right;\">\n",
       "      <th></th>\n",
       "      <th>index</th>\n",
       "      <th>Method</th>\n",
       "      <th>Training accuracy</th>\n",
       "      <th>Testing accuracy</th>\n",
       "      <th>Mean Absolute Error</th>\n",
       "      <th>Root Mean Squared Error</th>\n",
       "      <th>R2 Squared</th>\n",
       "    </tr>\n",
       "  </thead>\n",
       "  <tbody>\n",
       "    <tr>\n",
       "      <th>0</th>\n",
       "      <td>0</td>\n",
       "      <td>Linear Regression</td>\n",
       "      <td>0.6217</td>\n",
       "      <td>0.5420</td>\n",
       "      <td>8.0367</td>\n",
       "      <td>10.3168</td>\n",
       "      <td>0.5420</td>\n",
       "    </tr>\n",
       "    <tr>\n",
       "      <th>1</th>\n",
       "      <td>1</td>\n",
       "      <td>Linear Regression (Preprocessing Scale)</td>\n",
       "      <td>0.6217</td>\n",
       "      <td>0.5186</td>\n",
       "      <td>8.0143</td>\n",
       "      <td>10.5766</td>\n",
       "      <td>0.5186</td>\n",
       "    </tr>\n",
       "    <tr>\n",
       "      <th>2</th>\n",
       "      <td>2</td>\n",
       "      <td>Linear Regression (Standard Scale)</td>\n",
       "      <td>0.6217</td>\n",
       "      <td>0.5420</td>\n",
       "      <td>8.0367</td>\n",
       "      <td>10.3168</td>\n",
       "      <td>0.5420</td>\n",
       "    </tr>\n",
       "    <tr>\n",
       "      <th>3</th>\n",
       "      <td>3</td>\n",
       "      <td>Linear Regression (MinMax Scale)</td>\n",
       "      <td>0.6217</td>\n",
       "      <td>0.5420</td>\n",
       "      <td>8.0367</td>\n",
       "      <td>10.3168</td>\n",
       "      <td>0.5420</td>\n",
       "    </tr>\n",
       "    <tr>\n",
       "      <th>4</th>\n",
       "      <td>4</td>\n",
       "      <td>Ridge Regression</td>\n",
       "      <td>0.6217</td>\n",
       "      <td>0.5420</td>\n",
       "      <td>8.0367</td>\n",
       "      <td>10.3168</td>\n",
       "      <td>0.5420</td>\n",
       "    </tr>\n",
       "    <tr>\n",
       "      <th>5</th>\n",
       "      <td>5</td>\n",
       "      <td>Ridge Regression (Standard Scaler)</td>\n",
       "      <td>0.6217</td>\n",
       "      <td>0.5423</td>\n",
       "      <td>8.0363</td>\n",
       "      <td>10.3128</td>\n",
       "      <td>0.5423</td>\n",
       "    </tr>\n",
       "    <tr>\n",
       "      <th>6</th>\n",
       "      <td>6</td>\n",
       "      <td>Lasso Regression</td>\n",
       "      <td>0.6217</td>\n",
       "      <td>0.5423</td>\n",
       "      <td>8.0343</td>\n",
       "      <td>10.3133</td>\n",
       "      <td>0.5423</td>\n",
       "    </tr>\n",
       "    <tr>\n",
       "      <th>7</th>\n",
       "      <td>7</td>\n",
       "      <td>Lasso Regression (Standard Scaler)</td>\n",
       "      <td>0.6163</td>\n",
       "      <td>0.5480</td>\n",
       "      <td>8.0827</td>\n",
       "      <td>10.2482</td>\n",
       "      <td>0.5480</td>\n",
       "    </tr>\n",
       "    <tr>\n",
       "      <th>8</th>\n",
       "      <td>0</td>\n",
       "      <td>Linear Regression &amp; Polynomial models</td>\n",
       "      <td>0.7595</td>\n",
       "      <td>0.6897</td>\n",
       "      <td>6.7558</td>\n",
       "      <td>8.4919</td>\n",
       "      <td>0.6897</td>\n",
       "    </tr>\n",
       "  </tbody>\n",
       "</table>\n",
       "</div>"
      ],
      "text/plain": [
       "   index                                   Method  Training accuracy  \\\n",
       "0      0                        Linear Regression             0.6217   \n",
       "1      1  Linear Regression (Preprocessing Scale)             0.6217   \n",
       "2      2       Linear Regression (Standard Scale)             0.6217   \n",
       "3      3         Linear Regression (MinMax Scale)             0.6217   \n",
       "4      4                         Ridge Regression             0.6217   \n",
       "5      5       Ridge Regression (Standard Scaler)             0.6217   \n",
       "6      6                         Lasso Regression             0.6217   \n",
       "7      7       Lasso Regression (Standard Scaler)             0.6163   \n",
       "8      0    Linear Regression & Polynomial models             0.7595   \n",
       "\n",
       "   Testing accuracy  Mean Absolute Error  Root Mean Squared Error  R2 Squared  \n",
       "0            0.5420               8.0367                  10.3168      0.5420  \n",
       "1            0.5186               8.0143                  10.5766      0.5186  \n",
       "2            0.5420               8.0367                  10.3168      0.5420  \n",
       "3            0.5420               8.0367                  10.3168      0.5420  \n",
       "4            0.5420               8.0367                  10.3168      0.5420  \n",
       "5            0.5423               8.0363                  10.3128      0.5423  \n",
       "6            0.5423               8.0343                  10.3133      0.5423  \n",
       "7            0.5480               8.0827                  10.2482      0.5480  \n",
       "8            0.6897               6.7558                   8.4919      0.6897  "
      ]
     },
     "execution_count": 81,
     "metadata": {},
     "output_type": "execute_result"
    }
   ],
   "source": [
    "resultsDf = print_results(model, X_train, y_train, X_test, y_test, resultsDf)\n",
    "resultsDf"
   ]
  },
  {
   "cell_type": "markdown",
   "metadata": {},
   "source": [
    "#### Ridge Regression & Polynomial models"
   ]
  },
  {
   "cell_type": "code",
   "execution_count": 82,
   "metadata": {},
   "outputs": [],
   "source": [
    "model_name = 'Ridge Regression & Polynomial models'\n",
    "\n",
    "X_train, X_test, y_train, y_test = train_test_split(X, y, test_size=.3, random_state=1)"
   ]
  },
  {
   "cell_type": "code",
   "execution_count": 83,
   "metadata": {},
   "outputs": [
    {
     "data": {
      "text/plain": [
       "Pipeline(memory=None,\n",
       "         steps=[('polynomialfeatures',\n",
       "                 PolynomialFeatures(degree=2, include_bias=True,\n",
       "                                    interaction_only=True, order='C')),\n",
       "                ('ridge',\n",
       "                 Ridge(alpha=0.3, copy_X=True, fit_intercept=True,\n",
       "                       max_iter=None, normalize=False, random_state=None,\n",
       "                       solver='auto', tol=0.001))],\n",
       "         verbose=False)"
      ]
     },
     "execution_count": 83,
     "metadata": {},
     "output_type": "execute_result"
    }
   ],
   "source": [
    "pipe = make_pipeline(PolynomialFeatures(degree = 2, interaction_only=True), Ridge(alpha=.3))\n",
    "pipe.fit(X_train, y_train)"
   ]
  },
  {
   "cell_type": "code",
   "execution_count": 84,
   "metadata": {},
   "outputs": [],
   "source": [
    "model = pipe"
   ]
  },
  {
   "cell_type": "code",
   "execution_count": 85,
   "metadata": {},
   "outputs": [
    {
     "data": {
      "text/html": [
       "<div>\n",
       "<style scoped>\n",
       "    .dataframe tbody tr th:only-of-type {\n",
       "        vertical-align: middle;\n",
       "    }\n",
       "\n",
       "    .dataframe tbody tr th {\n",
       "        vertical-align: top;\n",
       "    }\n",
       "\n",
       "    .dataframe thead th {\n",
       "        text-align: right;\n",
       "    }\n",
       "</style>\n",
       "<table border=\"1\" class=\"dataframe\">\n",
       "  <thead>\n",
       "    <tr style=\"text-align: right;\">\n",
       "      <th></th>\n",
       "      <th>index</th>\n",
       "      <th>Method</th>\n",
       "      <th>Training accuracy</th>\n",
       "      <th>Testing accuracy</th>\n",
       "      <th>Mean Absolute Error</th>\n",
       "      <th>Root Mean Squared Error</th>\n",
       "      <th>R2 Squared</th>\n",
       "    </tr>\n",
       "  </thead>\n",
       "  <tbody>\n",
       "    <tr>\n",
       "      <th>0</th>\n",
       "      <td>0</td>\n",
       "      <td>Linear Regression</td>\n",
       "      <td>0.6217</td>\n",
       "      <td>0.5420</td>\n",
       "      <td>8.0367</td>\n",
       "      <td>10.3168</td>\n",
       "      <td>0.5420</td>\n",
       "    </tr>\n",
       "    <tr>\n",
       "      <th>1</th>\n",
       "      <td>1</td>\n",
       "      <td>Linear Regression (Preprocessing Scale)</td>\n",
       "      <td>0.6217</td>\n",
       "      <td>0.5186</td>\n",
       "      <td>8.0143</td>\n",
       "      <td>10.5766</td>\n",
       "      <td>0.5186</td>\n",
       "    </tr>\n",
       "    <tr>\n",
       "      <th>2</th>\n",
       "      <td>2</td>\n",
       "      <td>Linear Regression (Standard Scale)</td>\n",
       "      <td>0.6217</td>\n",
       "      <td>0.5420</td>\n",
       "      <td>8.0367</td>\n",
       "      <td>10.3168</td>\n",
       "      <td>0.5420</td>\n",
       "    </tr>\n",
       "    <tr>\n",
       "      <th>3</th>\n",
       "      <td>3</td>\n",
       "      <td>Linear Regression (MinMax Scale)</td>\n",
       "      <td>0.6217</td>\n",
       "      <td>0.5420</td>\n",
       "      <td>8.0367</td>\n",
       "      <td>10.3168</td>\n",
       "      <td>0.5420</td>\n",
       "    </tr>\n",
       "    <tr>\n",
       "      <th>4</th>\n",
       "      <td>4</td>\n",
       "      <td>Ridge Regression</td>\n",
       "      <td>0.6217</td>\n",
       "      <td>0.5420</td>\n",
       "      <td>8.0367</td>\n",
       "      <td>10.3168</td>\n",
       "      <td>0.5420</td>\n",
       "    </tr>\n",
       "    <tr>\n",
       "      <th>5</th>\n",
       "      <td>5</td>\n",
       "      <td>Ridge Regression (Standard Scaler)</td>\n",
       "      <td>0.6217</td>\n",
       "      <td>0.5423</td>\n",
       "      <td>8.0363</td>\n",
       "      <td>10.3128</td>\n",
       "      <td>0.5423</td>\n",
       "    </tr>\n",
       "    <tr>\n",
       "      <th>6</th>\n",
       "      <td>6</td>\n",
       "      <td>Lasso Regression</td>\n",
       "      <td>0.6217</td>\n",
       "      <td>0.5423</td>\n",
       "      <td>8.0343</td>\n",
       "      <td>10.3133</td>\n",
       "      <td>0.5423</td>\n",
       "    </tr>\n",
       "    <tr>\n",
       "      <th>7</th>\n",
       "      <td>7</td>\n",
       "      <td>Lasso Regression (Standard Scaler)</td>\n",
       "      <td>0.6163</td>\n",
       "      <td>0.5480</td>\n",
       "      <td>8.0827</td>\n",
       "      <td>10.2482</td>\n",
       "      <td>0.5480</td>\n",
       "    </tr>\n",
       "    <tr>\n",
       "      <th>8</th>\n",
       "      <td>8</td>\n",
       "      <td>Linear Regression &amp; Polynomial models</td>\n",
       "      <td>0.7595</td>\n",
       "      <td>0.6897</td>\n",
       "      <td>6.7558</td>\n",
       "      <td>8.4919</td>\n",
       "      <td>0.6897</td>\n",
       "    </tr>\n",
       "    <tr>\n",
       "      <th>9</th>\n",
       "      <td>0</td>\n",
       "      <td>Ridge Regression &amp; Polynomial models</td>\n",
       "      <td>0.7595</td>\n",
       "      <td>0.6905</td>\n",
       "      <td>6.7467</td>\n",
       "      <td>8.4809</td>\n",
       "      <td>0.6905</td>\n",
       "    </tr>\n",
       "  </tbody>\n",
       "</table>\n",
       "</div>"
      ],
      "text/plain": [
       "   index                                   Method  Training accuracy  \\\n",
       "0      0                        Linear Regression             0.6217   \n",
       "1      1  Linear Regression (Preprocessing Scale)             0.6217   \n",
       "2      2       Linear Regression (Standard Scale)             0.6217   \n",
       "3      3         Linear Regression (MinMax Scale)             0.6217   \n",
       "4      4                         Ridge Regression             0.6217   \n",
       "5      5       Ridge Regression (Standard Scaler)             0.6217   \n",
       "6      6                         Lasso Regression             0.6217   \n",
       "7      7       Lasso Regression (Standard Scaler)             0.6163   \n",
       "8      8    Linear Regression & Polynomial models             0.7595   \n",
       "9      0     Ridge Regression & Polynomial models             0.7595   \n",
       "\n",
       "   Testing accuracy  Mean Absolute Error  Root Mean Squared Error  R2 Squared  \n",
       "0            0.5420               8.0367                  10.3168      0.5420  \n",
       "1            0.5186               8.0143                  10.5766      0.5186  \n",
       "2            0.5420               8.0367                  10.3168      0.5420  \n",
       "3            0.5420               8.0367                  10.3168      0.5420  \n",
       "4            0.5420               8.0367                  10.3168      0.5420  \n",
       "5            0.5423               8.0363                  10.3128      0.5423  \n",
       "6            0.5423               8.0343                  10.3133      0.5423  \n",
       "7            0.5480               8.0827                  10.2482      0.5480  \n",
       "8            0.6897               6.7558                   8.4919      0.6897  \n",
       "9            0.6905               6.7467                   8.4809      0.6905  "
      ]
     },
     "execution_count": 85,
     "metadata": {},
     "output_type": "execute_result"
    }
   ],
   "source": [
    "resultsDf = print_results(model, X_train, y_train, X_test, y_test, resultsDf)\n",
    "resultsDf"
   ]
  },
  {
   "cell_type": "markdown",
   "metadata": {},
   "source": [
    "####  Lasso Regression & Polynomial models"
   ]
  },
  {
   "cell_type": "code",
   "execution_count": 86,
   "metadata": {},
   "outputs": [],
   "source": [
    "model_name = 'Lasso Regression & Polynomial models '\n",
    "\n",
    "X_train, X_test, y_train, y_test = train_test_split(X, y, test_size=.3, random_state=1)"
   ]
  },
  {
   "cell_type": "code",
   "execution_count": 87,
   "metadata": {},
   "outputs": [
    {
     "data": {
      "text/plain": [
       "Pipeline(memory=None,\n",
       "         steps=[('polynomialfeatures',\n",
       "                 PolynomialFeatures(degree=2, include_bias=True,\n",
       "                                    interaction_only=True, order='C')),\n",
       "                ('lasso',\n",
       "                 Lasso(alpha=0.2, copy_X=True, fit_intercept=True,\n",
       "                       max_iter=1000, normalize=False, positive=False,\n",
       "                       precompute=False, random_state=None, selection='cyclic',\n",
       "                       tol=0.0001, warm_start=False))],\n",
       "         verbose=False)"
      ]
     },
     "execution_count": 87,
     "metadata": {},
     "output_type": "execute_result"
    }
   ],
   "source": [
    "pipe = make_pipeline(PolynomialFeatures(degree = 2, interaction_only=True), Lasso(alpha=0.2))\n",
    "pipe.fit(X_train, y_train)"
   ]
  },
  {
   "cell_type": "code",
   "execution_count": 88,
   "metadata": {},
   "outputs": [],
   "source": [
    "model = pipe"
   ]
  },
  {
   "cell_type": "code",
   "execution_count": 89,
   "metadata": {},
   "outputs": [
    {
     "data": {
      "text/html": [
       "<div>\n",
       "<style scoped>\n",
       "    .dataframe tbody tr th:only-of-type {\n",
       "        vertical-align: middle;\n",
       "    }\n",
       "\n",
       "    .dataframe tbody tr th {\n",
       "        vertical-align: top;\n",
       "    }\n",
       "\n",
       "    .dataframe thead th {\n",
       "        text-align: right;\n",
       "    }\n",
       "</style>\n",
       "<table border=\"1\" class=\"dataframe\">\n",
       "  <thead>\n",
       "    <tr style=\"text-align: right;\">\n",
       "      <th></th>\n",
       "      <th>index</th>\n",
       "      <th>Method</th>\n",
       "      <th>Training accuracy</th>\n",
       "      <th>Testing accuracy</th>\n",
       "      <th>Mean Absolute Error</th>\n",
       "      <th>Root Mean Squared Error</th>\n",
       "      <th>R2 Squared</th>\n",
       "    </tr>\n",
       "  </thead>\n",
       "  <tbody>\n",
       "    <tr>\n",
       "      <th>0</th>\n",
       "      <td>0</td>\n",
       "      <td>Linear Regression</td>\n",
       "      <td>0.6217</td>\n",
       "      <td>0.5420</td>\n",
       "      <td>8.0367</td>\n",
       "      <td>10.3168</td>\n",
       "      <td>0.5420</td>\n",
       "    </tr>\n",
       "    <tr>\n",
       "      <th>1</th>\n",
       "      <td>1</td>\n",
       "      <td>Linear Regression (Preprocessing Scale)</td>\n",
       "      <td>0.6217</td>\n",
       "      <td>0.5186</td>\n",
       "      <td>8.0143</td>\n",
       "      <td>10.5766</td>\n",
       "      <td>0.5186</td>\n",
       "    </tr>\n",
       "    <tr>\n",
       "      <th>2</th>\n",
       "      <td>2</td>\n",
       "      <td>Linear Regression (Standard Scale)</td>\n",
       "      <td>0.6217</td>\n",
       "      <td>0.5420</td>\n",
       "      <td>8.0367</td>\n",
       "      <td>10.3168</td>\n",
       "      <td>0.5420</td>\n",
       "    </tr>\n",
       "    <tr>\n",
       "      <th>3</th>\n",
       "      <td>3</td>\n",
       "      <td>Linear Regression (MinMax Scale)</td>\n",
       "      <td>0.6217</td>\n",
       "      <td>0.5420</td>\n",
       "      <td>8.0367</td>\n",
       "      <td>10.3168</td>\n",
       "      <td>0.5420</td>\n",
       "    </tr>\n",
       "    <tr>\n",
       "      <th>4</th>\n",
       "      <td>4</td>\n",
       "      <td>Ridge Regression</td>\n",
       "      <td>0.6217</td>\n",
       "      <td>0.5420</td>\n",
       "      <td>8.0367</td>\n",
       "      <td>10.3168</td>\n",
       "      <td>0.5420</td>\n",
       "    </tr>\n",
       "    <tr>\n",
       "      <th>5</th>\n",
       "      <td>5</td>\n",
       "      <td>Ridge Regression (Standard Scaler)</td>\n",
       "      <td>0.6217</td>\n",
       "      <td>0.5423</td>\n",
       "      <td>8.0363</td>\n",
       "      <td>10.3128</td>\n",
       "      <td>0.5423</td>\n",
       "    </tr>\n",
       "    <tr>\n",
       "      <th>6</th>\n",
       "      <td>6</td>\n",
       "      <td>Lasso Regression</td>\n",
       "      <td>0.6217</td>\n",
       "      <td>0.5423</td>\n",
       "      <td>8.0343</td>\n",
       "      <td>10.3133</td>\n",
       "      <td>0.5423</td>\n",
       "    </tr>\n",
       "    <tr>\n",
       "      <th>7</th>\n",
       "      <td>7</td>\n",
       "      <td>Lasso Regression (Standard Scaler)</td>\n",
       "      <td>0.6163</td>\n",
       "      <td>0.5480</td>\n",
       "      <td>8.0827</td>\n",
       "      <td>10.2482</td>\n",
       "      <td>0.5480</td>\n",
       "    </tr>\n",
       "    <tr>\n",
       "      <th>8</th>\n",
       "      <td>8</td>\n",
       "      <td>Linear Regression &amp; Polynomial models</td>\n",
       "      <td>0.7595</td>\n",
       "      <td>0.6897</td>\n",
       "      <td>6.7558</td>\n",
       "      <td>8.4919</td>\n",
       "      <td>0.6897</td>\n",
       "    </tr>\n",
       "    <tr>\n",
       "      <th>9</th>\n",
       "      <td>9</td>\n",
       "      <td>Ridge Regression &amp; Polynomial models</td>\n",
       "      <td>0.7595</td>\n",
       "      <td>0.6905</td>\n",
       "      <td>6.7467</td>\n",
       "      <td>8.4809</td>\n",
       "      <td>0.6905</td>\n",
       "    </tr>\n",
       "    <tr>\n",
       "      <th>10</th>\n",
       "      <td>0</td>\n",
       "      <td>Lasso Regression &amp; Polynomial models</td>\n",
       "      <td>0.7568</td>\n",
       "      <td>0.6950</td>\n",
       "      <td>6.6715</td>\n",
       "      <td>8.4189</td>\n",
       "      <td>0.6950</td>\n",
       "    </tr>\n",
       "  </tbody>\n",
       "</table>\n",
       "</div>"
      ],
      "text/plain": [
       "    index                                   Method  Training accuracy  \\\n",
       "0       0                        Linear Regression             0.6217   \n",
       "1       1  Linear Regression (Preprocessing Scale)             0.6217   \n",
       "2       2       Linear Regression (Standard Scale)             0.6217   \n",
       "3       3         Linear Regression (MinMax Scale)             0.6217   \n",
       "4       4                         Ridge Regression             0.6217   \n",
       "5       5       Ridge Regression (Standard Scaler)             0.6217   \n",
       "6       6                         Lasso Regression             0.6217   \n",
       "7       7       Lasso Regression (Standard Scaler)             0.6163   \n",
       "8       8    Linear Regression & Polynomial models             0.7595   \n",
       "9       9     Ridge Regression & Polynomial models             0.7595   \n",
       "10      0    Lasso Regression & Polynomial models              0.7568   \n",
       "\n",
       "    Testing accuracy  Mean Absolute Error  Root Mean Squared Error  R2 Squared  \n",
       "0             0.5420               8.0367                  10.3168      0.5420  \n",
       "1             0.5186               8.0143                  10.5766      0.5186  \n",
       "2             0.5420               8.0367                  10.3168      0.5420  \n",
       "3             0.5420               8.0367                  10.3168      0.5420  \n",
       "4             0.5420               8.0367                  10.3168      0.5420  \n",
       "5             0.5423               8.0363                  10.3128      0.5423  \n",
       "6             0.5423               8.0343                  10.3133      0.5423  \n",
       "7             0.5480               8.0827                  10.2482      0.5480  \n",
       "8             0.6897               6.7558                   8.4919      0.6897  \n",
       "9             0.6905               6.7467                   8.4809      0.6905  \n",
       "10            0.6950               6.6715                   8.4189      0.6950  "
      ]
     },
     "execution_count": 89,
     "metadata": {},
     "output_type": "execute_result"
    }
   ],
   "source": [
    "resultsDf = print_results(model, X_train, y_train, X_test, y_test, resultsDf)\n",
    "resultsDf"
   ]
  },
  {
   "cell_type": "markdown",
   "metadata": {},
   "source": [
    "#### Feature Selection"
   ]
  },
  {
   "cell_type": "code",
   "execution_count": 90,
   "metadata": {},
   "outputs": [],
   "source": [
    "from mlxtend.feature_selection import SequentialFeatureSelector as sfs"
   ]
  },
  {
   "cell_type": "code",
   "execution_count": 91,
   "metadata": {},
   "outputs": [],
   "source": [
    "#X_train, X_inter, y_train, y_inter = train_test_split(X, y, test_size=.3, random_state=1)\n",
    "#X_validation, X_test, y_validation, y_test = train_test_split(X_inter, y_inter, test_size=.5, random_state=1)\n",
    "X_train, X_test, y_train, y_test = train_test_split(X, y, test_size=.3, random_state=1)"
   ]
  },
  {
   "cell_type": "code",
   "execution_count": 92,
   "metadata": {},
   "outputs": [
    {
     "data": {
      "text/plain": [
       "LinearRegression(copy_X=True, fit_intercept=True, n_jobs=None, normalize=False)"
      ]
     },
     "execution_count": 92,
     "metadata": {},
     "output_type": "execute_result"
    }
   ],
   "source": [
    "model = LinearRegression()\n",
    "model.fit(X_train, y_train)"
   ]
  },
  {
   "cell_type": "code",
   "execution_count": 93,
   "metadata": {},
   "outputs": [],
   "source": [
    "# Build step forward feature selection\n",
    "sfs1 = sfs(model, k_features=5, forward=True, scoring='r2', cv=5)"
   ]
  },
  {
   "cell_type": "code",
   "execution_count": 94,
   "metadata": {},
   "outputs": [],
   "source": [
    "# Perform SFFS\n",
    "sfs1 = sfs1.fit(X_train.values, y_train.values)"
   ]
  },
  {
   "cell_type": "code",
   "execution_count": 95,
   "metadata": {},
   "outputs": [
    {
     "data": {
      "text/plain": [
       "{1: {'feature_idx': (0,),\n",
       "  'cv_scores': array([0.29103203, 0.12940783, 0.3272273 , 0.28980092, 0.27793225]),\n",
       "  'avg_score': 0.26308006636836134,\n",
       "  'feature_names': ('0',),\n",
       "  'ci_bound': 0.08848747331696936,\n",
       "  'std_dev': 0.06884626045090293,\n",
       "  'std_err': 0.03442313022545146},\n",
       " 2: {'feature_idx': (0, 4),\n",
       "  'cv_scores': array([0.3777365 , 0.28925982, 0.43933145, 0.33589711, 0.35014822]),\n",
       "  'avg_score': 0.3584746190953248,\n",
       "  'feature_names': ('0', '4'),\n",
       "  'ci_bound': 0.06369290036938342,\n",
       "  'std_dev': 0.049555240344545594,\n",
       "  'std_err': 0.024777620172272797},\n",
       " 3: {'feature_idx': (0, 4, 7),\n",
       "  'cv_scores': array([0.485806  , 0.46142898, 0.55496042, 0.47557306, 0.42150006]),\n",
       "  'avg_score': 0.47985370377481623,\n",
       "  'feature_names': ('0', '4', '7'),\n",
       "  'ci_bound': 0.05584552889183568,\n",
       "  'std_dev': 0.04344971873401236,\n",
       "  'std_err': 0.02172485936700618},\n",
       " 4: {'feature_idx': (0, 1, 4, 7),\n",
       "  'cv_scores': array([0.53242552, 0.4895384 , 0.60931565, 0.57301039, 0.51881972]),\n",
       "  'avg_score': 0.544621934915776,\n",
       "  'feature_names': ('0', '1', '4', '7'),\n",
       "  'ci_bound': 0.054043035750919316,\n",
       "  'std_dev': 0.042047317833763184,\n",
       "  'std_err': 0.02102365891688159},\n",
       " 5: {'feature_idx': (0, 1, 3, 4, 7),\n",
       "  'cv_scores': array([0.57602668, 0.53577766, 0.6513667 , 0.59040115, 0.53705894]),\n",
       "  'avg_score': 0.5781262254052644,\n",
       "  'feature_names': ('0', '1', '3', '4', '7'),\n",
       "  'ci_bound': 0.05452776772967068,\n",
       "  'std_dev': 0.042424455781170226,\n",
       "  'std_err': 0.021212227890585113}}"
      ]
     },
     "execution_count": 95,
     "metadata": {},
     "output_type": "execute_result"
    }
   ],
   "source": [
    "sfs1.get_metric_dict()"
   ]
  },
  {
   "cell_type": "code",
   "execution_count": 96,
   "metadata": {},
   "outputs": [],
   "source": [
    "from mlxtend.plotting import plot_sequential_feature_selection as plot_sfs\n",
    "import matplotlib.pyplot as plt"
   ]
  },
  {
   "cell_type": "code",
   "execution_count": 97,
   "metadata": {},
   "outputs": [
    {
     "data": {
      "image/png": "[encoded data removed]",
      "text/plain": [
       "<Figure size 432x288 with 1 Axes>"
      ]
     },
     "metadata": {},
     "output_type": "display_data"
    }
   ],
   "source": [
    "fig = plot_sfs(sfs1.get_metric_dict())\n",
    "\n",
    "plt.title('Sequential Forward Selection (w. R^2)')\n",
    "plt.grid()\n",
    "plt.show()"
   ]
  },
  {
   "cell_type": "code",
   "execution_count": 98,
   "metadata": {},
   "outputs": [
    {
     "name": "stdout",
     "output_type": "stream",
     "text": [
      "[0, 1, 3, 4, 7]\n"
     ]
    }
   ],
   "source": [
    "# Which features?\n",
    "columnList = list(X_train.columns)\n",
    "feat_cols = list(sfs1.k_feature_idx_)\n",
    "print(feat_cols)"
   ]
  },
  {
   "cell_type": "code",
   "execution_count": 99,
   "metadata": {},
   "outputs": [
    {
     "name": "stdout",
     "output_type": "stream",
     "text": [
      "['cement', 'slag', 'water', 'superplastic', 'age']\n"
     ]
    }
   ],
   "source": [
    "subsetColumnList = [columnList[i] for i in feat_cols] \n",
    "print(subsetColumnList)"
   ]
  },
  {
   "cell_type": "code",
   "execution_count": 100,
   "metadata": {},
   "outputs": [
    {
     "data": {
      "text/plain": [
       "LinearRegression(copy_X=True, fit_intercept=True, n_jobs=None, normalize=False)"
      ]
     },
     "execution_count": 100,
     "metadata": {},
     "output_type": "execute_result"
    }
   ],
   "source": [
    "model = LinearRegression()\n",
    "model.fit(X_train[subsetColumnList], y_train)"
   ]
  },
  {
   "cell_type": "code",
   "execution_count": 101,
   "metadata": {},
   "outputs": [
    {
     "name": "stdout",
     "output_type": "stream",
     "text": [
      "Training accuracy on selected features: 0.591\n"
     ]
    }
   ],
   "source": [
    "y_train_pred = model.predict(X_train[subsetColumnList])\n",
    "print('Training accuracy on selected features: %.3f' % model.score(X_train[subsetColumnList], y_train))\n",
    "accuracy_training = model.score(X_train[subsetColumnList], y_train)"
   ]
  },
  {
   "cell_type": "code",
   "execution_count": 102,
   "metadata": {},
   "outputs": [
    {
     "name": "stdout",
     "output_type": "stream",
     "text": [
      "Testing accuracy on selected features: 0.506\n"
     ]
    }
   ],
   "source": [
    "y_test_pred = model.predict(X_test[subsetColumnList])\n",
    "print('Testing accuracy on selected features: %.3f' % model.score(X_test[subsetColumnList], y_test))\n",
    "accuracy_testing = model.score(X_test[subsetColumnList], y_test)"
   ]
  },
  {
   "cell_type": "code",
   "execution_count": 103,
   "metadata": {},
   "outputs": [
    {
     "data": {
      "text/plain": [
       "LinearRegression(copy_X=True, fit_intercept=True, n_jobs=None, normalize=False)"
      ]
     },
     "execution_count": 103,
     "metadata": {},
     "output_type": "execute_result"
    }
   ],
   "source": [
    "model = LinearRegression()\n",
    "model.fit(X_train, y_train)"
   ]
  },
  {
   "cell_type": "code",
   "execution_count": 104,
   "metadata": {},
   "outputs": [
    {
     "name": "stdout",
     "output_type": "stream",
     "text": [
      "Training accuracy on selected features: 0.622\n"
     ]
    }
   ],
   "source": [
    "y_train_pred = model.predict(X_train)\n",
    "print('Training accuracy on selected features: %.3f' % model.score(X_train, y_train))"
   ]
  },
  {
   "cell_type": "code",
   "execution_count": 105,
   "metadata": {},
   "outputs": [
    {
     "name": "stdout",
     "output_type": "stream",
     "text": [
      "Testing accuracy on selected features: 0.542\n"
     ]
    }
   ],
   "source": [
    "y_test_pred = model.predict(X_test)\n",
    "print('Testing accuracy on selected features: %.3f' % model.score(X_test, y_test))"
   ]
  },
  {
   "cell_type": "code",
   "execution_count": 106,
   "metadata": {},
   "outputs": [],
   "source": [
    "model_name = 'LinearRegression & Feature Selection'"
   ]
  },
  {
   "cell_type": "code",
   "execution_count": 107,
   "metadata": {},
   "outputs": [
    {
     "name": "stdout",
     "output_type": "stream",
     "text": [
      "Mean Absolute Error:  8.036718221159552\n",
      "Root Mean Squared Error:  10.316849412941325\n",
      "R2 Squared:  0.5419610271323055\n"
     ]
    }
   ],
   "source": [
    "y_pred = y_test_pred\n",
    "\n",
    "# Mean Absolute Error\n",
    "mae = mean_absolute_error(y_test, y_pred)\n",
    "print(\"Mean Absolute Error: \", mae)\n",
    "\n",
    "# RMSE (Root Mean Squared Error)\n",
    "rmse = mean_squared_error(y_test, y_pred)**0.5\n",
    "print(\"Root Mean Squared Error: \", rmse)\n",
    "\n",
    "# R2 Squared:\n",
    "r2s = r2_score(y_test, y_pred)\n",
    "print(\"R2 Squared: \", r2s)"
   ]
  },
  {
   "cell_type": "code",
   "execution_count": 108,
   "metadata": {},
   "outputs": [
    {
     "data": {
      "text/html": [
       "<div>\n",
       "<style scoped>\n",
       "    .dataframe tbody tr th:only-of-type {\n",
       "        vertical-align: middle;\n",
       "    }\n",
       "\n",
       "    .dataframe tbody tr th {\n",
       "        vertical-align: top;\n",
       "    }\n",
       "\n",
       "    .dataframe thead th {\n",
       "        text-align: right;\n",
       "    }\n",
       "</style>\n",
       "<table border=\"1\" class=\"dataframe\">\n",
       "  <thead>\n",
       "    <tr style=\"text-align: right;\">\n",
       "      <th></th>\n",
       "      <th>index</th>\n",
       "      <th>Method</th>\n",
       "      <th>Training accuracy</th>\n",
       "      <th>Testing accuracy</th>\n",
       "      <th>Mean Absolute Error</th>\n",
       "      <th>Root Mean Squared Error</th>\n",
       "      <th>R2 Squared</th>\n",
       "    </tr>\n",
       "  </thead>\n",
       "  <tbody>\n",
       "    <tr>\n",
       "      <th>0</th>\n",
       "      <td>0</td>\n",
       "      <td>Linear Regression</td>\n",
       "      <td>0.6217</td>\n",
       "      <td>0.5420</td>\n",
       "      <td>8.0367</td>\n",
       "      <td>10.3168</td>\n",
       "      <td>0.5420</td>\n",
       "    </tr>\n",
       "    <tr>\n",
       "      <th>1</th>\n",
       "      <td>1</td>\n",
       "      <td>Linear Regression (Preprocessing Scale)</td>\n",
       "      <td>0.6217</td>\n",
       "      <td>0.5186</td>\n",
       "      <td>8.0143</td>\n",
       "      <td>10.5766</td>\n",
       "      <td>0.5186</td>\n",
       "    </tr>\n",
       "    <tr>\n",
       "      <th>2</th>\n",
       "      <td>2</td>\n",
       "      <td>Linear Regression (Standard Scale)</td>\n",
       "      <td>0.6217</td>\n",
       "      <td>0.5420</td>\n",
       "      <td>8.0367</td>\n",
       "      <td>10.3168</td>\n",
       "      <td>0.5420</td>\n",
       "    </tr>\n",
       "    <tr>\n",
       "      <th>3</th>\n",
       "      <td>3</td>\n",
       "      <td>Linear Regression (MinMax Scale)</td>\n",
       "      <td>0.6217</td>\n",
       "      <td>0.5420</td>\n",
       "      <td>8.0367</td>\n",
       "      <td>10.3168</td>\n",
       "      <td>0.5420</td>\n",
       "    </tr>\n",
       "    <tr>\n",
       "      <th>4</th>\n",
       "      <td>4</td>\n",
       "      <td>Ridge Regression</td>\n",
       "      <td>0.6217</td>\n",
       "      <td>0.5420</td>\n",
       "      <td>8.0367</td>\n",
       "      <td>10.3168</td>\n",
       "      <td>0.5420</td>\n",
       "    </tr>\n",
       "    <tr>\n",
       "      <th>5</th>\n",
       "      <td>5</td>\n",
       "      <td>Ridge Regression (Standard Scaler)</td>\n",
       "      <td>0.6217</td>\n",
       "      <td>0.5423</td>\n",
       "      <td>8.0363</td>\n",
       "      <td>10.3128</td>\n",
       "      <td>0.5423</td>\n",
       "    </tr>\n",
       "    <tr>\n",
       "      <th>6</th>\n",
       "      <td>6</td>\n",
       "      <td>Lasso Regression</td>\n",
       "      <td>0.6217</td>\n",
       "      <td>0.5423</td>\n",
       "      <td>8.0343</td>\n",
       "      <td>10.3133</td>\n",
       "      <td>0.5423</td>\n",
       "    </tr>\n",
       "    <tr>\n",
       "      <th>7</th>\n",
       "      <td>7</td>\n",
       "      <td>Lasso Regression (Standard Scaler)</td>\n",
       "      <td>0.6163</td>\n",
       "      <td>0.5480</td>\n",
       "      <td>8.0827</td>\n",
       "      <td>10.2482</td>\n",
       "      <td>0.5480</td>\n",
       "    </tr>\n",
       "    <tr>\n",
       "      <th>8</th>\n",
       "      <td>8</td>\n",
       "      <td>Linear Regression &amp; Polynomial models</td>\n",
       "      <td>0.7595</td>\n",
       "      <td>0.6897</td>\n",
       "      <td>6.7558</td>\n",
       "      <td>8.4919</td>\n",
       "      <td>0.6897</td>\n",
       "    </tr>\n",
       "    <tr>\n",
       "      <th>9</th>\n",
       "      <td>9</td>\n",
       "      <td>Ridge Regression &amp; Polynomial models</td>\n",
       "      <td>0.7595</td>\n",
       "      <td>0.6905</td>\n",
       "      <td>6.7467</td>\n",
       "      <td>8.4809</td>\n",
       "      <td>0.6905</td>\n",
       "    </tr>\n",
       "    <tr>\n",
       "      <th>10</th>\n",
       "      <td>10</td>\n",
       "      <td>Lasso Regression &amp; Polynomial models</td>\n",
       "      <td>0.7568</td>\n",
       "      <td>0.6950</td>\n",
       "      <td>6.6715</td>\n",
       "      <td>8.4189</td>\n",
       "      <td>0.6950</td>\n",
       "    </tr>\n",
       "    <tr>\n",
       "      <th>11</th>\n",
       "      <td>0</td>\n",
       "      <td>LinearRegression &amp; Feature Selection</td>\n",
       "      <td>0.5914</td>\n",
       "      <td>0.5059</td>\n",
       "      <td>8.0367</td>\n",
       "      <td>10.3168</td>\n",
       "      <td>0.5420</td>\n",
       "    </tr>\n",
       "  </tbody>\n",
       "</table>\n",
       "</div>"
      ],
      "text/plain": [
       "    index                                   Method  Training accuracy  \\\n",
       "0       0                        Linear Regression             0.6217   \n",
       "1       1  Linear Regression (Preprocessing Scale)             0.6217   \n",
       "2       2       Linear Regression (Standard Scale)             0.6217   \n",
       "3       3         Linear Regression (MinMax Scale)             0.6217   \n",
       "4       4                         Ridge Regression             0.6217   \n",
       "5       5       Ridge Regression (Standard Scaler)             0.6217   \n",
       "6       6                         Lasso Regression             0.6217   \n",
       "7       7       Lasso Regression (Standard Scaler)             0.6163   \n",
       "8       8    Linear Regression & Polynomial models             0.7595   \n",
       "9       9     Ridge Regression & Polynomial models             0.7595   \n",
       "10     10    Lasso Regression & Polynomial models              0.7568   \n",
       "11      0     LinearRegression & Feature Selection             0.5914   \n",
       "\n",
       "    Testing accuracy  Mean Absolute Error  Root Mean Squared Error  R2 Squared  \n",
       "0             0.5420               8.0367                  10.3168      0.5420  \n",
       "1             0.5186               8.0143                  10.5766      0.5186  \n",
       "2             0.5420               8.0367                  10.3168      0.5420  \n",
       "3             0.5420               8.0367                  10.3168      0.5420  \n",
       "4             0.5420               8.0367                  10.3168      0.5420  \n",
       "5             0.5423               8.0363                  10.3128      0.5423  \n",
       "6             0.5423               8.0343                  10.3133      0.5423  \n",
       "7             0.5480               8.0827                  10.2482      0.5480  \n",
       "8             0.6897               6.7558                   8.4919      0.6897  \n",
       "9             0.6905               6.7467                   8.4809      0.6905  \n",
       "10            0.6950               6.6715                   8.4189      0.6950  \n",
       "11            0.5059               8.0367                  10.3168      0.5420  "
      ]
     },
     "execution_count": 108,
     "metadata": {},
     "output_type": "execute_result"
    }
   ],
   "source": [
    "tempResultsDf = pd.DataFrame({'Method':[model_name],\n",
    "                            'Training accuracy': [accuracy_training],\n",
    "                            'Testing accuracy': [accuracy_testing],\n",
    "                            'Mean Absolute Error': [mae],\n",
    "                            'Root Mean Squared Error': [rmse],\n",
    "                            'R2 Squared': [r2s]\n",
    "                         })\n",
    "resultsDf = pd.concat([resultsDf, tempResultsDf])\n",
    "resultsDf = resultsDf[['Method', 'Training accuracy', 'Testing accuracy', 'Mean Absolute Error', 'Root Mean Squared Error', 'R2 Squared']].reset_index()\n",
    "resultsDf"
   ]
  },
  {
   "cell_type": "markdown",
   "metadata": {},
   "source": [
    "##### <i>[Insights]\n",
    "<i>In this case, feature selection did not improve any accuracy."
   ]
  },
  {
   "cell_type": "markdown",
   "metadata": {},
   "source": [
    "#### Decision Tree (Regression)"
   ]
  },
  {
   "cell_type": "code",
   "execution_count": 109,
   "metadata": {},
   "outputs": [],
   "source": [
    "model_name = 'Decision Tree (Regression)'"
   ]
  },
  {
   "cell_type": "code",
   "execution_count": 110,
   "metadata": {},
   "outputs": [],
   "source": [
    "from sklearn.tree import DecisionTreeRegressor"
   ]
  },
  {
   "cell_type": "code",
   "execution_count": 111,
   "metadata": {},
   "outputs": [],
   "source": [
    "#X_train, X_inter, y_train, y_inter = train_test_split(X, y, test_size=.3, random_state=1)\n",
    "#X_validation, X_test, y_validation, y_test = train_test_split(X_inter, y_inter, test_size=.5, random_state=1)\n",
    "X_train, X_test, y_train, y_test = train_test_split(X, y, test_size=.3, random_state=1)"
   ]
  },
  {
   "cell_type": "code",
   "execution_count": 112,
   "metadata": {},
   "outputs": [
    {
     "data": {
      "text/plain": [
       "DecisionTreeRegressor(ccp_alpha=0.0, criterion='mse', max_depth=6,\n",
       "                      max_features=None, max_leaf_nodes=None,\n",
       "                      min_impurity_decrease=0.0, min_impurity_split=None,\n",
       "                      min_samples_leaf=1, min_samples_split=2,\n",
       "                      min_weight_fraction_leaf=0.0, presort='deprecated',\n",
       "                      random_state=None, splitter='best')"
      ]
     },
     "execution_count": 112,
     "metadata": {},
     "output_type": "execute_result"
    }
   ],
   "source": [
    "model = DecisionTreeRegressor(max_depth=6)\n",
    "model.fit(X_train, y_train)"
   ]
  },
  {
   "cell_type": "code",
   "execution_count": 113,
   "metadata": {},
   "outputs": [
    {
     "data": {
      "text/html": [
       "<div>\n",
       "<style scoped>\n",
       "    .dataframe tbody tr th:only-of-type {\n",
       "        vertical-align: middle;\n",
       "    }\n",
       "\n",
       "    .dataframe tbody tr th {\n",
       "        vertical-align: top;\n",
       "    }\n",
       "\n",
       "    .dataframe thead th {\n",
       "        text-align: right;\n",
       "    }\n",
       "</style>\n",
       "<table border=\"1\" class=\"dataframe\">\n",
       "  <thead>\n",
       "    <tr style=\"text-align: right;\">\n",
       "      <th></th>\n",
       "      <th>index</th>\n",
       "      <th>Method</th>\n",
       "      <th>Training accuracy</th>\n",
       "      <th>Testing accuracy</th>\n",
       "      <th>Mean Absolute Error</th>\n",
       "      <th>Root Mean Squared Error</th>\n",
       "      <th>R2 Squared</th>\n",
       "    </tr>\n",
       "  </thead>\n",
       "  <tbody>\n",
       "    <tr>\n",
       "      <th>0</th>\n",
       "      <td>0</td>\n",
       "      <td>Linear Regression</td>\n",
       "      <td>0.6217</td>\n",
       "      <td>0.5420</td>\n",
       "      <td>8.0367</td>\n",
       "      <td>10.3168</td>\n",
       "      <td>0.5420</td>\n",
       "    </tr>\n",
       "    <tr>\n",
       "      <th>1</th>\n",
       "      <td>1</td>\n",
       "      <td>Linear Regression (Preprocessing Scale)</td>\n",
       "      <td>0.6217</td>\n",
       "      <td>0.5186</td>\n",
       "      <td>8.0143</td>\n",
       "      <td>10.5766</td>\n",
       "      <td>0.5186</td>\n",
       "    </tr>\n",
       "    <tr>\n",
       "      <th>2</th>\n",
       "      <td>2</td>\n",
       "      <td>Linear Regression (Standard Scale)</td>\n",
       "      <td>0.6217</td>\n",
       "      <td>0.5420</td>\n",
       "      <td>8.0367</td>\n",
       "      <td>10.3168</td>\n",
       "      <td>0.5420</td>\n",
       "    </tr>\n",
       "    <tr>\n",
       "      <th>3</th>\n",
       "      <td>3</td>\n",
       "      <td>Linear Regression (MinMax Scale)</td>\n",
       "      <td>0.6217</td>\n",
       "      <td>0.5420</td>\n",
       "      <td>8.0367</td>\n",
       "      <td>10.3168</td>\n",
       "      <td>0.5420</td>\n",
       "    </tr>\n",
       "    <tr>\n",
       "      <th>4</th>\n",
       "      <td>4</td>\n",
       "      <td>Ridge Regression</td>\n",
       "      <td>0.6217</td>\n",
       "      <td>0.5420</td>\n",
       "      <td>8.0367</td>\n",
       "      <td>10.3168</td>\n",
       "      <td>0.5420</td>\n",
       "    </tr>\n",
       "    <tr>\n",
       "      <th>5</th>\n",
       "      <td>5</td>\n",
       "      <td>Ridge Regression (Standard Scaler)</td>\n",
       "      <td>0.6217</td>\n",
       "      <td>0.5423</td>\n",
       "      <td>8.0363</td>\n",
       "      <td>10.3128</td>\n",
       "      <td>0.5423</td>\n",
       "    </tr>\n",
       "    <tr>\n",
       "      <th>6</th>\n",
       "      <td>6</td>\n",
       "      <td>Lasso Regression</td>\n",
       "      <td>0.6217</td>\n",
       "      <td>0.5423</td>\n",
       "      <td>8.0343</td>\n",
       "      <td>10.3133</td>\n",
       "      <td>0.5423</td>\n",
       "    </tr>\n",
       "    <tr>\n",
       "      <th>7</th>\n",
       "      <td>7</td>\n",
       "      <td>Lasso Regression (Standard Scaler)</td>\n",
       "      <td>0.6163</td>\n",
       "      <td>0.5480</td>\n",
       "      <td>8.0827</td>\n",
       "      <td>10.2482</td>\n",
       "      <td>0.5480</td>\n",
       "    </tr>\n",
       "    <tr>\n",
       "      <th>8</th>\n",
       "      <td>8</td>\n",
       "      <td>Linear Regression &amp; Polynomial models</td>\n",
       "      <td>0.7595</td>\n",
       "      <td>0.6897</td>\n",
       "      <td>6.7558</td>\n",
       "      <td>8.4919</td>\n",
       "      <td>0.6897</td>\n",
       "    </tr>\n",
       "    <tr>\n",
       "      <th>9</th>\n",
       "      <td>9</td>\n",
       "      <td>Ridge Regression &amp; Polynomial models</td>\n",
       "      <td>0.7595</td>\n",
       "      <td>0.6905</td>\n",
       "      <td>6.7467</td>\n",
       "      <td>8.4809</td>\n",
       "      <td>0.6905</td>\n",
       "    </tr>\n",
       "    <tr>\n",
       "      <th>10</th>\n",
       "      <td>10</td>\n",
       "      <td>Lasso Regression &amp; Polynomial models</td>\n",
       "      <td>0.7568</td>\n",
       "      <td>0.6950</td>\n",
       "      <td>6.6715</td>\n",
       "      <td>8.4189</td>\n",
       "      <td>0.6950</td>\n",
       "    </tr>\n",
       "    <tr>\n",
       "      <th>11</th>\n",
       "      <td>11</td>\n",
       "      <td>LinearRegression &amp; Feature Selection</td>\n",
       "      <td>0.5914</td>\n",
       "      <td>0.5059</td>\n",
       "      <td>8.0367</td>\n",
       "      <td>10.3168</td>\n",
       "      <td>0.5420</td>\n",
       "    </tr>\n",
       "    <tr>\n",
       "      <th>12</th>\n",
       "      <td>0</td>\n",
       "      <td>Decision Tree (Regression)</td>\n",
       "      <td>0.8839</td>\n",
       "      <td>0.7431</td>\n",
       "      <td>5.8917</td>\n",
       "      <td>7.7260</td>\n",
       "      <td>0.7431</td>\n",
       "    </tr>\n",
       "  </tbody>\n",
       "</table>\n",
       "</div>"
      ],
      "text/plain": [
       "    index                                   Method  Training accuracy  \\\n",
       "0       0                        Linear Regression             0.6217   \n",
       "1       1  Linear Regression (Preprocessing Scale)             0.6217   \n",
       "2       2       Linear Regression (Standard Scale)             0.6217   \n",
       "3       3         Linear Regression (MinMax Scale)             0.6217   \n",
       "4       4                         Ridge Regression             0.6217   \n",
       "5       5       Ridge Regression (Standard Scaler)             0.6217   \n",
       "6       6                         Lasso Regression             0.6217   \n",
       "7       7       Lasso Regression (Standard Scaler)             0.6163   \n",
       "8       8    Linear Regression & Polynomial models             0.7595   \n",
       "9       9     Ridge Regression & Polynomial models             0.7595   \n",
       "10     10    Lasso Regression & Polynomial models              0.7568   \n",
       "11     11     LinearRegression & Feature Selection             0.5914   \n",
       "12      0               Decision Tree (Regression)             0.8839   \n",
       "\n",
       "    Testing accuracy  Mean Absolute Error  Root Mean Squared Error  R2 Squared  \n",
       "0             0.5420               8.0367                  10.3168      0.5420  \n",
       "1             0.5186               8.0143                  10.5766      0.5186  \n",
       "2             0.5420               8.0367                  10.3168      0.5420  \n",
       "3             0.5420               8.0367                  10.3168      0.5420  \n",
       "4             0.5420               8.0367                  10.3168      0.5420  \n",
       "5             0.5423               8.0363                  10.3128      0.5423  \n",
       "6             0.5423               8.0343                  10.3133      0.5423  \n",
       "7             0.5480               8.0827                  10.2482      0.5480  \n",
       "8             0.6897               6.7558                   8.4919      0.6897  \n",
       "9             0.6905               6.7467                   8.4809      0.6905  \n",
       "10            0.6950               6.6715                   8.4189      0.6950  \n",
       "11            0.5059               8.0367                  10.3168      0.5420  \n",
       "12            0.7431               5.8917                   7.7260      0.7431  "
      ]
     },
     "execution_count": 113,
     "metadata": {},
     "output_type": "execute_result"
    }
   ],
   "source": [
    "resultsDf = print_results(model, X_train, y_train, X_test, y_test, resultsDf)\n",
    "resultsDf"
   ]
  },
  {
   "cell_type": "markdown",
   "metadata": {},
   "source": [
    "#### Linear SVR"
   ]
  },
  {
   "cell_type": "code",
   "execution_count": 114,
   "metadata": {},
   "outputs": [],
   "source": [
    "model_name = 'Linear SVR'"
   ]
  },
  {
   "cell_type": "code",
   "execution_count": 115,
   "metadata": {},
   "outputs": [],
   "source": [
    "from sklearn.svm import LinearSVR"
   ]
  },
  {
   "cell_type": "code",
   "execution_count": 116,
   "metadata": {},
   "outputs": [],
   "source": [
    "#X_train, X_inter, y_train, y_inter = train_test_split(X, y, test_size=.3, random_state=1)\n",
    "#X_validation, X_test, y_validation, y_test = train_test_split(X_inter, y_inter, test_size=.5, random_state=1)\n",
    "X_train, X_test, y_train, y_test = train_test_split(X, y, test_size=.3, random_state=1)"
   ]
  },
  {
   "cell_type": "code",
   "execution_count": 117,
   "metadata": {},
   "outputs": [
    {
     "data": {
      "text/plain": [
       "LinearSVR(C=1.0, dual=True, epsilon=13, fit_intercept=True,\n",
       "          intercept_scaling=1.0, loss='epsilon_insensitive', max_iter=1000,\n",
       "          random_state=1, tol=0.0001, verbose=0)"
      ]
     },
     "execution_count": 117,
     "metadata": {},
     "output_type": "execute_result"
    }
   ],
   "source": [
    "model = LinearSVR(epsilon=13, random_state=1)\n",
    "model.fit(X_train, y_train)"
   ]
  },
  {
   "cell_type": "code",
   "execution_count": 118,
   "metadata": {},
   "outputs": [
    {
     "data": {
      "text/html": [
       "<div>\n",
       "<style scoped>\n",
       "    .dataframe tbody tr th:only-of-type {\n",
       "        vertical-align: middle;\n",
       "    }\n",
       "\n",
       "    .dataframe tbody tr th {\n",
       "        vertical-align: top;\n",
       "    }\n",
       "\n",
       "    .dataframe thead th {\n",
       "        text-align: right;\n",
       "    }\n",
       "</style>\n",
       "<table border=\"1\" class=\"dataframe\">\n",
       "  <thead>\n",
       "    <tr style=\"text-align: right;\">\n",
       "      <th></th>\n",
       "      <th>index</th>\n",
       "      <th>Method</th>\n",
       "      <th>Training accuracy</th>\n",
       "      <th>Testing accuracy</th>\n",
       "      <th>Mean Absolute Error</th>\n",
       "      <th>Root Mean Squared Error</th>\n",
       "      <th>R2 Squared</th>\n",
       "    </tr>\n",
       "  </thead>\n",
       "  <tbody>\n",
       "    <tr>\n",
       "      <th>0</th>\n",
       "      <td>0</td>\n",
       "      <td>Linear Regression</td>\n",
       "      <td>0.6217</td>\n",
       "      <td>0.5420</td>\n",
       "      <td>8.0367</td>\n",
       "      <td>10.3168</td>\n",
       "      <td>0.5420</td>\n",
       "    </tr>\n",
       "    <tr>\n",
       "      <th>1</th>\n",
       "      <td>1</td>\n",
       "      <td>Linear Regression (Preprocessing Scale)</td>\n",
       "      <td>0.6217</td>\n",
       "      <td>0.5186</td>\n",
       "      <td>8.0143</td>\n",
       "      <td>10.5766</td>\n",
       "      <td>0.5186</td>\n",
       "    </tr>\n",
       "    <tr>\n",
       "      <th>2</th>\n",
       "      <td>2</td>\n",
       "      <td>Linear Regression (Standard Scale)</td>\n",
       "      <td>0.6217</td>\n",
       "      <td>0.5420</td>\n",
       "      <td>8.0367</td>\n",
       "      <td>10.3168</td>\n",
       "      <td>0.5420</td>\n",
       "    </tr>\n",
       "    <tr>\n",
       "      <th>3</th>\n",
       "      <td>3</td>\n",
       "      <td>Linear Regression (MinMax Scale)</td>\n",
       "      <td>0.6217</td>\n",
       "      <td>0.5420</td>\n",
       "      <td>8.0367</td>\n",
       "      <td>10.3168</td>\n",
       "      <td>0.5420</td>\n",
       "    </tr>\n",
       "    <tr>\n",
       "      <th>4</th>\n",
       "      <td>4</td>\n",
       "      <td>Ridge Regression</td>\n",
       "      <td>0.6217</td>\n",
       "      <td>0.5420</td>\n",
       "      <td>8.0367</td>\n",
       "      <td>10.3168</td>\n",
       "      <td>0.5420</td>\n",
       "    </tr>\n",
       "    <tr>\n",
       "      <th>5</th>\n",
       "      <td>5</td>\n",
       "      <td>Ridge Regression (Standard Scaler)</td>\n",
       "      <td>0.6217</td>\n",
       "      <td>0.5423</td>\n",
       "      <td>8.0363</td>\n",
       "      <td>10.3128</td>\n",
       "      <td>0.5423</td>\n",
       "    </tr>\n",
       "    <tr>\n",
       "      <th>6</th>\n",
       "      <td>6</td>\n",
       "      <td>Lasso Regression</td>\n",
       "      <td>0.6217</td>\n",
       "      <td>0.5423</td>\n",
       "      <td>8.0343</td>\n",
       "      <td>10.3133</td>\n",
       "      <td>0.5423</td>\n",
       "    </tr>\n",
       "    <tr>\n",
       "      <th>7</th>\n",
       "      <td>7</td>\n",
       "      <td>Lasso Regression (Standard Scaler)</td>\n",
       "      <td>0.6163</td>\n",
       "      <td>0.5480</td>\n",
       "      <td>8.0827</td>\n",
       "      <td>10.2482</td>\n",
       "      <td>0.5480</td>\n",
       "    </tr>\n",
       "    <tr>\n",
       "      <th>8</th>\n",
       "      <td>8</td>\n",
       "      <td>Linear Regression &amp; Polynomial models</td>\n",
       "      <td>0.7595</td>\n",
       "      <td>0.6897</td>\n",
       "      <td>6.7558</td>\n",
       "      <td>8.4919</td>\n",
       "      <td>0.6897</td>\n",
       "    </tr>\n",
       "    <tr>\n",
       "      <th>9</th>\n",
       "      <td>9</td>\n",
       "      <td>Ridge Regression &amp; Polynomial models</td>\n",
       "      <td>0.7595</td>\n",
       "      <td>0.6905</td>\n",
       "      <td>6.7467</td>\n",
       "      <td>8.4809</td>\n",
       "      <td>0.6905</td>\n",
       "    </tr>\n",
       "    <tr>\n",
       "      <th>10</th>\n",
       "      <td>10</td>\n",
       "      <td>Lasso Regression &amp; Polynomial models</td>\n",
       "      <td>0.7568</td>\n",
       "      <td>0.6950</td>\n",
       "      <td>6.6715</td>\n",
       "      <td>8.4189</td>\n",
       "      <td>0.6950</td>\n",
       "    </tr>\n",
       "    <tr>\n",
       "      <th>11</th>\n",
       "      <td>11</td>\n",
       "      <td>LinearRegression &amp; Feature Selection</td>\n",
       "      <td>0.5914</td>\n",
       "      <td>0.5059</td>\n",
       "      <td>8.0367</td>\n",
       "      <td>10.3168</td>\n",
       "      <td>0.5420</td>\n",
       "    </tr>\n",
       "    <tr>\n",
       "      <th>12</th>\n",
       "      <td>12</td>\n",
       "      <td>Decision Tree (Regression)</td>\n",
       "      <td>0.8839</td>\n",
       "      <td>0.7431</td>\n",
       "      <td>5.8917</td>\n",
       "      <td>7.7260</td>\n",
       "      <td>0.7431</td>\n",
       "    </tr>\n",
       "    <tr>\n",
       "      <th>13</th>\n",
       "      <td>0</td>\n",
       "      <td>Linear SVR</td>\n",
       "      <td>0.6071</td>\n",
       "      <td>0.5373</td>\n",
       "      <td>8.2846</td>\n",
       "      <td>10.3696</td>\n",
       "      <td>0.5373</td>\n",
       "    </tr>\n",
       "  </tbody>\n",
       "</table>\n",
       "</div>"
      ],
      "text/plain": [
       "    index                                   Method  Training accuracy  \\\n",
       "0       0                        Linear Regression             0.6217   \n",
       "1       1  Linear Regression (Preprocessing Scale)             0.6217   \n",
       "2       2       Linear Regression (Standard Scale)             0.6217   \n",
       "3       3         Linear Regression (MinMax Scale)             0.6217   \n",
       "4       4                         Ridge Regression             0.6217   \n",
       "5       5       Ridge Regression (Standard Scaler)             0.6217   \n",
       "6       6                         Lasso Regression             0.6217   \n",
       "7       7       Lasso Regression (Standard Scaler)             0.6163   \n",
       "8       8    Linear Regression & Polynomial models             0.7595   \n",
       "9       9     Ridge Regression & Polynomial models             0.7595   \n",
       "10     10    Lasso Regression & Polynomial models              0.7568   \n",
       "11     11     LinearRegression & Feature Selection             0.5914   \n",
       "12     12               Decision Tree (Regression)             0.8839   \n",
       "13      0                               Linear SVR             0.6071   \n",
       "\n",
       "    Testing accuracy  Mean Absolute Error  Root Mean Squared Error  R2 Squared  \n",
       "0             0.5420               8.0367                  10.3168      0.5420  \n",
       "1             0.5186               8.0143                  10.5766      0.5186  \n",
       "2             0.5420               8.0367                  10.3168      0.5420  \n",
       "3             0.5420               8.0367                  10.3168      0.5420  \n",
       "4             0.5420               8.0367                  10.3168      0.5420  \n",
       "5             0.5423               8.0363                  10.3128      0.5423  \n",
       "6             0.5423               8.0343                  10.3133      0.5423  \n",
       "7             0.5480               8.0827                  10.2482      0.5480  \n",
       "8             0.6897               6.7558                   8.4919      0.6897  \n",
       "9             0.6905               6.7467                   8.4809      0.6905  \n",
       "10            0.6950               6.6715                   8.4189      0.6950  \n",
       "11            0.5059               8.0367                  10.3168      0.5420  \n",
       "12            0.7431               5.8917                   7.7260      0.7431  \n",
       "13            0.5373               8.2846                  10.3696      0.5373  "
      ]
     },
     "execution_count": 118,
     "metadata": {},
     "output_type": "execute_result"
    }
   ],
   "source": [
    "resultsDf = print_results(model, X_train, y_train, X_test, y_test, resultsDf)\n",
    "resultsDf"
   ]
  },
  {
   "cell_type": "markdown",
   "metadata": {},
   "source": [
    "#### Linear SVR & MinMax Scaler"
   ]
  },
  {
   "cell_type": "code",
   "execution_count": 119,
   "metadata": {},
   "outputs": [],
   "source": [
    "model_name = 'Linear SVR & MinMax S.'"
   ]
  },
  {
   "cell_type": "code",
   "execution_count": 120,
   "metadata": {},
   "outputs": [],
   "source": [
    "X_train, X_test, y_train, y_test = train_test_split(X, y, test_size=.3, random_state=1)"
   ]
  },
  {
   "cell_type": "code",
   "execution_count": 121,
   "metadata": {},
   "outputs": [
    {
     "data": {
      "text/plain": [
       "Pipeline(memory=None,\n",
       "         steps=[('minmaxscaler', MinMaxScaler(copy=True, feature_range=(0, 1))),\n",
       "                ('linearsvr',\n",
       "                 LinearSVR(C=100, dual=True, epsilon=0.0, fit_intercept=True,\n",
       "                           intercept_scaling=1.0, loss='epsilon_insensitive',\n",
       "                           max_iter=1000, random_state=None, tol=0.0001,\n",
       "                           verbose=0))],\n",
       "         verbose=False)"
      ]
     },
     "execution_count": 121,
     "metadata": {},
     "output_type": "execute_result"
    }
   ],
   "source": [
    "pipe = make_pipeline(MinMaxScaler(), LinearSVR(C=100))\n",
    "pipe.fit(X_train, y_train)"
   ]
  },
  {
   "cell_type": "code",
   "execution_count": 122,
   "metadata": {},
   "outputs": [],
   "source": [
    "model = pipe"
   ]
  },
  {
   "cell_type": "code",
   "execution_count": 123,
   "metadata": {},
   "outputs": [
    {
     "data": {
      "text/html": [
       "<div>\n",
       "<style scoped>\n",
       "    .dataframe tbody tr th:only-of-type {\n",
       "        vertical-align: middle;\n",
       "    }\n",
       "\n",
       "    .dataframe tbody tr th {\n",
       "        vertical-align: top;\n",
       "    }\n",
       "\n",
       "    .dataframe thead th {\n",
       "        text-align: right;\n",
       "    }\n",
       "</style>\n",
       "<table border=\"1\" class=\"dataframe\">\n",
       "  <thead>\n",
       "    <tr style=\"text-align: right;\">\n",
       "      <th></th>\n",
       "      <th>index</th>\n",
       "      <th>Method</th>\n",
       "      <th>Training accuracy</th>\n",
       "      <th>Testing accuracy</th>\n",
       "      <th>Mean Absolute Error</th>\n",
       "      <th>Root Mean Squared Error</th>\n",
       "      <th>R2 Squared</th>\n",
       "    </tr>\n",
       "  </thead>\n",
       "  <tbody>\n",
       "    <tr>\n",
       "      <th>0</th>\n",
       "      <td>0</td>\n",
       "      <td>Linear Regression</td>\n",
       "      <td>0.6217</td>\n",
       "      <td>0.5420</td>\n",
       "      <td>8.0367</td>\n",
       "      <td>10.3168</td>\n",
       "      <td>0.5420</td>\n",
       "    </tr>\n",
       "    <tr>\n",
       "      <th>1</th>\n",
       "      <td>1</td>\n",
       "      <td>Linear Regression (Preprocessing Scale)</td>\n",
       "      <td>0.6217</td>\n",
       "      <td>0.5186</td>\n",
       "      <td>8.0143</td>\n",
       "      <td>10.5766</td>\n",
       "      <td>0.5186</td>\n",
       "    </tr>\n",
       "    <tr>\n",
       "      <th>2</th>\n",
       "      <td>2</td>\n",
       "      <td>Linear Regression (Standard Scale)</td>\n",
       "      <td>0.6217</td>\n",
       "      <td>0.5420</td>\n",
       "      <td>8.0367</td>\n",
       "      <td>10.3168</td>\n",
       "      <td>0.5420</td>\n",
       "    </tr>\n",
       "    <tr>\n",
       "      <th>3</th>\n",
       "      <td>3</td>\n",
       "      <td>Linear Regression (MinMax Scale)</td>\n",
       "      <td>0.6217</td>\n",
       "      <td>0.5420</td>\n",
       "      <td>8.0367</td>\n",
       "      <td>10.3168</td>\n",
       "      <td>0.5420</td>\n",
       "    </tr>\n",
       "    <tr>\n",
       "      <th>4</th>\n",
       "      <td>4</td>\n",
       "      <td>Ridge Regression</td>\n",
       "      <td>0.6217</td>\n",
       "      <td>0.5420</td>\n",
       "      <td>8.0367</td>\n",
       "      <td>10.3168</td>\n",
       "      <td>0.5420</td>\n",
       "    </tr>\n",
       "    <tr>\n",
       "      <th>5</th>\n",
       "      <td>5</td>\n",
       "      <td>Ridge Regression (Standard Scaler)</td>\n",
       "      <td>0.6217</td>\n",
       "      <td>0.5423</td>\n",
       "      <td>8.0363</td>\n",
       "      <td>10.3128</td>\n",
       "      <td>0.5423</td>\n",
       "    </tr>\n",
       "    <tr>\n",
       "      <th>6</th>\n",
       "      <td>6</td>\n",
       "      <td>Lasso Regression</td>\n",
       "      <td>0.6217</td>\n",
       "      <td>0.5423</td>\n",
       "      <td>8.0343</td>\n",
       "      <td>10.3133</td>\n",
       "      <td>0.5423</td>\n",
       "    </tr>\n",
       "    <tr>\n",
       "      <th>7</th>\n",
       "      <td>7</td>\n",
       "      <td>Lasso Regression (Standard Scaler)</td>\n",
       "      <td>0.6163</td>\n",
       "      <td>0.5480</td>\n",
       "      <td>8.0827</td>\n",
       "      <td>10.2482</td>\n",
       "      <td>0.5480</td>\n",
       "    </tr>\n",
       "    <tr>\n",
       "      <th>8</th>\n",
       "      <td>8</td>\n",
       "      <td>Linear Regression &amp; Polynomial models</td>\n",
       "      <td>0.7595</td>\n",
       "      <td>0.6897</td>\n",
       "      <td>6.7558</td>\n",
       "      <td>8.4919</td>\n",
       "      <td>0.6897</td>\n",
       "    </tr>\n",
       "    <tr>\n",
       "      <th>9</th>\n",
       "      <td>9</td>\n",
       "      <td>Ridge Regression &amp; Polynomial models</td>\n",
       "      <td>0.7595</td>\n",
       "      <td>0.6905</td>\n",
       "      <td>6.7467</td>\n",
       "      <td>8.4809</td>\n",
       "      <td>0.6905</td>\n",
       "    </tr>\n",
       "    <tr>\n",
       "      <th>10</th>\n",
       "      <td>10</td>\n",
       "      <td>Lasso Regression &amp; Polynomial models</td>\n",
       "      <td>0.7568</td>\n",
       "      <td>0.6950</td>\n",
       "      <td>6.6715</td>\n",
       "      <td>8.4189</td>\n",
       "      <td>0.6950</td>\n",
       "    </tr>\n",
       "    <tr>\n",
       "      <th>11</th>\n",
       "      <td>11</td>\n",
       "      <td>LinearRegression &amp; Feature Selection</td>\n",
       "      <td>0.5914</td>\n",
       "      <td>0.5059</td>\n",
       "      <td>8.0367</td>\n",
       "      <td>10.3168</td>\n",
       "      <td>0.5420</td>\n",
       "    </tr>\n",
       "    <tr>\n",
       "      <th>12</th>\n",
       "      <td>12</td>\n",
       "      <td>Decision Tree (Regression)</td>\n",
       "      <td>0.8839</td>\n",
       "      <td>0.7431</td>\n",
       "      <td>5.8917</td>\n",
       "      <td>7.7260</td>\n",
       "      <td>0.7431</td>\n",
       "    </tr>\n",
       "    <tr>\n",
       "      <th>13</th>\n",
       "      <td>13</td>\n",
       "      <td>Linear SVR</td>\n",
       "      <td>0.6071</td>\n",
       "      <td>0.5373</td>\n",
       "      <td>8.2846</td>\n",
       "      <td>10.3696</td>\n",
       "      <td>0.5373</td>\n",
       "    </tr>\n",
       "    <tr>\n",
       "      <th>14</th>\n",
       "      <td>0</td>\n",
       "      <td>Linear SVR &amp; MinMax S.</td>\n",
       "      <td>0.6011</td>\n",
       "      <td>0.5177</td>\n",
       "      <td>7.9468</td>\n",
       "      <td>10.5865</td>\n",
       "      <td>0.5177</td>\n",
       "    </tr>\n",
       "  </tbody>\n",
       "</table>\n",
       "</div>"
      ],
      "text/plain": [
       "    index                                   Method  Training accuracy  \\\n",
       "0       0                        Linear Regression             0.6217   \n",
       "1       1  Linear Regression (Preprocessing Scale)             0.6217   \n",
       "2       2       Linear Regression (Standard Scale)             0.6217   \n",
       "3       3         Linear Regression (MinMax Scale)             0.6217   \n",
       "4       4                         Ridge Regression             0.6217   \n",
       "5       5       Ridge Regression (Standard Scaler)             0.6217   \n",
       "6       6                         Lasso Regression             0.6217   \n",
       "7       7       Lasso Regression (Standard Scaler)             0.6163   \n",
       "8       8    Linear Regression & Polynomial models             0.7595   \n",
       "9       9     Ridge Regression & Polynomial models             0.7595   \n",
       "10     10    Lasso Regression & Polynomial models              0.7568   \n",
       "11     11     LinearRegression & Feature Selection             0.5914   \n",
       "12     12               Decision Tree (Regression)             0.8839   \n",
       "13     13                               Linear SVR             0.6071   \n",
       "14      0                   Linear SVR & MinMax S.             0.6011   \n",
       "\n",
       "    Testing accuracy  Mean Absolute Error  Root Mean Squared Error  R2 Squared  \n",
       "0             0.5420               8.0367                  10.3168      0.5420  \n",
       "1             0.5186               8.0143                  10.5766      0.5186  \n",
       "2             0.5420               8.0367                  10.3168      0.5420  \n",
       "3             0.5420               8.0367                  10.3168      0.5420  \n",
       "4             0.5420               8.0367                  10.3168      0.5420  \n",
       "5             0.5423               8.0363                  10.3128      0.5423  \n",
       "6             0.5423               8.0343                  10.3133      0.5423  \n",
       "7             0.5480               8.0827                  10.2482      0.5480  \n",
       "8             0.6897               6.7558                   8.4919      0.6897  \n",
       "9             0.6905               6.7467                   8.4809      0.6905  \n",
       "10            0.6950               6.6715                   8.4189      0.6950  \n",
       "11            0.5059               8.0367                  10.3168      0.5420  \n",
       "12            0.7431               5.8917                   7.7260      0.7431  \n",
       "13            0.5373               8.2846                  10.3696      0.5373  \n",
       "14            0.5177               7.9468                  10.5865      0.5177  "
      ]
     },
     "execution_count": 123,
     "metadata": {},
     "output_type": "execute_result"
    }
   ],
   "source": [
    "resultsDf = print_results(model, X_train, y_train, X_test, y_test, resultsDf)\n",
    "resultsDf"
   ]
  },
  {
   "cell_type": "markdown",
   "metadata": {},
   "source": [
    "#### Linear SVR & Standard Scaler"
   ]
  },
  {
   "cell_type": "code",
   "execution_count": 124,
   "metadata": {},
   "outputs": [],
   "source": [
    "model_name = 'Linear SVR & Standard S.'\n",
    "\n",
    "X_train, X_test, y_train, y_test = train_test_split(X, y, test_size=.3, random_state=1)"
   ]
  },
  {
   "cell_type": "code",
   "execution_count": 125,
   "metadata": {},
   "outputs": [
    {
     "data": {
      "text/plain": [
       "Pipeline(memory=None,\n",
       "         steps=[('standardscaler',\n",
       "                 StandardScaler(copy=True, with_mean=True, with_std=True)),\n",
       "                ('linearsvr',\n",
       "                 LinearSVR(C=100, dual=True, epsilon=0.0, fit_intercept=True,\n",
       "                           intercept_scaling=1.0, loss='epsilon_insensitive',\n",
       "                           max_iter=1000, random_state=None, tol=0.0001,\n",
       "                           verbose=0))],\n",
       "         verbose=False)"
      ]
     },
     "execution_count": 125,
     "metadata": {},
     "output_type": "execute_result"
    }
   ],
   "source": [
    "pipe = make_pipeline(StandardScaler(), LinearSVR(C=100))\n",
    "pipe.fit(X_train, y_train)"
   ]
  },
  {
   "cell_type": "code",
   "execution_count": 126,
   "metadata": {},
   "outputs": [],
   "source": [
    "model = pipe"
   ]
  },
  {
   "cell_type": "code",
   "execution_count": 127,
   "metadata": {},
   "outputs": [
    {
     "data": {
      "text/html": [
       "<div>\n",
       "<style scoped>\n",
       "    .dataframe tbody tr th:only-of-type {\n",
       "        vertical-align: middle;\n",
       "    }\n",
       "\n",
       "    .dataframe tbody tr th {\n",
       "        vertical-align: top;\n",
       "    }\n",
       "\n",
       "    .dataframe thead th {\n",
       "        text-align: right;\n",
       "    }\n",
       "</style>\n",
       "<table border=\"1\" class=\"dataframe\">\n",
       "  <thead>\n",
       "    <tr style=\"text-align: right;\">\n",
       "      <th></th>\n",
       "      <th>index</th>\n",
       "      <th>Method</th>\n",
       "      <th>Training accuracy</th>\n",
       "      <th>Testing accuracy</th>\n",
       "      <th>Mean Absolute Error</th>\n",
       "      <th>Root Mean Squared Error</th>\n",
       "      <th>R2 Squared</th>\n",
       "    </tr>\n",
       "  </thead>\n",
       "  <tbody>\n",
       "    <tr>\n",
       "      <th>0</th>\n",
       "      <td>0</td>\n",
       "      <td>Linear Regression</td>\n",
       "      <td>0.6217</td>\n",
       "      <td>0.5420</td>\n",
       "      <td>8.0367</td>\n",
       "      <td>10.3168</td>\n",
       "      <td>0.5420</td>\n",
       "    </tr>\n",
       "    <tr>\n",
       "      <th>1</th>\n",
       "      <td>1</td>\n",
       "      <td>Linear Regression (Preprocessing Scale)</td>\n",
       "      <td>0.6217</td>\n",
       "      <td>0.5186</td>\n",
       "      <td>8.0143</td>\n",
       "      <td>10.5766</td>\n",
       "      <td>0.5186</td>\n",
       "    </tr>\n",
       "    <tr>\n",
       "      <th>2</th>\n",
       "      <td>2</td>\n",
       "      <td>Linear Regression (Standard Scale)</td>\n",
       "      <td>0.6217</td>\n",
       "      <td>0.5420</td>\n",
       "      <td>8.0367</td>\n",
       "      <td>10.3168</td>\n",
       "      <td>0.5420</td>\n",
       "    </tr>\n",
       "    <tr>\n",
       "      <th>3</th>\n",
       "      <td>3</td>\n",
       "      <td>Linear Regression (MinMax Scale)</td>\n",
       "      <td>0.6217</td>\n",
       "      <td>0.5420</td>\n",
       "      <td>8.0367</td>\n",
       "      <td>10.3168</td>\n",
       "      <td>0.5420</td>\n",
       "    </tr>\n",
       "    <tr>\n",
       "      <th>4</th>\n",
       "      <td>4</td>\n",
       "      <td>Ridge Regression</td>\n",
       "      <td>0.6217</td>\n",
       "      <td>0.5420</td>\n",
       "      <td>8.0367</td>\n",
       "      <td>10.3168</td>\n",
       "      <td>0.5420</td>\n",
       "    </tr>\n",
       "    <tr>\n",
       "      <th>5</th>\n",
       "      <td>5</td>\n",
       "      <td>Ridge Regression (Standard Scaler)</td>\n",
       "      <td>0.6217</td>\n",
       "      <td>0.5423</td>\n",
       "      <td>8.0363</td>\n",
       "      <td>10.3128</td>\n",
       "      <td>0.5423</td>\n",
       "    </tr>\n",
       "    <tr>\n",
       "      <th>6</th>\n",
       "      <td>6</td>\n",
       "      <td>Lasso Regression</td>\n",
       "      <td>0.6217</td>\n",
       "      <td>0.5423</td>\n",
       "      <td>8.0343</td>\n",
       "      <td>10.3133</td>\n",
       "      <td>0.5423</td>\n",
       "    </tr>\n",
       "    <tr>\n",
       "      <th>7</th>\n",
       "      <td>7</td>\n",
       "      <td>Lasso Regression (Standard Scaler)</td>\n",
       "      <td>0.6163</td>\n",
       "      <td>0.5480</td>\n",
       "      <td>8.0827</td>\n",
       "      <td>10.2482</td>\n",
       "      <td>0.5480</td>\n",
       "    </tr>\n",
       "    <tr>\n",
       "      <th>8</th>\n",
       "      <td>8</td>\n",
       "      <td>Linear Regression &amp; Polynomial models</td>\n",
       "      <td>0.7595</td>\n",
       "      <td>0.6897</td>\n",
       "      <td>6.7558</td>\n",
       "      <td>8.4919</td>\n",
       "      <td>0.6897</td>\n",
       "    </tr>\n",
       "    <tr>\n",
       "      <th>9</th>\n",
       "      <td>9</td>\n",
       "      <td>Ridge Regression &amp; Polynomial models</td>\n",
       "      <td>0.7595</td>\n",
       "      <td>0.6905</td>\n",
       "      <td>6.7467</td>\n",
       "      <td>8.4809</td>\n",
       "      <td>0.6905</td>\n",
       "    </tr>\n",
       "    <tr>\n",
       "      <th>10</th>\n",
       "      <td>10</td>\n",
       "      <td>Lasso Regression &amp; Polynomial models</td>\n",
       "      <td>0.7568</td>\n",
       "      <td>0.6950</td>\n",
       "      <td>6.6715</td>\n",
       "      <td>8.4189</td>\n",
       "      <td>0.6950</td>\n",
       "    </tr>\n",
       "    <tr>\n",
       "      <th>11</th>\n",
       "      <td>11</td>\n",
       "      <td>LinearRegression &amp; Feature Selection</td>\n",
       "      <td>0.5914</td>\n",
       "      <td>0.5059</td>\n",
       "      <td>8.0367</td>\n",
       "      <td>10.3168</td>\n",
       "      <td>0.5420</td>\n",
       "    </tr>\n",
       "    <tr>\n",
       "      <th>12</th>\n",
       "      <td>12</td>\n",
       "      <td>Decision Tree (Regression)</td>\n",
       "      <td>0.8839</td>\n",
       "      <td>0.7431</td>\n",
       "      <td>5.8917</td>\n",
       "      <td>7.7260</td>\n",
       "      <td>0.7431</td>\n",
       "    </tr>\n",
       "    <tr>\n",
       "      <th>13</th>\n",
       "      <td>13</td>\n",
       "      <td>Linear SVR</td>\n",
       "      <td>0.6071</td>\n",
       "      <td>0.5373</td>\n",
       "      <td>8.2846</td>\n",
       "      <td>10.3696</td>\n",
       "      <td>0.5373</td>\n",
       "    </tr>\n",
       "    <tr>\n",
       "      <th>14</th>\n",
       "      <td>14</td>\n",
       "      <td>Linear SVR &amp; MinMax S.</td>\n",
       "      <td>0.6011</td>\n",
       "      <td>0.5177</td>\n",
       "      <td>7.9468</td>\n",
       "      <td>10.5865</td>\n",
       "      <td>0.5177</td>\n",
       "    </tr>\n",
       "    <tr>\n",
       "      <th>15</th>\n",
       "      <td>0</td>\n",
       "      <td>Linear SVR &amp; Standard S.</td>\n",
       "      <td>0.5938</td>\n",
       "      <td>0.5073</td>\n",
       "      <td>7.9854</td>\n",
       "      <td>10.6999</td>\n",
       "      <td>0.5073</td>\n",
       "    </tr>\n",
       "  </tbody>\n",
       "</table>\n",
       "</div>"
      ],
      "text/plain": [
       "    index                                   Method  Training accuracy  \\\n",
       "0       0                        Linear Regression             0.6217   \n",
       "1       1  Linear Regression (Preprocessing Scale)             0.6217   \n",
       "2       2       Linear Regression (Standard Scale)             0.6217   \n",
       "3       3         Linear Regression (MinMax Scale)             0.6217   \n",
       "4       4                         Ridge Regression             0.6217   \n",
       "5       5       Ridge Regression (Standard Scaler)             0.6217   \n",
       "6       6                         Lasso Regression             0.6217   \n",
       "7       7       Lasso Regression (Standard Scaler)             0.6163   \n",
       "8       8    Linear Regression & Polynomial models             0.7595   \n",
       "9       9     Ridge Regression & Polynomial models             0.7595   \n",
       "10     10    Lasso Regression & Polynomial models              0.7568   \n",
       "11     11     LinearRegression & Feature Selection             0.5914   \n",
       "12     12               Decision Tree (Regression)             0.8839   \n",
       "13     13                               Linear SVR             0.6071   \n",
       "14     14                   Linear SVR & MinMax S.             0.6011   \n",
       "15      0                 Linear SVR & Standard S.             0.5938   \n",
       "\n",
       "    Testing accuracy  Mean Absolute Error  Root Mean Squared Error  R2 Squared  \n",
       "0             0.5420               8.0367                  10.3168      0.5420  \n",
       "1             0.5186               8.0143                  10.5766      0.5186  \n",
       "2             0.5420               8.0367                  10.3168      0.5420  \n",
       "3             0.5420               8.0367                  10.3168      0.5420  \n",
       "4             0.5420               8.0367                  10.3168      0.5420  \n",
       "5             0.5423               8.0363                  10.3128      0.5423  \n",
       "6             0.5423               8.0343                  10.3133      0.5423  \n",
       "7             0.5480               8.0827                  10.2482      0.5480  \n",
       "8             0.6897               6.7558                   8.4919      0.6897  \n",
       "9             0.6905               6.7467                   8.4809      0.6905  \n",
       "10            0.6950               6.6715                   8.4189      0.6950  \n",
       "11            0.5059               8.0367                  10.3168      0.5420  \n",
       "12            0.7431               5.8917                   7.7260      0.7431  \n",
       "13            0.5373               8.2846                  10.3696      0.5373  \n",
       "14            0.5177               7.9468                  10.5865      0.5177  \n",
       "15            0.5073               7.9854                  10.6999      0.5073  "
      ]
     },
     "execution_count": 127,
     "metadata": {},
     "output_type": "execute_result"
    }
   ],
   "source": [
    "resultsDf = print_results(model, X_train, y_train, X_test, y_test, resultsDf)\n",
    "resultsDf"
   ]
  },
  {
   "cell_type": "markdown",
   "metadata": {},
   "source": [
    "#### Decision Tree Regressor & Standard Scaler"
   ]
  },
  {
   "cell_type": "code",
   "execution_count": 128,
   "metadata": {},
   "outputs": [],
   "source": [
    "model_name = 'DT Reg. & Standard S.'\n",
    "\n",
    "X_train, X_test, y_train, y_test = train_test_split(X, y, test_size=.3, random_state=1)"
   ]
  },
  {
   "cell_type": "code",
   "execution_count": 129,
   "metadata": {},
   "outputs": [
    {
     "data": {
      "text/plain": [
       "Pipeline(memory=None,\n",
       "         steps=[('standardscaler',\n",
       "                 StandardScaler(copy=True, with_mean=True, with_std=True)),\n",
       "                ('decisiontreeregressor',\n",
       "                 DecisionTreeRegressor(ccp_alpha=0.0, criterion='mse',\n",
       "                                       max_depth=6, max_features=None,\n",
       "                                       max_leaf_nodes=None,\n",
       "                                       min_impurity_decrease=0.0,\n",
       "                                       min_impurity_split=None,\n",
       "                                       min_samples_leaf=1, min_samples_split=2,\n",
       "                                       min_weight_fraction_leaf=0.0,\n",
       "                                       presort='deprecated', random_state=None,\n",
       "                                       splitter='best'))],\n",
       "         verbose=False)"
      ]
     },
     "execution_count": 129,
     "metadata": {},
     "output_type": "execute_result"
    }
   ],
   "source": [
    "pipe = make_pipeline(StandardScaler(), DecisionTreeRegressor(max_depth=6))\n",
    "pipe.fit(X_train, y_train)"
   ]
  },
  {
   "cell_type": "code",
   "execution_count": 130,
   "metadata": {},
   "outputs": [],
   "source": [
    "model = pipe"
   ]
  },
  {
   "cell_type": "code",
   "execution_count": 131,
   "metadata": {},
   "outputs": [
    {
     "data": {
      "text/html": [
       "<div>\n",
       "<style scoped>\n",
       "    .dataframe tbody tr th:only-of-type {\n",
       "        vertical-align: middle;\n",
       "    }\n",
       "\n",
       "    .dataframe tbody tr th {\n",
       "        vertical-align: top;\n",
       "    }\n",
       "\n",
       "    .dataframe thead th {\n",
       "        text-align: right;\n",
       "    }\n",
       "</style>\n",
       "<table border=\"1\" class=\"dataframe\">\n",
       "  <thead>\n",
       "    <tr style=\"text-align: right;\">\n",
       "      <th></th>\n",
       "      <th>index</th>\n",
       "      <th>Method</th>\n",
       "      <th>Training accuracy</th>\n",
       "      <th>Testing accuracy</th>\n",
       "      <th>Mean Absolute Error</th>\n",
       "      <th>Root Mean Squared Error</th>\n",
       "      <th>R2 Squared</th>\n",
       "    </tr>\n",
       "  </thead>\n",
       "  <tbody>\n",
       "    <tr>\n",
       "      <th>0</th>\n",
       "      <td>0</td>\n",
       "      <td>Linear Regression</td>\n",
       "      <td>0.6217</td>\n",
       "      <td>0.5420</td>\n",
       "      <td>8.0367</td>\n",
       "      <td>10.3168</td>\n",
       "      <td>0.5420</td>\n",
       "    </tr>\n",
       "    <tr>\n",
       "      <th>1</th>\n",
       "      <td>1</td>\n",
       "      <td>Linear Regression (Preprocessing Scale)</td>\n",
       "      <td>0.6217</td>\n",
       "      <td>0.5186</td>\n",
       "      <td>8.0143</td>\n",
       "      <td>10.5766</td>\n",
       "      <td>0.5186</td>\n",
       "    </tr>\n",
       "    <tr>\n",
       "      <th>2</th>\n",
       "      <td>2</td>\n",
       "      <td>Linear Regression (Standard Scale)</td>\n",
       "      <td>0.6217</td>\n",
       "      <td>0.5420</td>\n",
       "      <td>8.0367</td>\n",
       "      <td>10.3168</td>\n",
       "      <td>0.5420</td>\n",
       "    </tr>\n",
       "    <tr>\n",
       "      <th>3</th>\n",
       "      <td>3</td>\n",
       "      <td>Linear Regression (MinMax Scale)</td>\n",
       "      <td>0.6217</td>\n",
       "      <td>0.5420</td>\n",
       "      <td>8.0367</td>\n",
       "      <td>10.3168</td>\n",
       "      <td>0.5420</td>\n",
       "    </tr>\n",
       "    <tr>\n",
       "      <th>4</th>\n",
       "      <td>4</td>\n",
       "      <td>Ridge Regression</td>\n",
       "      <td>0.6217</td>\n",
       "      <td>0.5420</td>\n",
       "      <td>8.0367</td>\n",
       "      <td>10.3168</td>\n",
       "      <td>0.5420</td>\n",
       "    </tr>\n",
       "    <tr>\n",
       "      <th>5</th>\n",
       "      <td>5</td>\n",
       "      <td>Ridge Regression (Standard Scaler)</td>\n",
       "      <td>0.6217</td>\n",
       "      <td>0.5423</td>\n",
       "      <td>8.0363</td>\n",
       "      <td>10.3128</td>\n",
       "      <td>0.5423</td>\n",
       "    </tr>\n",
       "    <tr>\n",
       "      <th>6</th>\n",
       "      <td>6</td>\n",
       "      <td>Lasso Regression</td>\n",
       "      <td>0.6217</td>\n",
       "      <td>0.5423</td>\n",
       "      <td>8.0343</td>\n",
       "      <td>10.3133</td>\n",
       "      <td>0.5423</td>\n",
       "    </tr>\n",
       "    <tr>\n",
       "      <th>7</th>\n",
       "      <td>7</td>\n",
       "      <td>Lasso Regression (Standard Scaler)</td>\n",
       "      <td>0.6163</td>\n",
       "      <td>0.5480</td>\n",
       "      <td>8.0827</td>\n",
       "      <td>10.2482</td>\n",
       "      <td>0.5480</td>\n",
       "    </tr>\n",
       "    <tr>\n",
       "      <th>8</th>\n",
       "      <td>8</td>\n",
       "      <td>Linear Regression &amp; Polynomial models</td>\n",
       "      <td>0.7595</td>\n",
       "      <td>0.6897</td>\n",
       "      <td>6.7558</td>\n",
       "      <td>8.4919</td>\n",
       "      <td>0.6897</td>\n",
       "    </tr>\n",
       "    <tr>\n",
       "      <th>9</th>\n",
       "      <td>9</td>\n",
       "      <td>Ridge Regression &amp; Polynomial models</td>\n",
       "      <td>0.7595</td>\n",
       "      <td>0.6905</td>\n",
       "      <td>6.7467</td>\n",
       "      <td>8.4809</td>\n",
       "      <td>0.6905</td>\n",
       "    </tr>\n",
       "    <tr>\n",
       "      <th>10</th>\n",
       "      <td>10</td>\n",
       "      <td>Lasso Regression &amp; Polynomial models</td>\n",
       "      <td>0.7568</td>\n",
       "      <td>0.6950</td>\n",
       "      <td>6.6715</td>\n",
       "      <td>8.4189</td>\n",
       "      <td>0.6950</td>\n",
       "    </tr>\n",
       "    <tr>\n",
       "      <th>11</th>\n",
       "      <td>11</td>\n",
       "      <td>LinearRegression &amp; Feature Selection</td>\n",
       "      <td>0.5914</td>\n",
       "      <td>0.5059</td>\n",
       "      <td>8.0367</td>\n",
       "      <td>10.3168</td>\n",
       "      <td>0.5420</td>\n",
       "    </tr>\n",
       "    <tr>\n",
       "      <th>12</th>\n",
       "      <td>12</td>\n",
       "      <td>Decision Tree (Regression)</td>\n",
       "      <td>0.8839</td>\n",
       "      <td>0.7431</td>\n",
       "      <td>5.8917</td>\n",
       "      <td>7.7260</td>\n",
       "      <td>0.7431</td>\n",
       "    </tr>\n",
       "    <tr>\n",
       "      <th>13</th>\n",
       "      <td>13</td>\n",
       "      <td>Linear SVR</td>\n",
       "      <td>0.6071</td>\n",
       "      <td>0.5373</td>\n",
       "      <td>8.2846</td>\n",
       "      <td>10.3696</td>\n",
       "      <td>0.5373</td>\n",
       "    </tr>\n",
       "    <tr>\n",
       "      <th>14</th>\n",
       "      <td>14</td>\n",
       "      <td>Linear SVR &amp; MinMax S.</td>\n",
       "      <td>0.6011</td>\n",
       "      <td>0.5177</td>\n",
       "      <td>7.9468</td>\n",
       "      <td>10.5865</td>\n",
       "      <td>0.5177</td>\n",
       "    </tr>\n",
       "    <tr>\n",
       "      <th>15</th>\n",
       "      <td>15</td>\n",
       "      <td>Linear SVR &amp; Standard S.</td>\n",
       "      <td>0.5938</td>\n",
       "      <td>0.5073</td>\n",
       "      <td>7.9854</td>\n",
       "      <td>10.6999</td>\n",
       "      <td>0.5073</td>\n",
       "    </tr>\n",
       "    <tr>\n",
       "      <th>16</th>\n",
       "      <td>0</td>\n",
       "      <td>DT Reg. &amp; Standard S.</td>\n",
       "      <td>0.8839</td>\n",
       "      <td>0.7454</td>\n",
       "      <td>5.8668</td>\n",
       "      <td>7.6918</td>\n",
       "      <td>0.7454</td>\n",
       "    </tr>\n",
       "  </tbody>\n",
       "</table>\n",
       "</div>"
      ],
      "text/plain": [
       "    index                                   Method  Training accuracy  \\\n",
       "0       0                        Linear Regression             0.6217   \n",
       "1       1  Linear Regression (Preprocessing Scale)             0.6217   \n",
       "2       2       Linear Regression (Standard Scale)             0.6217   \n",
       "3       3         Linear Regression (MinMax Scale)             0.6217   \n",
       "4       4                         Ridge Regression             0.6217   \n",
       "5       5       Ridge Regression (Standard Scaler)             0.6217   \n",
       "6       6                         Lasso Regression             0.6217   \n",
       "7       7       Lasso Regression (Standard Scaler)             0.6163   \n",
       "8       8    Linear Regression & Polynomial models             0.7595   \n",
       "9       9     Ridge Regression & Polynomial models             0.7595   \n",
       "10     10    Lasso Regression & Polynomial models              0.7568   \n",
       "11     11     LinearRegression & Feature Selection             0.5914   \n",
       "12     12               Decision Tree (Regression)             0.8839   \n",
       "13     13                               Linear SVR             0.6071   \n",
       "14     14                   Linear SVR & MinMax S.             0.6011   \n",
       "15     15                 Linear SVR & Standard S.             0.5938   \n",
       "16      0                    DT Reg. & Standard S.             0.8839   \n",
       "\n",
       "    Testing accuracy  Mean Absolute Error  Root Mean Squared Error  R2 Squared  \n",
       "0             0.5420               8.0367                  10.3168      0.5420  \n",
       "1             0.5186               8.0143                  10.5766      0.5186  \n",
       "2             0.5420               8.0367                  10.3168      0.5420  \n",
       "3             0.5420               8.0367                  10.3168      0.5420  \n",
       "4             0.5420               8.0367                  10.3168      0.5420  \n",
       "5             0.5423               8.0363                  10.3128      0.5423  \n",
       "6             0.5423               8.0343                  10.3133      0.5423  \n",
       "7             0.5480               8.0827                  10.2482      0.5480  \n",
       "8             0.6897               6.7558                   8.4919      0.6897  \n",
       "9             0.6905               6.7467                   8.4809      0.6905  \n",
       "10            0.6950               6.6715                   8.4189      0.6950  \n",
       "11            0.5059               8.0367                  10.3168      0.5420  \n",
       "12            0.7431               5.8917                   7.7260      0.7431  \n",
       "13            0.5373               8.2846                  10.3696      0.5373  \n",
       "14            0.5177               7.9468                  10.5865      0.5177  \n",
       "15            0.5073               7.9854                  10.6999      0.5073  \n",
       "16            0.7454               5.8668                   7.6918      0.7454  "
      ]
     },
     "execution_count": 131,
     "metadata": {},
     "output_type": "execute_result"
    }
   ],
   "source": [
    "resultsDf = print_results(model, X_train, y_train, X_test, y_test, resultsDf)\n",
    "resultsDf"
   ]
  },
  {
   "cell_type": "markdown",
   "metadata": {},
   "source": [
    "#### Bagging Regressor & Standard Scaler"
   ]
  },
  {
   "cell_type": "code",
   "execution_count": 132,
   "metadata": {},
   "outputs": [],
   "source": [
    "model_name = 'Bagging Reg. & StandardS.'\n",
    "\n",
    "X_train, X_test, y_train, y_test = train_test_split(X, y, test_size=.3, random_state=1)"
   ]
  },
  {
   "cell_type": "code",
   "execution_count": 133,
   "metadata": {},
   "outputs": [],
   "source": [
    "from sklearn.svm import SVR\n",
    "from sklearn.ensemble import BaggingRegressor"
   ]
  },
  {
   "cell_type": "code",
   "execution_count": 134,
   "metadata": {},
   "outputs": [
    {
     "data": {
      "text/plain": [
       "Pipeline(memory=None,\n",
       "         steps=[('standardscaler',\n",
       "                 StandardScaler(copy=True, with_mean=True, with_std=True)),\n",
       "                ('baggingregressor',\n",
       "                 BaggingRegressor(base_estimator=SVR(C=1.0, cache_size=200,\n",
       "                                                     coef0=0.0, degree=3,\n",
       "                                                     epsilon=0.1, gamma='scale',\n",
       "                                                     kernel='rbf', max_iter=-1,\n",
       "                                                     shrinking=True, tol=0.001,\n",
       "                                                     verbose=False),\n",
       "                                  bootstrap=True, bootstrap_features=False,\n",
       "                                  max_features=1.0, max_samples=1.0,\n",
       "                                  n_estimators=10, n_jobs=None, oob_score=False,\n",
       "                                  random_state=1, verbose=0,\n",
       "                                  warm_start=False))],\n",
       "         verbose=False)"
      ]
     },
     "execution_count": 134,
     "metadata": {},
     "output_type": "execute_result"
    }
   ],
   "source": [
    "pipe = make_pipeline(StandardScaler(), BaggingRegressor(base_estimator=SVR(), n_estimators=10, random_state=1))\n",
    "pipe.fit(X_train, y_train)"
   ]
  },
  {
   "cell_type": "code",
   "execution_count": 135,
   "metadata": {},
   "outputs": [],
   "source": [
    "model = pipe"
   ]
  },
  {
   "cell_type": "code",
   "execution_count": 136,
   "metadata": {},
   "outputs": [
    {
     "data": {
      "text/html": [
       "<div>\n",
       "<style scoped>\n",
       "    .dataframe tbody tr th:only-of-type {\n",
       "        vertical-align: middle;\n",
       "    }\n",
       "\n",
       "    .dataframe tbody tr th {\n",
       "        vertical-align: top;\n",
       "    }\n",
       "\n",
       "    .dataframe thead th {\n",
       "        text-align: right;\n",
       "    }\n",
       "</style>\n",
       "<table border=\"1\" class=\"dataframe\">\n",
       "  <thead>\n",
       "    <tr style=\"text-align: right;\">\n",
       "      <th></th>\n",
       "      <th>index</th>\n",
       "      <th>Method</th>\n",
       "      <th>Training accuracy</th>\n",
       "      <th>Testing accuracy</th>\n",
       "      <th>Mean Absolute Error</th>\n",
       "      <th>Root Mean Squared Error</th>\n",
       "      <th>R2 Squared</th>\n",
       "    </tr>\n",
       "  </thead>\n",
       "  <tbody>\n",
       "    <tr>\n",
       "      <th>0</th>\n",
       "      <td>0</td>\n",
       "      <td>Linear Regression</td>\n",
       "      <td>0.6217</td>\n",
       "      <td>0.5420</td>\n",
       "      <td>8.0367</td>\n",
       "      <td>10.3168</td>\n",
       "      <td>0.5420</td>\n",
       "    </tr>\n",
       "    <tr>\n",
       "      <th>1</th>\n",
       "      <td>1</td>\n",
       "      <td>Linear Regression (Preprocessing Scale)</td>\n",
       "      <td>0.6217</td>\n",
       "      <td>0.5186</td>\n",
       "      <td>8.0143</td>\n",
       "      <td>10.5766</td>\n",
       "      <td>0.5186</td>\n",
       "    </tr>\n",
       "    <tr>\n",
       "      <th>2</th>\n",
       "      <td>2</td>\n",
       "      <td>Linear Regression (Standard Scale)</td>\n",
       "      <td>0.6217</td>\n",
       "      <td>0.5420</td>\n",
       "      <td>8.0367</td>\n",
       "      <td>10.3168</td>\n",
       "      <td>0.5420</td>\n",
       "    </tr>\n",
       "    <tr>\n",
       "      <th>3</th>\n",
       "      <td>3</td>\n",
       "      <td>Linear Regression (MinMax Scale)</td>\n",
       "      <td>0.6217</td>\n",
       "      <td>0.5420</td>\n",
       "      <td>8.0367</td>\n",
       "      <td>10.3168</td>\n",
       "      <td>0.5420</td>\n",
       "    </tr>\n",
       "    <tr>\n",
       "      <th>4</th>\n",
       "      <td>4</td>\n",
       "      <td>Ridge Regression</td>\n",
       "      <td>0.6217</td>\n",
       "      <td>0.5420</td>\n",
       "      <td>8.0367</td>\n",
       "      <td>10.3168</td>\n",
       "      <td>0.5420</td>\n",
       "    </tr>\n",
       "    <tr>\n",
       "      <th>5</th>\n",
       "      <td>5</td>\n",
       "      <td>Ridge Regression (Standard Scaler)</td>\n",
       "      <td>0.6217</td>\n",
       "      <td>0.5423</td>\n",
       "      <td>8.0363</td>\n",
       "      <td>10.3128</td>\n",
       "      <td>0.5423</td>\n",
       "    </tr>\n",
       "    <tr>\n",
       "      <th>6</th>\n",
       "      <td>6</td>\n",
       "      <td>Lasso Regression</td>\n",
       "      <td>0.6217</td>\n",
       "      <td>0.5423</td>\n",
       "      <td>8.0343</td>\n",
       "      <td>10.3133</td>\n",
       "      <td>0.5423</td>\n",
       "    </tr>\n",
       "    <tr>\n",
       "      <th>7</th>\n",
       "      <td>7</td>\n",
       "      <td>Lasso Regression (Standard Scaler)</td>\n",
       "      <td>0.6163</td>\n",
       "      <td>0.5480</td>\n",
       "      <td>8.0827</td>\n",
       "      <td>10.2482</td>\n",
       "      <td>0.5480</td>\n",
       "    </tr>\n",
       "    <tr>\n",
       "      <th>8</th>\n",
       "      <td>8</td>\n",
       "      <td>Linear Regression &amp; Polynomial models</td>\n",
       "      <td>0.7595</td>\n",
       "      <td>0.6897</td>\n",
       "      <td>6.7558</td>\n",
       "      <td>8.4919</td>\n",
       "      <td>0.6897</td>\n",
       "    </tr>\n",
       "    <tr>\n",
       "      <th>9</th>\n",
       "      <td>9</td>\n",
       "      <td>Ridge Regression &amp; Polynomial models</td>\n",
       "      <td>0.7595</td>\n",
       "      <td>0.6905</td>\n",
       "      <td>6.7467</td>\n",
       "      <td>8.4809</td>\n",
       "      <td>0.6905</td>\n",
       "    </tr>\n",
       "    <tr>\n",
       "      <th>10</th>\n",
       "      <td>10</td>\n",
       "      <td>Lasso Regression &amp; Polynomial models</td>\n",
       "      <td>0.7568</td>\n",
       "      <td>0.6950</td>\n",
       "      <td>6.6715</td>\n",
       "      <td>8.4189</td>\n",
       "      <td>0.6950</td>\n",
       "    </tr>\n",
       "    <tr>\n",
       "      <th>11</th>\n",
       "      <td>11</td>\n",
       "      <td>LinearRegression &amp; Feature Selection</td>\n",
       "      <td>0.5914</td>\n",
       "      <td>0.5059</td>\n",
       "      <td>8.0367</td>\n",
       "      <td>10.3168</td>\n",
       "      <td>0.5420</td>\n",
       "    </tr>\n",
       "    <tr>\n",
       "      <th>12</th>\n",
       "      <td>12</td>\n",
       "      <td>Decision Tree (Regression)</td>\n",
       "      <td>0.8839</td>\n",
       "      <td>0.7431</td>\n",
       "      <td>5.8917</td>\n",
       "      <td>7.7260</td>\n",
       "      <td>0.7431</td>\n",
       "    </tr>\n",
       "    <tr>\n",
       "      <th>13</th>\n",
       "      <td>13</td>\n",
       "      <td>Linear SVR</td>\n",
       "      <td>0.6071</td>\n",
       "      <td>0.5373</td>\n",
       "      <td>8.2846</td>\n",
       "      <td>10.3696</td>\n",
       "      <td>0.5373</td>\n",
       "    </tr>\n",
       "    <tr>\n",
       "      <th>14</th>\n",
       "      <td>14</td>\n",
       "      <td>Linear SVR &amp; MinMax S.</td>\n",
       "      <td>0.6011</td>\n",
       "      <td>0.5177</td>\n",
       "      <td>7.9468</td>\n",
       "      <td>10.5865</td>\n",
       "      <td>0.5177</td>\n",
       "    </tr>\n",
       "    <tr>\n",
       "      <th>15</th>\n",
       "      <td>15</td>\n",
       "      <td>Linear SVR &amp; Standard S.</td>\n",
       "      <td>0.5938</td>\n",
       "      <td>0.5073</td>\n",
       "      <td>7.9854</td>\n",
       "      <td>10.6999</td>\n",
       "      <td>0.5073</td>\n",
       "    </tr>\n",
       "    <tr>\n",
       "      <th>16</th>\n",
       "      <td>16</td>\n",
       "      <td>DT Reg. &amp; Standard S.</td>\n",
       "      <td>0.8839</td>\n",
       "      <td>0.7454</td>\n",
       "      <td>5.8668</td>\n",
       "      <td>7.6918</td>\n",
       "      <td>0.7454</td>\n",
       "    </tr>\n",
       "    <tr>\n",
       "      <th>17</th>\n",
       "      <td>0</td>\n",
       "      <td>Bagging Reg. &amp; StandardS.</td>\n",
       "      <td>0.6467</td>\n",
       "      <td>0.5868</td>\n",
       "      <td>7.7500</td>\n",
       "      <td>9.7984</td>\n",
       "      <td>0.5868</td>\n",
       "    </tr>\n",
       "  </tbody>\n",
       "</table>\n",
       "</div>"
      ],
      "text/plain": [
       "    index                                   Method  Training accuracy  \\\n",
       "0       0                        Linear Regression             0.6217   \n",
       "1       1  Linear Regression (Preprocessing Scale)             0.6217   \n",
       "2       2       Linear Regression (Standard Scale)             0.6217   \n",
       "3       3         Linear Regression (MinMax Scale)             0.6217   \n",
       "4       4                         Ridge Regression             0.6217   \n",
       "5       5       Ridge Regression (Standard Scaler)             0.6217   \n",
       "6       6                         Lasso Regression             0.6217   \n",
       "7       7       Lasso Regression (Standard Scaler)             0.6163   \n",
       "8       8    Linear Regression & Polynomial models             0.7595   \n",
       "9       9     Ridge Regression & Polynomial models             0.7595   \n",
       "10     10    Lasso Regression & Polynomial models              0.7568   \n",
       "11     11     LinearRegression & Feature Selection             0.5914   \n",
       "12     12               Decision Tree (Regression)             0.8839   \n",
       "13     13                               Linear SVR             0.6071   \n",
       "14     14                   Linear SVR & MinMax S.             0.6011   \n",
       "15     15                 Linear SVR & Standard S.             0.5938   \n",
       "16     16                    DT Reg. & Standard S.             0.8839   \n",
       "17      0                Bagging Reg. & StandardS.             0.6467   \n",
       "\n",
       "    Testing accuracy  Mean Absolute Error  Root Mean Squared Error  R2 Squared  \n",
       "0             0.5420               8.0367                  10.3168      0.5420  \n",
       "1             0.5186               8.0143                  10.5766      0.5186  \n",
       "2             0.5420               8.0367                  10.3168      0.5420  \n",
       "3             0.5420               8.0367                  10.3168      0.5420  \n",
       "4             0.5420               8.0367                  10.3168      0.5420  \n",
       "5             0.5423               8.0363                  10.3128      0.5423  \n",
       "6             0.5423               8.0343                  10.3133      0.5423  \n",
       "7             0.5480               8.0827                  10.2482      0.5480  \n",
       "8             0.6897               6.7558                   8.4919      0.6897  \n",
       "9             0.6905               6.7467                   8.4809      0.6905  \n",
       "10            0.6950               6.6715                   8.4189      0.6950  \n",
       "11            0.5059               8.0367                  10.3168      0.5420  \n",
       "12            0.7431               5.8917                   7.7260      0.7431  \n",
       "13            0.5373               8.2846                  10.3696      0.5373  \n",
       "14            0.5177               7.9468                  10.5865      0.5177  \n",
       "15            0.5073               7.9854                  10.6999      0.5073  \n",
       "16            0.7454               5.8668                   7.6918      0.7454  \n",
       "17            0.5868               7.7500                   9.7984      0.5868  "
      ]
     },
     "execution_count": 136,
     "metadata": {},
     "output_type": "execute_result"
    }
   ],
   "source": [
    "resultsDf = print_results(model, X_train, y_train, X_test, y_test, resultsDf)\n",
    "resultsDf"
   ]
  },
  {
   "cell_type": "markdown",
   "metadata": {},
   "source": [
    "#### Gradient Boosting Regressor & MinMax Scaler"
   ]
  },
  {
   "cell_type": "code",
   "execution_count": 137,
   "metadata": {},
   "outputs": [],
   "source": [
    "model_name = 'Grad. Boost. Reg. & MinMax.S.'\n",
    "\n",
    "X_train, X_test, y_train, y_test = train_test_split(X, y, test_size=.3, random_state=1)"
   ]
  },
  {
   "cell_type": "code",
   "execution_count": 138,
   "metadata": {},
   "outputs": [],
   "source": [
    "from sklearn.ensemble import GradientBoostingRegressor"
   ]
  },
  {
   "cell_type": "code",
   "execution_count": 139,
   "metadata": {},
   "outputs": [
    {
     "data": {
      "text/plain": [
       "Pipeline(memory=None,\n",
       "         steps=[('minmaxscaler', MinMaxScaler(copy=True, feature_range=(0, 1))),\n",
       "                ('gradientboostingregressor',\n",
       "                 GradientBoostingRegressor(alpha=0.9, ccp_alpha=0.0,\n",
       "                                           criterion='friedman_mse', init=None,\n",
       "                                           learning_rate=0.1, loss='ls',\n",
       "                                           max_depth=3, max_features=None,\n",
       "                                           max_leaf_nodes=None,\n",
       "                                           min_impurity_decrease=0.0,\n",
       "                                           min_impurity_split=None,\n",
       "                                           min_samples_leaf=1,\n",
       "                                           min_samples_split=2,\n",
       "                                           min_weight_fraction_leaf=0.0,\n",
       "                                           n_estimators=10,\n",
       "                                           n_iter_no_change=None,\n",
       "                                           presort='deprecated', random_state=1,\n",
       "                                           subsample=1.0, tol=0.0001,\n",
       "                                           validation_fraction=0.1, verbose=0,\n",
       "                                           warm_start=False))],\n",
       "         verbose=False)"
      ]
     },
     "execution_count": 139,
     "metadata": {},
     "output_type": "execute_result"
    }
   ],
   "source": [
    "pipe = make_pipeline(MinMaxScaler(), GradientBoostingRegressor(loss='ls', n_estimators=10, random_state=1))\n",
    "pipe.fit(X_train, y_train)"
   ]
  },
  {
   "cell_type": "code",
   "execution_count": 140,
   "metadata": {},
   "outputs": [],
   "source": [
    "model = pipe"
   ]
  },
  {
   "cell_type": "code",
   "execution_count": 141,
   "metadata": {},
   "outputs": [
    {
     "data": {
      "text/html": [
       "<div>\n",
       "<style scoped>\n",
       "    .dataframe tbody tr th:only-of-type {\n",
       "        vertical-align: middle;\n",
       "    }\n",
       "\n",
       "    .dataframe tbody tr th {\n",
       "        vertical-align: top;\n",
       "    }\n",
       "\n",
       "    .dataframe thead th {\n",
       "        text-align: right;\n",
       "    }\n",
       "</style>\n",
       "<table border=\"1\" class=\"dataframe\">\n",
       "  <thead>\n",
       "    <tr style=\"text-align: right;\">\n",
       "      <th></th>\n",
       "      <th>index</th>\n",
       "      <th>Method</th>\n",
       "      <th>Training accuracy</th>\n",
       "      <th>Testing accuracy</th>\n",
       "      <th>Mean Absolute Error</th>\n",
       "      <th>Root Mean Squared Error</th>\n",
       "      <th>R2 Squared</th>\n",
       "    </tr>\n",
       "  </thead>\n",
       "  <tbody>\n",
       "    <tr>\n",
       "      <th>0</th>\n",
       "      <td>0</td>\n",
       "      <td>Linear Regression</td>\n",
       "      <td>0.6217</td>\n",
       "      <td>0.5420</td>\n",
       "      <td>8.0367</td>\n",
       "      <td>10.3168</td>\n",
       "      <td>0.5420</td>\n",
       "    </tr>\n",
       "    <tr>\n",
       "      <th>1</th>\n",
       "      <td>1</td>\n",
       "      <td>Linear Regression (Preprocessing Scale)</td>\n",
       "      <td>0.6217</td>\n",
       "      <td>0.5186</td>\n",
       "      <td>8.0143</td>\n",
       "      <td>10.5766</td>\n",
       "      <td>0.5186</td>\n",
       "    </tr>\n",
       "    <tr>\n",
       "      <th>2</th>\n",
       "      <td>2</td>\n",
       "      <td>Linear Regression (Standard Scale)</td>\n",
       "      <td>0.6217</td>\n",
       "      <td>0.5420</td>\n",
       "      <td>8.0367</td>\n",
       "      <td>10.3168</td>\n",
       "      <td>0.5420</td>\n",
       "    </tr>\n",
       "    <tr>\n",
       "      <th>3</th>\n",
       "      <td>3</td>\n",
       "      <td>Linear Regression (MinMax Scale)</td>\n",
       "      <td>0.6217</td>\n",
       "      <td>0.5420</td>\n",
       "      <td>8.0367</td>\n",
       "      <td>10.3168</td>\n",
       "      <td>0.5420</td>\n",
       "    </tr>\n",
       "    <tr>\n",
       "      <th>4</th>\n",
       "      <td>4</td>\n",
       "      <td>Ridge Regression</td>\n",
       "      <td>0.6217</td>\n",
       "      <td>0.5420</td>\n",
       "      <td>8.0367</td>\n",
       "      <td>10.3168</td>\n",
       "      <td>0.5420</td>\n",
       "    </tr>\n",
       "    <tr>\n",
       "      <th>5</th>\n",
       "      <td>5</td>\n",
       "      <td>Ridge Regression (Standard Scaler)</td>\n",
       "      <td>0.6217</td>\n",
       "      <td>0.5423</td>\n",
       "      <td>8.0363</td>\n",
       "      <td>10.3128</td>\n",
       "      <td>0.5423</td>\n",
       "    </tr>\n",
       "    <tr>\n",
       "      <th>6</th>\n",
       "      <td>6</td>\n",
       "      <td>Lasso Regression</td>\n",
       "      <td>0.6217</td>\n",
       "      <td>0.5423</td>\n",
       "      <td>8.0343</td>\n",
       "      <td>10.3133</td>\n",
       "      <td>0.5423</td>\n",
       "    </tr>\n",
       "    <tr>\n",
       "      <th>7</th>\n",
       "      <td>7</td>\n",
       "      <td>Lasso Regression (Standard Scaler)</td>\n",
       "      <td>0.6163</td>\n",
       "      <td>0.5480</td>\n",
       "      <td>8.0827</td>\n",
       "      <td>10.2482</td>\n",
       "      <td>0.5480</td>\n",
       "    </tr>\n",
       "    <tr>\n",
       "      <th>8</th>\n",
       "      <td>8</td>\n",
       "      <td>Linear Regression &amp; Polynomial models</td>\n",
       "      <td>0.7595</td>\n",
       "      <td>0.6897</td>\n",
       "      <td>6.7558</td>\n",
       "      <td>8.4919</td>\n",
       "      <td>0.6897</td>\n",
       "    </tr>\n",
       "    <tr>\n",
       "      <th>9</th>\n",
       "      <td>9</td>\n",
       "      <td>Ridge Regression &amp; Polynomial models</td>\n",
       "      <td>0.7595</td>\n",
       "      <td>0.6905</td>\n",
       "      <td>6.7467</td>\n",
       "      <td>8.4809</td>\n",
       "      <td>0.6905</td>\n",
       "    </tr>\n",
       "    <tr>\n",
       "      <th>10</th>\n",
       "      <td>10</td>\n",
       "      <td>Lasso Regression &amp; Polynomial models</td>\n",
       "      <td>0.7568</td>\n",
       "      <td>0.6950</td>\n",
       "      <td>6.6715</td>\n",
       "      <td>8.4189</td>\n",
       "      <td>0.6950</td>\n",
       "    </tr>\n",
       "    <tr>\n",
       "      <th>11</th>\n",
       "      <td>11</td>\n",
       "      <td>LinearRegression &amp; Feature Selection</td>\n",
       "      <td>0.5914</td>\n",
       "      <td>0.5059</td>\n",
       "      <td>8.0367</td>\n",
       "      <td>10.3168</td>\n",
       "      <td>0.5420</td>\n",
       "    </tr>\n",
       "    <tr>\n",
       "      <th>12</th>\n",
       "      <td>12</td>\n",
       "      <td>Decision Tree (Regression)</td>\n",
       "      <td>0.8839</td>\n",
       "      <td>0.7431</td>\n",
       "      <td>5.8917</td>\n",
       "      <td>7.7260</td>\n",
       "      <td>0.7431</td>\n",
       "    </tr>\n",
       "    <tr>\n",
       "      <th>13</th>\n",
       "      <td>13</td>\n",
       "      <td>Linear SVR</td>\n",
       "      <td>0.6071</td>\n",
       "      <td>0.5373</td>\n",
       "      <td>8.2846</td>\n",
       "      <td>10.3696</td>\n",
       "      <td>0.5373</td>\n",
       "    </tr>\n",
       "    <tr>\n",
       "      <th>14</th>\n",
       "      <td>14</td>\n",
       "      <td>Linear SVR &amp; MinMax S.</td>\n",
       "      <td>0.6011</td>\n",
       "      <td>0.5177</td>\n",
       "      <td>7.9468</td>\n",
       "      <td>10.5865</td>\n",
       "      <td>0.5177</td>\n",
       "    </tr>\n",
       "    <tr>\n",
       "      <th>15</th>\n",
       "      <td>15</td>\n",
       "      <td>Linear SVR &amp; Standard S.</td>\n",
       "      <td>0.5938</td>\n",
       "      <td>0.5073</td>\n",
       "      <td>7.9854</td>\n",
       "      <td>10.6999</td>\n",
       "      <td>0.5073</td>\n",
       "    </tr>\n",
       "    <tr>\n",
       "      <th>16</th>\n",
       "      <td>16</td>\n",
       "      <td>DT Reg. &amp; Standard S.</td>\n",
       "      <td>0.8839</td>\n",
       "      <td>0.7454</td>\n",
       "      <td>5.8668</td>\n",
       "      <td>7.6918</td>\n",
       "      <td>0.7454</td>\n",
       "    </tr>\n",
       "    <tr>\n",
       "      <th>17</th>\n",
       "      <td>17</td>\n",
       "      <td>Bagging Reg. &amp; StandardS.</td>\n",
       "      <td>0.6467</td>\n",
       "      <td>0.5868</td>\n",
       "      <td>7.7500</td>\n",
       "      <td>9.7984</td>\n",
       "      <td>0.5868</td>\n",
       "    </tr>\n",
       "    <tr>\n",
       "      <th>18</th>\n",
       "      <td>0</td>\n",
       "      <td>Grad. Boost. Reg. &amp; MinMax.S.</td>\n",
       "      <td>0.6415</td>\n",
       "      <td>0.5808</td>\n",
       "      <td>7.9978</td>\n",
       "      <td>9.8693</td>\n",
       "      <td>0.5808</td>\n",
       "    </tr>\n",
       "  </tbody>\n",
       "</table>\n",
       "</div>"
      ],
      "text/plain": [
       "    index                                   Method  Training accuracy  \\\n",
       "0       0                        Linear Regression             0.6217   \n",
       "1       1  Linear Regression (Preprocessing Scale)             0.6217   \n",
       "2       2       Linear Regression (Standard Scale)             0.6217   \n",
       "3       3         Linear Regression (MinMax Scale)             0.6217   \n",
       "4       4                         Ridge Regression             0.6217   \n",
       "5       5       Ridge Regression (Standard Scaler)             0.6217   \n",
       "6       6                         Lasso Regression             0.6217   \n",
       "7       7       Lasso Regression (Standard Scaler)             0.6163   \n",
       "8       8    Linear Regression & Polynomial models             0.7595   \n",
       "9       9     Ridge Regression & Polynomial models             0.7595   \n",
       "10     10    Lasso Regression & Polynomial models              0.7568   \n",
       "11     11     LinearRegression & Feature Selection             0.5914   \n",
       "12     12               Decision Tree (Regression)             0.8839   \n",
       "13     13                               Linear SVR             0.6071   \n",
       "14     14                   Linear SVR & MinMax S.             0.6011   \n",
       "15     15                 Linear SVR & Standard S.             0.5938   \n",
       "16     16                    DT Reg. & Standard S.             0.8839   \n",
       "17     17                Bagging Reg. & StandardS.             0.6467   \n",
       "18      0            Grad. Boost. Reg. & MinMax.S.             0.6415   \n",
       "\n",
       "    Testing accuracy  Mean Absolute Error  Root Mean Squared Error  R2 Squared  \n",
       "0             0.5420               8.0367                  10.3168      0.5420  \n",
       "1             0.5186               8.0143                  10.5766      0.5186  \n",
       "2             0.5420               8.0367                  10.3168      0.5420  \n",
       "3             0.5420               8.0367                  10.3168      0.5420  \n",
       "4             0.5420               8.0367                  10.3168      0.5420  \n",
       "5             0.5423               8.0363                  10.3128      0.5423  \n",
       "6             0.5423               8.0343                  10.3133      0.5423  \n",
       "7             0.5480               8.0827                  10.2482      0.5480  \n",
       "8             0.6897               6.7558                   8.4919      0.6897  \n",
       "9             0.6905               6.7467                   8.4809      0.6905  \n",
       "10            0.6950               6.6715                   8.4189      0.6950  \n",
       "11            0.5059               8.0367                  10.3168      0.5420  \n",
       "12            0.7431               5.8917                   7.7260      0.7431  \n",
       "13            0.5373               8.2846                  10.3696      0.5373  \n",
       "14            0.5177               7.9468                  10.5865      0.5177  \n",
       "15            0.5073               7.9854                  10.6999      0.5073  \n",
       "16            0.7454               5.8668                   7.6918      0.7454  \n",
       "17            0.5868               7.7500                   9.7984      0.5868  \n",
       "18            0.5808               7.9978                   9.8693      0.5808  "
      ]
     },
     "execution_count": 141,
     "metadata": {},
     "output_type": "execute_result"
    }
   ],
   "source": [
    "resultsDf = print_results(model, X_train, y_train, X_test, y_test, resultsDf)\n",
    "resultsDf"
   ]
  },
  {
   "cell_type": "markdown",
   "metadata": {},
   "source": [
    "#### Gradient Boosting Regressor & Standard Scaler"
   ]
  },
  {
   "cell_type": "code",
   "execution_count": 142,
   "metadata": {},
   "outputs": [],
   "source": [
    "model_name = 'Grad. Boost. Reg. & Std.S.'\n",
    "\n",
    "X_train, X_test, y_train, y_test = train_test_split(X, y, test_size=.3, random_state=1)"
   ]
  },
  {
   "cell_type": "code",
   "execution_count": 143,
   "metadata": {},
   "outputs": [
    {
     "data": {
      "text/plain": [
       "Pipeline(memory=None,\n",
       "         steps=[('standardscaler',\n",
       "                 StandardScaler(copy=True, with_mean=True, with_std=True)),\n",
       "                ('gradientboostingregressor',\n",
       "                 GradientBoostingRegressor(alpha=0.9, ccp_alpha=0.0,\n",
       "                                           criterion='friedman_mse', init=None,\n",
       "                                           learning_rate=0.1, loss='ls',\n",
       "                                           max_depth=3, max_features=None,\n",
       "                                           max_leaf_nodes=None,\n",
       "                                           min_impurity_decrease=0.0,\n",
       "                                           min_impurity_split=None,\n",
       "                                           min_samples_leaf=1,\n",
       "                                           min_samples_split=2,\n",
       "                                           min_weight_fraction_leaf=0.0,\n",
       "                                           n_estimators=10,\n",
       "                                           n_iter_no_change=None,\n",
       "                                           presort='deprecated', random_state=1,\n",
       "                                           subsample=1.0, tol=0.0001,\n",
       "                                           validation_fraction=0.1, verbose=0,\n",
       "                                           warm_start=False))],\n",
       "         verbose=False)"
      ]
     },
     "execution_count": 143,
     "metadata": {},
     "output_type": "execute_result"
    }
   ],
   "source": [
    "pipe = make_pipeline(StandardScaler(), GradientBoostingRegressor(loss='ls', n_estimators=10, random_state=1))\n",
    "pipe.fit(X_train, y_train)"
   ]
  },
  {
   "cell_type": "code",
   "execution_count": 144,
   "metadata": {},
   "outputs": [],
   "source": [
    "model = pipe"
   ]
  },
  {
   "cell_type": "code",
   "execution_count": 145,
   "metadata": {},
   "outputs": [
    {
     "data": {
      "text/html": [
       "<div>\n",
       "<style scoped>\n",
       "    .dataframe tbody tr th:only-of-type {\n",
       "        vertical-align: middle;\n",
       "    }\n",
       "\n",
       "    .dataframe tbody tr th {\n",
       "        vertical-align: top;\n",
       "    }\n",
       "\n",
       "    .dataframe thead th {\n",
       "        text-align: right;\n",
       "    }\n",
       "</style>\n",
       "<table border=\"1\" class=\"dataframe\">\n",
       "  <thead>\n",
       "    <tr style=\"text-align: right;\">\n",
       "      <th></th>\n",
       "      <th>index</th>\n",
       "      <th>Method</th>\n",
       "      <th>Training accuracy</th>\n",
       "      <th>Testing accuracy</th>\n",
       "      <th>Mean Absolute Error</th>\n",
       "      <th>Root Mean Squared Error</th>\n",
       "      <th>R2 Squared</th>\n",
       "    </tr>\n",
       "  </thead>\n",
       "  <tbody>\n",
       "    <tr>\n",
       "      <th>0</th>\n",
       "      <td>0</td>\n",
       "      <td>Linear Regression</td>\n",
       "      <td>0.6217</td>\n",
       "      <td>0.5420</td>\n",
       "      <td>8.0367</td>\n",
       "      <td>10.3168</td>\n",
       "      <td>0.5420</td>\n",
       "    </tr>\n",
       "    <tr>\n",
       "      <th>1</th>\n",
       "      <td>1</td>\n",
       "      <td>Linear Regression (Preprocessing Scale)</td>\n",
       "      <td>0.6217</td>\n",
       "      <td>0.5186</td>\n",
       "      <td>8.0143</td>\n",
       "      <td>10.5766</td>\n",
       "      <td>0.5186</td>\n",
       "    </tr>\n",
       "    <tr>\n",
       "      <th>2</th>\n",
       "      <td>2</td>\n",
       "      <td>Linear Regression (Standard Scale)</td>\n",
       "      <td>0.6217</td>\n",
       "      <td>0.5420</td>\n",
       "      <td>8.0367</td>\n",
       "      <td>10.3168</td>\n",
       "      <td>0.5420</td>\n",
       "    </tr>\n",
       "    <tr>\n",
       "      <th>3</th>\n",
       "      <td>3</td>\n",
       "      <td>Linear Regression (MinMax Scale)</td>\n",
       "      <td>0.6217</td>\n",
       "      <td>0.5420</td>\n",
       "      <td>8.0367</td>\n",
       "      <td>10.3168</td>\n",
       "      <td>0.5420</td>\n",
       "    </tr>\n",
       "    <tr>\n",
       "      <th>4</th>\n",
       "      <td>4</td>\n",
       "      <td>Ridge Regression</td>\n",
       "      <td>0.6217</td>\n",
       "      <td>0.5420</td>\n",
       "      <td>8.0367</td>\n",
       "      <td>10.3168</td>\n",
       "      <td>0.5420</td>\n",
       "    </tr>\n",
       "    <tr>\n",
       "      <th>5</th>\n",
       "      <td>5</td>\n",
       "      <td>Ridge Regression (Standard Scaler)</td>\n",
       "      <td>0.6217</td>\n",
       "      <td>0.5423</td>\n",
       "      <td>8.0363</td>\n",
       "      <td>10.3128</td>\n",
       "      <td>0.5423</td>\n",
       "    </tr>\n",
       "    <tr>\n",
       "      <th>6</th>\n",
       "      <td>6</td>\n",
       "      <td>Lasso Regression</td>\n",
       "      <td>0.6217</td>\n",
       "      <td>0.5423</td>\n",
       "      <td>8.0343</td>\n",
       "      <td>10.3133</td>\n",
       "      <td>0.5423</td>\n",
       "    </tr>\n",
       "    <tr>\n",
       "      <th>7</th>\n",
       "      <td>7</td>\n",
       "      <td>Lasso Regression (Standard Scaler)</td>\n",
       "      <td>0.6163</td>\n",
       "      <td>0.5480</td>\n",
       "      <td>8.0827</td>\n",
       "      <td>10.2482</td>\n",
       "      <td>0.5480</td>\n",
       "    </tr>\n",
       "    <tr>\n",
       "      <th>8</th>\n",
       "      <td>8</td>\n",
       "      <td>Linear Regression &amp; Polynomial models</td>\n",
       "      <td>0.7595</td>\n",
       "      <td>0.6897</td>\n",
       "      <td>6.7558</td>\n",
       "      <td>8.4919</td>\n",
       "      <td>0.6897</td>\n",
       "    </tr>\n",
       "    <tr>\n",
       "      <th>9</th>\n",
       "      <td>9</td>\n",
       "      <td>Ridge Regression &amp; Polynomial models</td>\n",
       "      <td>0.7595</td>\n",
       "      <td>0.6905</td>\n",
       "      <td>6.7467</td>\n",
       "      <td>8.4809</td>\n",
       "      <td>0.6905</td>\n",
       "    </tr>\n",
       "    <tr>\n",
       "      <th>10</th>\n",
       "      <td>10</td>\n",
       "      <td>Lasso Regression &amp; Polynomial models</td>\n",
       "      <td>0.7568</td>\n",
       "      <td>0.6950</td>\n",
       "      <td>6.6715</td>\n",
       "      <td>8.4189</td>\n",
       "      <td>0.6950</td>\n",
       "    </tr>\n",
       "    <tr>\n",
       "      <th>11</th>\n",
       "      <td>11</td>\n",
       "      <td>LinearRegression &amp; Feature Selection</td>\n",
       "      <td>0.5914</td>\n",
       "      <td>0.5059</td>\n",
       "      <td>8.0367</td>\n",
       "      <td>10.3168</td>\n",
       "      <td>0.5420</td>\n",
       "    </tr>\n",
       "    <tr>\n",
       "      <th>12</th>\n",
       "      <td>12</td>\n",
       "      <td>Decision Tree (Regression)</td>\n",
       "      <td>0.8839</td>\n",
       "      <td>0.7431</td>\n",
       "      <td>5.8917</td>\n",
       "      <td>7.7260</td>\n",
       "      <td>0.7431</td>\n",
       "    </tr>\n",
       "    <tr>\n",
       "      <th>13</th>\n",
       "      <td>13</td>\n",
       "      <td>Linear SVR</td>\n",
       "      <td>0.6071</td>\n",
       "      <td>0.5373</td>\n",
       "      <td>8.2846</td>\n",
       "      <td>10.3696</td>\n",
       "      <td>0.5373</td>\n",
       "    </tr>\n",
       "    <tr>\n",
       "      <th>14</th>\n",
       "      <td>14</td>\n",
       "      <td>Linear SVR &amp; MinMax S.</td>\n",
       "      <td>0.6011</td>\n",
       "      <td>0.5177</td>\n",
       "      <td>7.9468</td>\n",
       "      <td>10.5865</td>\n",
       "      <td>0.5177</td>\n",
       "    </tr>\n",
       "    <tr>\n",
       "      <th>15</th>\n",
       "      <td>15</td>\n",
       "      <td>Linear SVR &amp; Standard S.</td>\n",
       "      <td>0.5938</td>\n",
       "      <td>0.5073</td>\n",
       "      <td>7.9854</td>\n",
       "      <td>10.6999</td>\n",
       "      <td>0.5073</td>\n",
       "    </tr>\n",
       "    <tr>\n",
       "      <th>16</th>\n",
       "      <td>16</td>\n",
       "      <td>DT Reg. &amp; Standard S.</td>\n",
       "      <td>0.8839</td>\n",
       "      <td>0.7454</td>\n",
       "      <td>5.8668</td>\n",
       "      <td>7.6918</td>\n",
       "      <td>0.7454</td>\n",
       "    </tr>\n",
       "    <tr>\n",
       "      <th>17</th>\n",
       "      <td>17</td>\n",
       "      <td>Bagging Reg. &amp; StandardS.</td>\n",
       "      <td>0.6467</td>\n",
       "      <td>0.5868</td>\n",
       "      <td>7.7500</td>\n",
       "      <td>9.7984</td>\n",
       "      <td>0.5868</td>\n",
       "    </tr>\n",
       "    <tr>\n",
       "      <th>18</th>\n",
       "      <td>18</td>\n",
       "      <td>Grad. Boost. Reg. &amp; MinMax.S.</td>\n",
       "      <td>0.6415</td>\n",
       "      <td>0.5808</td>\n",
       "      <td>7.9978</td>\n",
       "      <td>9.8693</td>\n",
       "      <td>0.5808</td>\n",
       "    </tr>\n",
       "    <tr>\n",
       "      <th>19</th>\n",
       "      <td>0</td>\n",
       "      <td>Grad. Boost. Reg. &amp; Std.S.</td>\n",
       "      <td>0.6415</td>\n",
       "      <td>0.5808</td>\n",
       "      <td>7.9978</td>\n",
       "      <td>9.8693</td>\n",
       "      <td>0.5808</td>\n",
       "    </tr>\n",
       "  </tbody>\n",
       "</table>\n",
       "</div>"
      ],
      "text/plain": [
       "    index                                   Method  Training accuracy  \\\n",
       "0       0                        Linear Regression             0.6217   \n",
       "1       1  Linear Regression (Preprocessing Scale)             0.6217   \n",
       "2       2       Linear Regression (Standard Scale)             0.6217   \n",
       "3       3         Linear Regression (MinMax Scale)             0.6217   \n",
       "4       4                         Ridge Regression             0.6217   \n",
       "5       5       Ridge Regression (Standard Scaler)             0.6217   \n",
       "6       6                         Lasso Regression             0.6217   \n",
       "7       7       Lasso Regression (Standard Scaler)             0.6163   \n",
       "8       8    Linear Regression & Polynomial models             0.7595   \n",
       "9       9     Ridge Regression & Polynomial models             0.7595   \n",
       "10     10    Lasso Regression & Polynomial models              0.7568   \n",
       "11     11     LinearRegression & Feature Selection             0.5914   \n",
       "12     12               Decision Tree (Regression)             0.8839   \n",
       "13     13                               Linear SVR             0.6071   \n",
       "14     14                   Linear SVR & MinMax S.             0.6011   \n",
       "15     15                 Linear SVR & Standard S.             0.5938   \n",
       "16     16                    DT Reg. & Standard S.             0.8839   \n",
       "17     17                Bagging Reg. & StandardS.             0.6467   \n",
       "18     18            Grad. Boost. Reg. & MinMax.S.             0.6415   \n",
       "19      0               Grad. Boost. Reg. & Std.S.             0.6415   \n",
       "\n",
       "    Testing accuracy  Mean Absolute Error  Root Mean Squared Error  R2 Squared  \n",
       "0             0.5420               8.0367                  10.3168      0.5420  \n",
       "1             0.5186               8.0143                  10.5766      0.5186  \n",
       "2             0.5420               8.0367                  10.3168      0.5420  \n",
       "3             0.5420               8.0367                  10.3168      0.5420  \n",
       "4             0.5420               8.0367                  10.3168      0.5420  \n",
       "5             0.5423               8.0363                  10.3128      0.5423  \n",
       "6             0.5423               8.0343                  10.3133      0.5423  \n",
       "7             0.5480               8.0827                  10.2482      0.5480  \n",
       "8             0.6897               6.7558                   8.4919      0.6897  \n",
       "9             0.6905               6.7467                   8.4809      0.6905  \n",
       "10            0.6950               6.6715                   8.4189      0.6950  \n",
       "11            0.5059               8.0367                  10.3168      0.5420  \n",
       "12            0.7431               5.8917                   7.7260      0.7431  \n",
       "13            0.5373               8.2846                  10.3696      0.5373  \n",
       "14            0.5177               7.9468                  10.5865      0.5177  \n",
       "15            0.5073               7.9854                  10.6999      0.5073  \n",
       "16            0.7454               5.8668                   7.6918      0.7454  \n",
       "17            0.5868               7.7500                   9.7984      0.5868  \n",
       "18            0.5808               7.9978                   9.8693      0.5808  \n",
       "19            0.5808               7.9978                   9.8693      0.5808  "
      ]
     },
     "execution_count": 145,
     "metadata": {},
     "output_type": "execute_result"
    }
   ],
   "source": [
    "resultsDf = print_results(model, X_train, y_train, X_test, y_test, resultsDf)\n",
    "resultsDf"
   ]
  },
  {
   "cell_type": "markdown",
   "metadata": {},
   "source": [
    "#### Gradient Boosting Regressor & Standard Scaler & PCA"
   ]
  },
  {
   "cell_type": "code",
   "execution_count": 146,
   "metadata": {},
   "outputs": [],
   "source": [
    "model_name = 'Grad. Boost. Reg. & Std.S. & PCA'\n",
    "\n",
    "X_train, X_test, y_train, y_test = train_test_split(X, y, test_size=.3, random_state=1)"
   ]
  },
  {
   "cell_type": "code",
   "execution_count": 147,
   "metadata": {},
   "outputs": [],
   "source": [
    "from sklearn.decomposition import PCA "
   ]
  },
  {
   "cell_type": "code",
   "execution_count": 148,
   "metadata": {},
   "outputs": [
    {
     "data": {
      "text/plain": [
       "Pipeline(memory=None,\n",
       "         steps=[('standardscaler',\n",
       "                 StandardScaler(copy=True, with_mean=True, with_std=True)),\n",
       "                ('pca',\n",
       "                 PCA(copy=True, iterated_power='auto', n_components=2,\n",
       "                     random_state=None, svd_solver='auto', tol=0.0,\n",
       "                     whiten=False)),\n",
       "                ('gradientboostingregressor',\n",
       "                 GradientBoostingRegressor(alpha=0.9, ccp_alpha=0.0,\n",
       "                                           criterion='friedman_mse', init=None,\n",
       "                                           learning_rate=0.1, loss='ls',\n",
       "                                           max_depth=3, max_features=None,\n",
       "                                           max_leaf_nodes=None,\n",
       "                                           min_impurity_decrease=0.0,\n",
       "                                           min_impurity_split=None,\n",
       "                                           min_samples_leaf=1,\n",
       "                                           min_samples_split=2,\n",
       "                                           min_weight_fraction_leaf=0.0,\n",
       "                                           n_estimators=10,\n",
       "                                           n_iter_no_change=None,\n",
       "                                           presort='deprecated', random_state=1,\n",
       "                                           subsample=1.0, tol=0.0001,\n",
       "                                           validation_fraction=0.1, verbose=0,\n",
       "                                           warm_start=False))],\n",
       "         verbose=False)"
      ]
     },
     "execution_count": 148,
     "metadata": {},
     "output_type": "execute_result"
    }
   ],
   "source": [
    "pipe = make_pipeline(StandardScaler(), PCA(n_components=2), GradientBoostingRegressor(loss='ls', n_estimators=10, random_state=1))\n",
    "pipe.fit(X_train, y_train)"
   ]
  },
  {
   "cell_type": "code",
   "execution_count": 149,
   "metadata": {},
   "outputs": [],
   "source": [
    "model = pipe"
   ]
  },
  {
   "cell_type": "code",
   "execution_count": 150,
   "metadata": {},
   "outputs": [
    {
     "data": {
      "text/html": [
       "<div>\n",
       "<style scoped>\n",
       "    .dataframe tbody tr th:only-of-type {\n",
       "        vertical-align: middle;\n",
       "    }\n",
       "\n",
       "    .dataframe tbody tr th {\n",
       "        vertical-align: top;\n",
       "    }\n",
       "\n",
       "    .dataframe thead th {\n",
       "        text-align: right;\n",
       "    }\n",
       "</style>\n",
       "<table border=\"1\" class=\"dataframe\">\n",
       "  <thead>\n",
       "    <tr style=\"text-align: right;\">\n",
       "      <th></th>\n",
       "      <th>index</th>\n",
       "      <th>Method</th>\n",
       "      <th>Training accuracy</th>\n",
       "      <th>Testing accuracy</th>\n",
       "      <th>Mean Absolute Error</th>\n",
       "      <th>Root Mean Squared Error</th>\n",
       "      <th>R2 Squared</th>\n",
       "    </tr>\n",
       "  </thead>\n",
       "  <tbody>\n",
       "    <tr>\n",
       "      <th>0</th>\n",
       "      <td>0</td>\n",
       "      <td>Linear Regression</td>\n",
       "      <td>0.6217</td>\n",
       "      <td>0.5420</td>\n",
       "      <td>8.0367</td>\n",
       "      <td>10.3168</td>\n",
       "      <td>0.5420</td>\n",
       "    </tr>\n",
       "    <tr>\n",
       "      <th>1</th>\n",
       "      <td>1</td>\n",
       "      <td>Linear Regression (Preprocessing Scale)</td>\n",
       "      <td>0.6217</td>\n",
       "      <td>0.5186</td>\n",
       "      <td>8.0143</td>\n",
       "      <td>10.5766</td>\n",
       "      <td>0.5186</td>\n",
       "    </tr>\n",
       "    <tr>\n",
       "      <th>2</th>\n",
       "      <td>2</td>\n",
       "      <td>Linear Regression (Standard Scale)</td>\n",
       "      <td>0.6217</td>\n",
       "      <td>0.5420</td>\n",
       "      <td>8.0367</td>\n",
       "      <td>10.3168</td>\n",
       "      <td>0.5420</td>\n",
       "    </tr>\n",
       "    <tr>\n",
       "      <th>3</th>\n",
       "      <td>3</td>\n",
       "      <td>Linear Regression (MinMax Scale)</td>\n",
       "      <td>0.6217</td>\n",
       "      <td>0.5420</td>\n",
       "      <td>8.0367</td>\n",
       "      <td>10.3168</td>\n",
       "      <td>0.5420</td>\n",
       "    </tr>\n",
       "    <tr>\n",
       "      <th>4</th>\n",
       "      <td>4</td>\n",
       "      <td>Ridge Regression</td>\n",
       "      <td>0.6217</td>\n",
       "      <td>0.5420</td>\n",
       "      <td>8.0367</td>\n",
       "      <td>10.3168</td>\n",
       "      <td>0.5420</td>\n",
       "    </tr>\n",
       "    <tr>\n",
       "      <th>5</th>\n",
       "      <td>5</td>\n",
       "      <td>Ridge Regression (Standard Scaler)</td>\n",
       "      <td>0.6217</td>\n",
       "      <td>0.5423</td>\n",
       "      <td>8.0363</td>\n",
       "      <td>10.3128</td>\n",
       "      <td>0.5423</td>\n",
       "    </tr>\n",
       "    <tr>\n",
       "      <th>6</th>\n",
       "      <td>6</td>\n",
       "      <td>Lasso Regression</td>\n",
       "      <td>0.6217</td>\n",
       "      <td>0.5423</td>\n",
       "      <td>8.0343</td>\n",
       "      <td>10.3133</td>\n",
       "      <td>0.5423</td>\n",
       "    </tr>\n",
       "    <tr>\n",
       "      <th>7</th>\n",
       "      <td>7</td>\n",
       "      <td>Lasso Regression (Standard Scaler)</td>\n",
       "      <td>0.6163</td>\n",
       "      <td>0.5480</td>\n",
       "      <td>8.0827</td>\n",
       "      <td>10.2482</td>\n",
       "      <td>0.5480</td>\n",
       "    </tr>\n",
       "    <tr>\n",
       "      <th>8</th>\n",
       "      <td>8</td>\n",
       "      <td>Linear Regression &amp; Polynomial models</td>\n",
       "      <td>0.7595</td>\n",
       "      <td>0.6897</td>\n",
       "      <td>6.7558</td>\n",
       "      <td>8.4919</td>\n",
       "      <td>0.6897</td>\n",
       "    </tr>\n",
       "    <tr>\n",
       "      <th>9</th>\n",
       "      <td>9</td>\n",
       "      <td>Ridge Regression &amp; Polynomial models</td>\n",
       "      <td>0.7595</td>\n",
       "      <td>0.6905</td>\n",
       "      <td>6.7467</td>\n",
       "      <td>8.4809</td>\n",
       "      <td>0.6905</td>\n",
       "    </tr>\n",
       "    <tr>\n",
       "      <th>10</th>\n",
       "      <td>10</td>\n",
       "      <td>Lasso Regression &amp; Polynomial models</td>\n",
       "      <td>0.7568</td>\n",
       "      <td>0.6950</td>\n",
       "      <td>6.6715</td>\n",
       "      <td>8.4189</td>\n",
       "      <td>0.6950</td>\n",
       "    </tr>\n",
       "    <tr>\n",
       "      <th>11</th>\n",
       "      <td>11</td>\n",
       "      <td>LinearRegression &amp; Feature Selection</td>\n",
       "      <td>0.5914</td>\n",
       "      <td>0.5059</td>\n",
       "      <td>8.0367</td>\n",
       "      <td>10.3168</td>\n",
       "      <td>0.5420</td>\n",
       "    </tr>\n",
       "    <tr>\n",
       "      <th>12</th>\n",
       "      <td>12</td>\n",
       "      <td>Decision Tree (Regression)</td>\n",
       "      <td>0.8839</td>\n",
       "      <td>0.7431</td>\n",
       "      <td>5.8917</td>\n",
       "      <td>7.7260</td>\n",
       "      <td>0.7431</td>\n",
       "    </tr>\n",
       "    <tr>\n",
       "      <th>13</th>\n",
       "      <td>13</td>\n",
       "      <td>Linear SVR</td>\n",
       "      <td>0.6071</td>\n",
       "      <td>0.5373</td>\n",
       "      <td>8.2846</td>\n",
       "      <td>10.3696</td>\n",
       "      <td>0.5373</td>\n",
       "    </tr>\n",
       "    <tr>\n",
       "      <th>14</th>\n",
       "      <td>14</td>\n",
       "      <td>Linear SVR &amp; MinMax S.</td>\n",
       "      <td>0.6011</td>\n",
       "      <td>0.5177</td>\n",
       "      <td>7.9468</td>\n",
       "      <td>10.5865</td>\n",
       "      <td>0.5177</td>\n",
       "    </tr>\n",
       "    <tr>\n",
       "      <th>15</th>\n",
       "      <td>15</td>\n",
       "      <td>Linear SVR &amp; Standard S.</td>\n",
       "      <td>0.5938</td>\n",
       "      <td>0.5073</td>\n",
       "      <td>7.9854</td>\n",
       "      <td>10.6999</td>\n",
       "      <td>0.5073</td>\n",
       "    </tr>\n",
       "    <tr>\n",
       "      <th>16</th>\n",
       "      <td>16</td>\n",
       "      <td>DT Reg. &amp; Standard S.</td>\n",
       "      <td>0.8839</td>\n",
       "      <td>0.7454</td>\n",
       "      <td>5.8668</td>\n",
       "      <td>7.6918</td>\n",
       "      <td>0.7454</td>\n",
       "    </tr>\n",
       "    <tr>\n",
       "      <th>17</th>\n",
       "      <td>17</td>\n",
       "      <td>Bagging Reg. &amp; StandardS.</td>\n",
       "      <td>0.6467</td>\n",
       "      <td>0.5868</td>\n",
       "      <td>7.7500</td>\n",
       "      <td>9.7984</td>\n",
       "      <td>0.5868</td>\n",
       "    </tr>\n",
       "    <tr>\n",
       "      <th>18</th>\n",
       "      <td>18</td>\n",
       "      <td>Grad. Boost. Reg. &amp; MinMax.S.</td>\n",
       "      <td>0.6415</td>\n",
       "      <td>0.5808</td>\n",
       "      <td>7.9978</td>\n",
       "      <td>9.8693</td>\n",
       "      <td>0.5808</td>\n",
       "    </tr>\n",
       "    <tr>\n",
       "      <th>19</th>\n",
       "      <td>19</td>\n",
       "      <td>Grad. Boost. Reg. &amp; Std.S.</td>\n",
       "      <td>0.6415</td>\n",
       "      <td>0.5808</td>\n",
       "      <td>7.9978</td>\n",
       "      <td>9.8693</td>\n",
       "      <td>0.5808</td>\n",
       "    </tr>\n",
       "    <tr>\n",
       "      <th>20</th>\n",
       "      <td>0</td>\n",
       "      <td>Grad. Boost. Reg. &amp; Std.S. &amp; PCA</td>\n",
       "      <td>0.1163</td>\n",
       "      <td>0.1082</td>\n",
       "      <td>11.6252</td>\n",
       "      <td>14.3956</td>\n",
       "      <td>0.1082</td>\n",
       "    </tr>\n",
       "  </tbody>\n",
       "</table>\n",
       "</div>"
      ],
      "text/plain": [
       "    index                                   Method  Training accuracy  \\\n",
       "0       0                        Linear Regression             0.6217   \n",
       "1       1  Linear Regression (Preprocessing Scale)             0.6217   \n",
       "2       2       Linear Regression (Standard Scale)             0.6217   \n",
       "3       3         Linear Regression (MinMax Scale)             0.6217   \n",
       "4       4                         Ridge Regression             0.6217   \n",
       "5       5       Ridge Regression (Standard Scaler)             0.6217   \n",
       "6       6                         Lasso Regression             0.6217   \n",
       "7       7       Lasso Regression (Standard Scaler)             0.6163   \n",
       "8       8    Linear Regression & Polynomial models             0.7595   \n",
       "9       9     Ridge Regression & Polynomial models             0.7595   \n",
       "10     10    Lasso Regression & Polynomial models              0.7568   \n",
       "11     11     LinearRegression & Feature Selection             0.5914   \n",
       "12     12               Decision Tree (Regression)             0.8839   \n",
       "13     13                               Linear SVR             0.6071   \n",
       "14     14                   Linear SVR & MinMax S.             0.6011   \n",
       "15     15                 Linear SVR & Standard S.             0.5938   \n",
       "16     16                    DT Reg. & Standard S.             0.8839   \n",
       "17     17                Bagging Reg. & StandardS.             0.6467   \n",
       "18     18            Grad. Boost. Reg. & MinMax.S.             0.6415   \n",
       "19     19               Grad. Boost. Reg. & Std.S.             0.6415   \n",
       "20      0         Grad. Boost. Reg. & Std.S. & PCA             0.1163   \n",
       "\n",
       "    Testing accuracy  Mean Absolute Error  Root Mean Squared Error  R2 Squared  \n",
       "0             0.5420               8.0367                  10.3168      0.5420  \n",
       "1             0.5186               8.0143                  10.5766      0.5186  \n",
       "2             0.5420               8.0367                  10.3168      0.5420  \n",
       "3             0.5420               8.0367                  10.3168      0.5420  \n",
       "4             0.5420               8.0367                  10.3168      0.5420  \n",
       "5             0.5423               8.0363                  10.3128      0.5423  \n",
       "6             0.5423               8.0343                  10.3133      0.5423  \n",
       "7             0.5480               8.0827                  10.2482      0.5480  \n",
       "8             0.6897               6.7558                   8.4919      0.6897  \n",
       "9             0.6905               6.7467                   8.4809      0.6905  \n",
       "10            0.6950               6.6715                   8.4189      0.6950  \n",
       "11            0.5059               8.0367                  10.3168      0.5420  \n",
       "12            0.7431               5.8917                   7.7260      0.7431  \n",
       "13            0.5373               8.2846                  10.3696      0.5373  \n",
       "14            0.5177               7.9468                  10.5865      0.5177  \n",
       "15            0.5073               7.9854                  10.6999      0.5073  \n",
       "16            0.7454               5.8668                   7.6918      0.7454  \n",
       "17            0.5868               7.7500                   9.7984      0.5868  \n",
       "18            0.5808               7.9978                   9.8693      0.5808  \n",
       "19            0.5808               7.9978                   9.8693      0.5808  \n",
       "20            0.1082              11.6252                  14.3956      0.1082  "
      ]
     },
     "execution_count": 150,
     "metadata": {},
     "output_type": "execute_result"
    }
   ],
   "source": [
    "resultsDf = print_results(model, X_train, y_train, X_test, y_test, resultsDf)\n",
    "resultsDf"
   ]
  },
  {
   "cell_type": "markdown",
   "metadata": {},
   "source": [
    "##### <i>[Insights]\n",
    "<i>Because our objective is get the model with 85% to 95% accuracy, we will use \"Testing accuracy\" to compare each models.\n",
    "    <br><i> Since \"Lasso Regression & Polynomial models\", \"Decision Tree (Regression) & Standard Slacer\", and \"Gradient Boosint & Standard Scaler\" have relatively good score, we will perform Hyperparameter Tuning on these."
   ]
  },
  {
   "cell_type": "markdown",
   "metadata": {},
   "source": [
    "### Hyperparameter Tuning"
   ]
  },
  {
   "cell_type": "markdown",
   "metadata": {},
   "source": [
    "#### Lasso Regression & Polynomial Features & Randomized Search CV"
   ]
  },
  {
   "cell_type": "code",
   "execution_count": 151,
   "metadata": {},
   "outputs": [],
   "source": [
    "from sklearn.model_selection import RandomizedSearchCV"
   ]
  },
  {
   "cell_type": "code",
   "execution_count": 152,
   "metadata": {},
   "outputs": [],
   "source": [
    "model_name = 'Lasso Reg. & Rand S.'\n",
    "\n",
    "X_train, X_test, y_train, y_test = train_test_split(X, y, test_size=.3, random_state=1)"
   ]
  },
  {
   "cell_type": "code",
   "execution_count": 153,
   "metadata": {},
   "outputs": [
    {
     "data": {
      "text/plain": [
       "Pipeline(memory=None,\n",
       "         steps=[('polynomialfeatures',\n",
       "                 PolynomialFeatures(degree=2, include_bias=True,\n",
       "                                    interaction_only=True, order='C')),\n",
       "                ('lasso',\n",
       "                 Lasso(alpha=0.2, copy_X=True, fit_intercept=True,\n",
       "                       max_iter=1000, normalize=False, positive=False,\n",
       "                       precompute=False, random_state=1, selection='cyclic',\n",
       "                       tol=0.0001, warm_start=False))],\n",
       "         verbose=False)"
      ]
     },
     "execution_count": 153,
     "metadata": {},
     "output_type": "execute_result"
    }
   ],
   "source": [
    "pipe = make_pipeline(PolynomialFeatures(degree = 2, interaction_only=True), Lasso(alpha=0.2, random_state=1))\n",
    "pipe.fit(X_train, y_train)"
   ]
  },
  {
   "cell_type": "code",
   "execution_count": 154,
   "metadata": {},
   "outputs": [],
   "source": [
    "grid_values = {'polynomialfeatures__degree' : np.arange(1,5),\n",
    "               'lasso__alpha' : np.arange(0.1, 0.5, 0.1),\n",
    "               'lasso__max_iter' : np.arange(900,1200, 50)\n",
    "              }"
   ]
  },
  {
   "cell_type": "code",
   "execution_count": 155,
   "metadata": {},
   "outputs": [
    {
     "name": "stdout",
     "output_type": "stream",
     "text": [
      "Best Cross Validation Accuracy:  0.7155082448290473\n",
      "Best Parameter:  {'polynomialfeatures__degree': 2, 'lasso__max_iter': 1100, 'lasso__alpha': 0.30000000000000004}\n"
     ]
    }
   ],
   "source": [
    "grid = RandomizedSearchCV(pipe, grid_values, cv=10, random_state=1, n_jobs=-1)\n",
    "grid.fit(X_train, y_train)\n",
    "\n",
    "best_cross_validation_accuracy = grid.best_score_\n",
    "print(\"Best Cross Validation Accuracy: \", best_cross_validation_accuracy)\n",
    "\n",
    "best_parameter = grid.best_params_\n",
    "print(\"Best Parameter: \", best_parameter)\n",
    "\n",
    "pipe = grid"
   ]
  },
  {
   "cell_type": "code",
   "execution_count": 156,
   "metadata": {},
   "outputs": [],
   "source": [
    "model = pipe"
   ]
  },
  {
   "cell_type": "code",
   "execution_count": 157,
   "metadata": {},
   "outputs": [
    {
     "data": {
      "text/html": [
       "<div>\n",
       "<style scoped>\n",
       "    .dataframe tbody tr th:only-of-type {\n",
       "        vertical-align: middle;\n",
       "    }\n",
       "\n",
       "    .dataframe tbody tr th {\n",
       "        vertical-align: top;\n",
       "    }\n",
       "\n",
       "    .dataframe thead th {\n",
       "        text-align: right;\n",
       "    }\n",
       "</style>\n",
       "<table border=\"1\" class=\"dataframe\">\n",
       "  <thead>\n",
       "    <tr style=\"text-align: right;\">\n",
       "      <th></th>\n",
       "      <th>index</th>\n",
       "      <th>Method</th>\n",
       "      <th>Training accuracy</th>\n",
       "      <th>Testing accuracy</th>\n",
       "      <th>Mean Absolute Error</th>\n",
       "      <th>Root Mean Squared Error</th>\n",
       "      <th>R2 Squared</th>\n",
       "    </tr>\n",
       "  </thead>\n",
       "  <tbody>\n",
       "    <tr>\n",
       "      <th>0</th>\n",
       "      <td>0</td>\n",
       "      <td>Linear Regression</td>\n",
       "      <td>0.6217</td>\n",
       "      <td>0.5420</td>\n",
       "      <td>8.0367</td>\n",
       "      <td>10.3168</td>\n",
       "      <td>0.5420</td>\n",
       "    </tr>\n",
       "    <tr>\n",
       "      <th>1</th>\n",
       "      <td>1</td>\n",
       "      <td>Linear Regression (Preprocessing Scale)</td>\n",
       "      <td>0.6217</td>\n",
       "      <td>0.5186</td>\n",
       "      <td>8.0143</td>\n",
       "      <td>10.5766</td>\n",
       "      <td>0.5186</td>\n",
       "    </tr>\n",
       "    <tr>\n",
       "      <th>2</th>\n",
       "      <td>2</td>\n",
       "      <td>Linear Regression (Standard Scale)</td>\n",
       "      <td>0.6217</td>\n",
       "      <td>0.5420</td>\n",
       "      <td>8.0367</td>\n",
       "      <td>10.3168</td>\n",
       "      <td>0.5420</td>\n",
       "    </tr>\n",
       "    <tr>\n",
       "      <th>3</th>\n",
       "      <td>3</td>\n",
       "      <td>Linear Regression (MinMax Scale)</td>\n",
       "      <td>0.6217</td>\n",
       "      <td>0.5420</td>\n",
       "      <td>8.0367</td>\n",
       "      <td>10.3168</td>\n",
       "      <td>0.5420</td>\n",
       "    </tr>\n",
       "    <tr>\n",
       "      <th>4</th>\n",
       "      <td>4</td>\n",
       "      <td>Ridge Regression</td>\n",
       "      <td>0.6217</td>\n",
       "      <td>0.5420</td>\n",
       "      <td>8.0367</td>\n",
       "      <td>10.3168</td>\n",
       "      <td>0.5420</td>\n",
       "    </tr>\n",
       "    <tr>\n",
       "      <th>5</th>\n",
       "      <td>5</td>\n",
       "      <td>Ridge Regression (Standard Scaler)</td>\n",
       "      <td>0.6217</td>\n",
       "      <td>0.5423</td>\n",
       "      <td>8.0363</td>\n",
       "      <td>10.3128</td>\n",
       "      <td>0.5423</td>\n",
       "    </tr>\n",
       "    <tr>\n",
       "      <th>6</th>\n",
       "      <td>6</td>\n",
       "      <td>Lasso Regression</td>\n",
       "      <td>0.6217</td>\n",
       "      <td>0.5423</td>\n",
       "      <td>8.0343</td>\n",
       "      <td>10.3133</td>\n",
       "      <td>0.5423</td>\n",
       "    </tr>\n",
       "    <tr>\n",
       "      <th>7</th>\n",
       "      <td>7</td>\n",
       "      <td>Lasso Regression (Standard Scaler)</td>\n",
       "      <td>0.6163</td>\n",
       "      <td>0.5480</td>\n",
       "      <td>8.0827</td>\n",
       "      <td>10.2482</td>\n",
       "      <td>0.5480</td>\n",
       "    </tr>\n",
       "    <tr>\n",
       "      <th>8</th>\n",
       "      <td>8</td>\n",
       "      <td>Linear Regression &amp; Polynomial models</td>\n",
       "      <td>0.7595</td>\n",
       "      <td>0.6897</td>\n",
       "      <td>6.7558</td>\n",
       "      <td>8.4919</td>\n",
       "      <td>0.6897</td>\n",
       "    </tr>\n",
       "    <tr>\n",
       "      <th>9</th>\n",
       "      <td>9</td>\n",
       "      <td>Ridge Regression &amp; Polynomial models</td>\n",
       "      <td>0.7595</td>\n",
       "      <td>0.6905</td>\n",
       "      <td>6.7467</td>\n",
       "      <td>8.4809</td>\n",
       "      <td>0.6905</td>\n",
       "    </tr>\n",
       "    <tr>\n",
       "      <th>10</th>\n",
       "      <td>10</td>\n",
       "      <td>Lasso Regression &amp; Polynomial models</td>\n",
       "      <td>0.7568</td>\n",
       "      <td>0.6950</td>\n",
       "      <td>6.6715</td>\n",
       "      <td>8.4189</td>\n",
       "      <td>0.6950</td>\n",
       "    </tr>\n",
       "    <tr>\n",
       "      <th>11</th>\n",
       "      <td>11</td>\n",
       "      <td>LinearRegression &amp; Feature Selection</td>\n",
       "      <td>0.5914</td>\n",
       "      <td>0.5059</td>\n",
       "      <td>8.0367</td>\n",
       "      <td>10.3168</td>\n",
       "      <td>0.5420</td>\n",
       "    </tr>\n",
       "    <tr>\n",
       "      <th>12</th>\n",
       "      <td>12</td>\n",
       "      <td>Decision Tree (Regression)</td>\n",
       "      <td>0.8839</td>\n",
       "      <td>0.7431</td>\n",
       "      <td>5.8917</td>\n",
       "      <td>7.7260</td>\n",
       "      <td>0.7431</td>\n",
       "    </tr>\n",
       "    <tr>\n",
       "      <th>13</th>\n",
       "      <td>13</td>\n",
       "      <td>Linear SVR</td>\n",
       "      <td>0.6071</td>\n",
       "      <td>0.5373</td>\n",
       "      <td>8.2846</td>\n",
       "      <td>10.3696</td>\n",
       "      <td>0.5373</td>\n",
       "    </tr>\n",
       "    <tr>\n",
       "      <th>14</th>\n",
       "      <td>14</td>\n",
       "      <td>Linear SVR &amp; MinMax S.</td>\n",
       "      <td>0.6011</td>\n",
       "      <td>0.5177</td>\n",
       "      <td>7.9468</td>\n",
       "      <td>10.5865</td>\n",
       "      <td>0.5177</td>\n",
       "    </tr>\n",
       "    <tr>\n",
       "      <th>15</th>\n",
       "      <td>15</td>\n",
       "      <td>Linear SVR &amp; Standard S.</td>\n",
       "      <td>0.5938</td>\n",
       "      <td>0.5073</td>\n",
       "      <td>7.9854</td>\n",
       "      <td>10.6999</td>\n",
       "      <td>0.5073</td>\n",
       "    </tr>\n",
       "    <tr>\n",
       "      <th>16</th>\n",
       "      <td>16</td>\n",
       "      <td>DT Reg. &amp; Standard S.</td>\n",
       "      <td>0.8839</td>\n",
       "      <td>0.7454</td>\n",
       "      <td>5.8668</td>\n",
       "      <td>7.6918</td>\n",
       "      <td>0.7454</td>\n",
       "    </tr>\n",
       "    <tr>\n",
       "      <th>17</th>\n",
       "      <td>17</td>\n",
       "      <td>Bagging Reg. &amp; StandardS.</td>\n",
       "      <td>0.6467</td>\n",
       "      <td>0.5868</td>\n",
       "      <td>7.7500</td>\n",
       "      <td>9.7984</td>\n",
       "      <td>0.5868</td>\n",
       "    </tr>\n",
       "    <tr>\n",
       "      <th>18</th>\n",
       "      <td>18</td>\n",
       "      <td>Grad. Boost. Reg. &amp; MinMax.S.</td>\n",
       "      <td>0.6415</td>\n",
       "      <td>0.5808</td>\n",
       "      <td>7.9978</td>\n",
       "      <td>9.8693</td>\n",
       "      <td>0.5808</td>\n",
       "    </tr>\n",
       "    <tr>\n",
       "      <th>19</th>\n",
       "      <td>19</td>\n",
       "      <td>Grad. Boost. Reg. &amp; Std.S.</td>\n",
       "      <td>0.6415</td>\n",
       "      <td>0.5808</td>\n",
       "      <td>7.9978</td>\n",
       "      <td>9.8693</td>\n",
       "      <td>0.5808</td>\n",
       "    </tr>\n",
       "    <tr>\n",
       "      <th>20</th>\n",
       "      <td>20</td>\n",
       "      <td>Grad. Boost. Reg. &amp; Std.S. &amp; PCA</td>\n",
       "      <td>0.1163</td>\n",
       "      <td>0.1082</td>\n",
       "      <td>11.6252</td>\n",
       "      <td>14.3956</td>\n",
       "      <td>0.1082</td>\n",
       "    </tr>\n",
       "    <tr>\n",
       "      <th>21</th>\n",
       "      <td>0</td>\n",
       "      <td>Lasso Reg. &amp; Rand S.</td>\n",
       "      <td>0.7569</td>\n",
       "      <td>0.6949</td>\n",
       "      <td>6.6750</td>\n",
       "      <td>8.4206</td>\n",
       "      <td>0.6949</td>\n",
       "    </tr>\n",
       "  </tbody>\n",
       "</table>\n",
       "</div>"
      ],
      "text/plain": [
       "    index                                   Method  Training accuracy  \\\n",
       "0       0                        Linear Regression             0.6217   \n",
       "1       1  Linear Regression (Preprocessing Scale)             0.6217   \n",
       "2       2       Linear Regression (Standard Scale)             0.6217   \n",
       "3       3         Linear Regression (MinMax Scale)             0.6217   \n",
       "4       4                         Ridge Regression             0.6217   \n",
       "5       5       Ridge Regression (Standard Scaler)             0.6217   \n",
       "6       6                         Lasso Regression             0.6217   \n",
       "7       7       Lasso Regression (Standard Scaler)             0.6163   \n",
       "8       8    Linear Regression & Polynomial models             0.7595   \n",
       "9       9     Ridge Regression & Polynomial models             0.7595   \n",
       "10     10    Lasso Regression & Polynomial models              0.7568   \n",
       "11     11     LinearRegression & Feature Selection             0.5914   \n",
       "12     12               Decision Tree (Regression)             0.8839   \n",
       "13     13                               Linear SVR             0.6071   \n",
       "14     14                   Linear SVR & MinMax S.             0.6011   \n",
       "15     15                 Linear SVR & Standard S.             0.5938   \n",
       "16     16                    DT Reg. & Standard S.             0.8839   \n",
       "17     17                Bagging Reg. & StandardS.             0.6467   \n",
       "18     18            Grad. Boost. Reg. & MinMax.S.             0.6415   \n",
       "19     19               Grad. Boost. Reg. & Std.S.             0.6415   \n",
       "20     20         Grad. Boost. Reg. & Std.S. & PCA             0.1163   \n",
       "21      0                     Lasso Reg. & Rand S.             0.7569   \n",
       "\n",
       "    Testing accuracy  Mean Absolute Error  Root Mean Squared Error  R2 Squared  \n",
       "0             0.5420               8.0367                  10.3168      0.5420  \n",
       "1             0.5186               8.0143                  10.5766      0.5186  \n",
       "2             0.5420               8.0367                  10.3168      0.5420  \n",
       "3             0.5420               8.0367                  10.3168      0.5420  \n",
       "4             0.5420               8.0367                  10.3168      0.5420  \n",
       "5             0.5423               8.0363                  10.3128      0.5423  \n",
       "6             0.5423               8.0343                  10.3133      0.5423  \n",
       "7             0.5480               8.0827                  10.2482      0.5480  \n",
       "8             0.6897               6.7558                   8.4919      0.6897  \n",
       "9             0.6905               6.7467                   8.4809      0.6905  \n",
       "10            0.6950               6.6715                   8.4189      0.6950  \n",
       "11            0.5059               8.0367                  10.3168      0.5420  \n",
       "12            0.7431               5.8917                   7.7260      0.7431  \n",
       "13            0.5373               8.2846                  10.3696      0.5373  \n",
       "14            0.5177               7.9468                  10.5865      0.5177  \n",
       "15            0.5073               7.9854                  10.6999      0.5073  \n",
       "16            0.7454               5.8668                   7.6918      0.7454  \n",
       "17            0.5868               7.7500                   9.7984      0.5868  \n",
       "18            0.5808               7.9978                   9.8693      0.5808  \n",
       "19            0.5808               7.9978                   9.8693      0.5808  \n",
       "20            0.1082              11.6252                  14.3956      0.1082  \n",
       "21            0.6949               6.6750                   8.4206      0.6949  "
      ]
     },
     "execution_count": 157,
     "metadata": {},
     "output_type": "execute_result"
    }
   ],
   "source": [
    "resultsDf = print_results(model, X_train, y_train, X_test, y_test, resultsDf)\n",
    "resultsDf"
   ]
  },
  {
   "cell_type": "markdown",
   "metadata": {},
   "source": [
    "#### Decision Tree Regression & Standard Scaler & Randomized Search CV"
   ]
  },
  {
   "cell_type": "code",
   "execution_count": 158,
   "metadata": {},
   "outputs": [],
   "source": [
    "model_name = 'DT Reg. & Standard S. & Rand S.'\n",
    "\n",
    "X_train, X_test, y_train, y_test = train_test_split(X, y, test_size=.3, random_state=1)"
   ]
  },
  {
   "cell_type": "code",
   "execution_count": 159,
   "metadata": {},
   "outputs": [
    {
     "data": {
      "text/plain": [
       "Pipeline(memory=None,\n",
       "         steps=[('standardscaler',\n",
       "                 StandardScaler(copy=True, with_mean=True, with_std=True)),\n",
       "                ('decisiontreeregressor',\n",
       "                 DecisionTreeRegressor(ccp_alpha=0.0, criterion='mse',\n",
       "                                       max_depth=6, max_features=None,\n",
       "                                       max_leaf_nodes=None,\n",
       "                                       min_impurity_decrease=0.0,\n",
       "                                       min_impurity_split=None,\n",
       "                                       min_samples_leaf=1, min_samples_split=2,\n",
       "                                       min_weight_fraction_leaf=0.0,\n",
       "                                       presort='deprecated', random_state=None,\n",
       "                                       splitter='best'))],\n",
       "         verbose=False)"
      ]
     },
     "execution_count": 159,
     "metadata": {},
     "output_type": "execute_result"
    }
   ],
   "source": [
    "pipe = make_pipeline(StandardScaler(), DecisionTreeRegressor(max_depth=6))\n",
    "pipe.fit(X_train, y_train)"
   ]
  },
  {
   "cell_type": "code",
   "execution_count": 160,
   "metadata": {},
   "outputs": [],
   "source": [
    "grid_values = {'decisiontreeregressor__criterion' : ['mse', 'friedman_mse', 'mae'],\n",
    "               'decisiontreeregressor__splitter' : ['best', 'random'],\n",
    "               'decisiontreeregressor__max_depth' : np.arange(5,15),\n",
    "               'decisiontreeregressor__min_samples_leaf' : np.arange(1,15)\n",
    "              }"
   ]
  },
  {
   "cell_type": "code",
   "execution_count": 161,
   "metadata": {},
   "outputs": [
    {
     "name": "stdout",
     "output_type": "stream",
     "text": [
      "Best Cross Validation Accuracy:  0.8086053870530957\n",
      "Best Parameter:  {'decisiontreeregressor__splitter': 'best', 'decisiontreeregressor__min_samples_leaf': 3, 'decisiontreeregressor__max_depth': 12, 'decisiontreeregressor__criterion': 'friedman_mse'}\n"
     ]
    }
   ],
   "source": [
    "grid = RandomizedSearchCV(pipe, grid_values, cv=10, random_state=1, n_jobs=-1)\n",
    "grid.fit(X_train, y_train)\n",
    "\n",
    "best_cross_validation_accuracy = grid.best_score_\n",
    "print(\"Best Cross Validation Accuracy: \", best_cross_validation_accuracy)\n",
    "\n",
    "best_parameter = grid.best_params_\n",
    "print(\"Best Parameter: \", best_parameter)\n",
    "\n",
    "pipe = grid"
   ]
  },
  {
   "cell_type": "code",
   "execution_count": 162,
   "metadata": {},
   "outputs": [],
   "source": [
    "model = pipe"
   ]
  },
  {
   "cell_type": "code",
   "execution_count": 163,
   "metadata": {},
   "outputs": [
    {
     "data": {
      "text/html": [
       "<div>\n",
       "<style scoped>\n",
       "    .dataframe tbody tr th:only-of-type {\n",
       "        vertical-align: middle;\n",
       "    }\n",
       "\n",
       "    .dataframe tbody tr th {\n",
       "        vertical-align: top;\n",
       "    }\n",
       "\n",
       "    .dataframe thead th {\n",
       "        text-align: right;\n",
       "    }\n",
       "</style>\n",
       "<table border=\"1\" class=\"dataframe\">\n",
       "  <thead>\n",
       "    <tr style=\"text-align: right;\">\n",
       "      <th></th>\n",
       "      <th>index</th>\n",
       "      <th>Method</th>\n",
       "      <th>Training accuracy</th>\n",
       "      <th>Testing accuracy</th>\n",
       "      <th>Mean Absolute Error</th>\n",
       "      <th>Root Mean Squared Error</th>\n",
       "      <th>R2 Squared</th>\n",
       "    </tr>\n",
       "  </thead>\n",
       "  <tbody>\n",
       "    <tr>\n",
       "      <th>0</th>\n",
       "      <td>0</td>\n",
       "      <td>Linear Regression</td>\n",
       "      <td>0.6217</td>\n",
       "      <td>0.5420</td>\n",
       "      <td>8.0367</td>\n",
       "      <td>10.3168</td>\n",
       "      <td>0.5420</td>\n",
       "    </tr>\n",
       "    <tr>\n",
       "      <th>1</th>\n",
       "      <td>1</td>\n",
       "      <td>Linear Regression (Preprocessing Scale)</td>\n",
       "      <td>0.6217</td>\n",
       "      <td>0.5186</td>\n",
       "      <td>8.0143</td>\n",
       "      <td>10.5766</td>\n",
       "      <td>0.5186</td>\n",
       "    </tr>\n",
       "    <tr>\n",
       "      <th>2</th>\n",
       "      <td>2</td>\n",
       "      <td>Linear Regression (Standard Scale)</td>\n",
       "      <td>0.6217</td>\n",
       "      <td>0.5420</td>\n",
       "      <td>8.0367</td>\n",
       "      <td>10.3168</td>\n",
       "      <td>0.5420</td>\n",
       "    </tr>\n",
       "    <tr>\n",
       "      <th>3</th>\n",
       "      <td>3</td>\n",
       "      <td>Linear Regression (MinMax Scale)</td>\n",
       "      <td>0.6217</td>\n",
       "      <td>0.5420</td>\n",
       "      <td>8.0367</td>\n",
       "      <td>10.3168</td>\n",
       "      <td>0.5420</td>\n",
       "    </tr>\n",
       "    <tr>\n",
       "      <th>4</th>\n",
       "      <td>4</td>\n",
       "      <td>Ridge Regression</td>\n",
       "      <td>0.6217</td>\n",
       "      <td>0.5420</td>\n",
       "      <td>8.0367</td>\n",
       "      <td>10.3168</td>\n",
       "      <td>0.5420</td>\n",
       "    </tr>\n",
       "    <tr>\n",
       "      <th>5</th>\n",
       "      <td>5</td>\n",
       "      <td>Ridge Regression (Standard Scaler)</td>\n",
       "      <td>0.6217</td>\n",
       "      <td>0.5423</td>\n",
       "      <td>8.0363</td>\n",
       "      <td>10.3128</td>\n",
       "      <td>0.5423</td>\n",
       "    </tr>\n",
       "    <tr>\n",
       "      <th>6</th>\n",
       "      <td>6</td>\n",
       "      <td>Lasso Regression</td>\n",
       "      <td>0.6217</td>\n",
       "      <td>0.5423</td>\n",
       "      <td>8.0343</td>\n",
       "      <td>10.3133</td>\n",
       "      <td>0.5423</td>\n",
       "    </tr>\n",
       "    <tr>\n",
       "      <th>7</th>\n",
       "      <td>7</td>\n",
       "      <td>Lasso Regression (Standard Scaler)</td>\n",
       "      <td>0.6163</td>\n",
       "      <td>0.5480</td>\n",
       "      <td>8.0827</td>\n",
       "      <td>10.2482</td>\n",
       "      <td>0.5480</td>\n",
       "    </tr>\n",
       "    <tr>\n",
       "      <th>8</th>\n",
       "      <td>8</td>\n",
       "      <td>Linear Regression &amp; Polynomial models</td>\n",
       "      <td>0.7595</td>\n",
       "      <td>0.6897</td>\n",
       "      <td>6.7558</td>\n",
       "      <td>8.4919</td>\n",
       "      <td>0.6897</td>\n",
       "    </tr>\n",
       "    <tr>\n",
       "      <th>9</th>\n",
       "      <td>9</td>\n",
       "      <td>Ridge Regression &amp; Polynomial models</td>\n",
       "      <td>0.7595</td>\n",
       "      <td>0.6905</td>\n",
       "      <td>6.7467</td>\n",
       "      <td>8.4809</td>\n",
       "      <td>0.6905</td>\n",
       "    </tr>\n",
       "    <tr>\n",
       "      <th>10</th>\n",
       "      <td>10</td>\n",
       "      <td>Lasso Regression &amp; Polynomial models</td>\n",
       "      <td>0.7568</td>\n",
       "      <td>0.6950</td>\n",
       "      <td>6.6715</td>\n",
       "      <td>8.4189</td>\n",
       "      <td>0.6950</td>\n",
       "    </tr>\n",
       "    <tr>\n",
       "      <th>11</th>\n",
       "      <td>11</td>\n",
       "      <td>LinearRegression &amp; Feature Selection</td>\n",
       "      <td>0.5914</td>\n",
       "      <td>0.5059</td>\n",
       "      <td>8.0367</td>\n",
       "      <td>10.3168</td>\n",
       "      <td>0.5420</td>\n",
       "    </tr>\n",
       "    <tr>\n",
       "      <th>12</th>\n",
       "      <td>12</td>\n",
       "      <td>Decision Tree (Regression)</td>\n",
       "      <td>0.8839</td>\n",
       "      <td>0.7431</td>\n",
       "      <td>5.8917</td>\n",
       "      <td>7.7260</td>\n",
       "      <td>0.7431</td>\n",
       "    </tr>\n",
       "    <tr>\n",
       "      <th>13</th>\n",
       "      <td>13</td>\n",
       "      <td>Linear SVR</td>\n",
       "      <td>0.6071</td>\n",
       "      <td>0.5373</td>\n",
       "      <td>8.2846</td>\n",
       "      <td>10.3696</td>\n",
       "      <td>0.5373</td>\n",
       "    </tr>\n",
       "    <tr>\n",
       "      <th>14</th>\n",
       "      <td>14</td>\n",
       "      <td>Linear SVR &amp; MinMax S.</td>\n",
       "      <td>0.6011</td>\n",
       "      <td>0.5177</td>\n",
       "      <td>7.9468</td>\n",
       "      <td>10.5865</td>\n",
       "      <td>0.5177</td>\n",
       "    </tr>\n",
       "    <tr>\n",
       "      <th>15</th>\n",
       "      <td>15</td>\n",
       "      <td>Linear SVR &amp; Standard S.</td>\n",
       "      <td>0.5938</td>\n",
       "      <td>0.5073</td>\n",
       "      <td>7.9854</td>\n",
       "      <td>10.6999</td>\n",
       "      <td>0.5073</td>\n",
       "    </tr>\n",
       "    <tr>\n",
       "      <th>16</th>\n",
       "      <td>16</td>\n",
       "      <td>DT Reg. &amp; Standard S.</td>\n",
       "      <td>0.8839</td>\n",
       "      <td>0.7454</td>\n",
       "      <td>5.8668</td>\n",
       "      <td>7.6918</td>\n",
       "      <td>0.7454</td>\n",
       "    </tr>\n",
       "    <tr>\n",
       "      <th>17</th>\n",
       "      <td>17</td>\n",
       "      <td>Bagging Reg. &amp; StandardS.</td>\n",
       "      <td>0.6467</td>\n",
       "      <td>0.5868</td>\n",
       "      <td>7.7500</td>\n",
       "      <td>9.7984</td>\n",
       "      <td>0.5868</td>\n",
       "    </tr>\n",
       "    <tr>\n",
       "      <th>18</th>\n",
       "      <td>18</td>\n",
       "      <td>Grad. Boost. Reg. &amp; MinMax.S.</td>\n",
       "      <td>0.6415</td>\n",
       "      <td>0.5808</td>\n",
       "      <td>7.9978</td>\n",
       "      <td>9.8693</td>\n",
       "      <td>0.5808</td>\n",
       "    </tr>\n",
       "    <tr>\n",
       "      <th>19</th>\n",
       "      <td>19</td>\n",
       "      <td>Grad. Boost. Reg. &amp; Std.S.</td>\n",
       "      <td>0.6415</td>\n",
       "      <td>0.5808</td>\n",
       "      <td>7.9978</td>\n",
       "      <td>9.8693</td>\n",
       "      <td>0.5808</td>\n",
       "    </tr>\n",
       "    <tr>\n",
       "      <th>20</th>\n",
       "      <td>20</td>\n",
       "      <td>Grad. Boost. Reg. &amp; Std.S. &amp; PCA</td>\n",
       "      <td>0.1163</td>\n",
       "      <td>0.1082</td>\n",
       "      <td>11.6252</td>\n",
       "      <td>14.3956</td>\n",
       "      <td>0.1082</td>\n",
       "    </tr>\n",
       "    <tr>\n",
       "      <th>21</th>\n",
       "      <td>21</td>\n",
       "      <td>Lasso Reg. &amp; Rand S.</td>\n",
       "      <td>0.7569</td>\n",
       "      <td>0.6949</td>\n",
       "      <td>6.6750</td>\n",
       "      <td>8.4206</td>\n",
       "      <td>0.6949</td>\n",
       "    </tr>\n",
       "    <tr>\n",
       "      <th>22</th>\n",
       "      <td>0</td>\n",
       "      <td>DT Reg. &amp; Standard S. &amp; Rand S.</td>\n",
       "      <td>0.9644</td>\n",
       "      <td>0.8041</td>\n",
       "      <td>4.9596</td>\n",
       "      <td>6.7466</td>\n",
       "      <td>0.8041</td>\n",
       "    </tr>\n",
       "  </tbody>\n",
       "</table>\n",
       "</div>"
      ],
      "text/plain": [
       "    index                                   Method  Training accuracy  \\\n",
       "0       0                        Linear Regression             0.6217   \n",
       "1       1  Linear Regression (Preprocessing Scale)             0.6217   \n",
       "2       2       Linear Regression (Standard Scale)             0.6217   \n",
       "3       3         Linear Regression (MinMax Scale)             0.6217   \n",
       "4       4                         Ridge Regression             0.6217   \n",
       "5       5       Ridge Regression (Standard Scaler)             0.6217   \n",
       "6       6                         Lasso Regression             0.6217   \n",
       "7       7       Lasso Regression (Standard Scaler)             0.6163   \n",
       "8       8    Linear Regression & Polynomial models             0.7595   \n",
       "9       9     Ridge Regression & Polynomial models             0.7595   \n",
       "10     10    Lasso Regression & Polynomial models              0.7568   \n",
       "11     11     LinearRegression & Feature Selection             0.5914   \n",
       "12     12               Decision Tree (Regression)             0.8839   \n",
       "13     13                               Linear SVR             0.6071   \n",
       "14     14                   Linear SVR & MinMax S.             0.6011   \n",
       "15     15                 Linear SVR & Standard S.             0.5938   \n",
       "16     16                    DT Reg. & Standard S.             0.8839   \n",
       "17     17                Bagging Reg. & StandardS.             0.6467   \n",
       "18     18            Grad. Boost. Reg. & MinMax.S.             0.6415   \n",
       "19     19               Grad. Boost. Reg. & Std.S.             0.6415   \n",
       "20     20         Grad. Boost. Reg. & Std.S. & PCA             0.1163   \n",
       "21     21                     Lasso Reg. & Rand S.             0.7569   \n",
       "22      0          DT Reg. & Standard S. & Rand S.             0.9644   \n",
       "\n",
       "    Testing accuracy  Mean Absolute Error  Root Mean Squared Error  R2 Squared  \n",
       "0             0.5420               8.0367                  10.3168      0.5420  \n",
       "1             0.5186               8.0143                  10.5766      0.5186  \n",
       "2             0.5420               8.0367                  10.3168      0.5420  \n",
       "3             0.5420               8.0367                  10.3168      0.5420  \n",
       "4             0.5420               8.0367                  10.3168      0.5420  \n",
       "5             0.5423               8.0363                  10.3128      0.5423  \n",
       "6             0.5423               8.0343                  10.3133      0.5423  \n",
       "7             0.5480               8.0827                  10.2482      0.5480  \n",
       "8             0.6897               6.7558                   8.4919      0.6897  \n",
       "9             0.6905               6.7467                   8.4809      0.6905  \n",
       "10            0.6950               6.6715                   8.4189      0.6950  \n",
       "11            0.5059               8.0367                  10.3168      0.5420  \n",
       "12            0.7431               5.8917                   7.7260      0.7431  \n",
       "13            0.5373               8.2846                  10.3696      0.5373  \n",
       "14            0.5177               7.9468                  10.5865      0.5177  \n",
       "15            0.5073               7.9854                  10.6999      0.5073  \n",
       "16            0.7454               5.8668                   7.6918      0.7454  \n",
       "17            0.5868               7.7500                   9.7984      0.5868  \n",
       "18            0.5808               7.9978                   9.8693      0.5808  \n",
       "19            0.5808               7.9978                   9.8693      0.5808  \n",
       "20            0.1082              11.6252                  14.3956      0.1082  \n",
       "21            0.6949               6.6750                   8.4206      0.6949  \n",
       "22            0.8041               4.9596                   6.7466      0.8041  "
      ]
     },
     "execution_count": 163,
     "metadata": {},
     "output_type": "execute_result"
    }
   ],
   "source": [
    "resultsDf = print_results(model, X_train, y_train, X_test, y_test, resultsDf)\n",
    "resultsDf"
   ]
  },
  {
   "cell_type": "markdown",
   "metadata": {},
   "source": [
    "#### Gradient Boosting Regressor & Standard Scaler & Randomized Search CV"
   ]
  },
  {
   "cell_type": "code",
   "execution_count": 164,
   "metadata": {},
   "outputs": [],
   "source": [
    "from sklearn.model_selection import RandomizedSearchCV"
   ]
  },
  {
   "cell_type": "code",
   "execution_count": 165,
   "metadata": {},
   "outputs": [],
   "source": [
    "model_name = 'Grad. Boost. Reg. & Std.S. & Rand S.'\n",
    "\n",
    "X_train, X_test, y_train, y_test = train_test_split(X, y, test_size=.3, random_state=1)"
   ]
  },
  {
   "cell_type": "code",
   "execution_count": 166,
   "metadata": {},
   "outputs": [
    {
     "data": {
      "text/plain": [
       "Pipeline(memory=None,\n",
       "         steps=[('standardscaler',\n",
       "                 StandardScaler(copy=True, with_mean=True, with_std=True)),\n",
       "                ('gradientboostingregressor',\n",
       "                 GradientBoostingRegressor(alpha=0.9, ccp_alpha=0.0,\n",
       "                                           criterion='friedman_mse', init=None,\n",
       "                                           learning_rate=0.1, loss='ls',\n",
       "                                           max_depth=3, max_features=None,\n",
       "                                           max_leaf_nodes=None,\n",
       "                                           min_impurity_decrease=0.0,\n",
       "                                           min_impurity_split=None,\n",
       "                                           min_samples_leaf=1,\n",
       "                                           min_samples_split=2,\n",
       "                                           min_weight_fraction_leaf=0.0,\n",
       "                                           n_estimators=10,\n",
       "                                           n_iter_no_change=None,\n",
       "                                           presort='deprecated', random_state=1,\n",
       "                                           subsample=1.0, tol=0.0001,\n",
       "                                           validation_fraction=0.1, verbose=0,\n",
       "                                           warm_start=False))],\n",
       "         verbose=False)"
      ]
     },
     "execution_count": 166,
     "metadata": {},
     "output_type": "execute_result"
    }
   ],
   "source": [
    "pipe = make_pipeline(StandardScaler(), GradientBoostingRegressor(loss='ls', n_estimators=10, random_state=1))\n",
    "pipe.fit(X_train, y_train)"
   ]
  },
  {
   "cell_type": "code",
   "execution_count": 167,
   "metadata": {},
   "outputs": [],
   "source": [
    "grid_values = {\n",
    "                'gradientboostingregressor__n_estimators' : np.arange(1650,1710, 5),\n",
    "                'gradientboostingregressor__loss' : ['ls', 'lad', 'huber', 'quantile'],\n",
    "                'gradientboostingregressor__learning_rate' : np.arange(0.17,0.22,0.01),\n",
    "                'gradientboostingregressor__max_depth' : np.arange(1, 5, 1),\n",
    "                'gradientboostingregressor__criterion' : ['friedman_mse', 'mse', 'mae']\n",
    "              }"
   ]
  },
  {
   "cell_type": "code",
   "execution_count": 168,
   "metadata": {},
   "outputs": [
    {
     "name": "stdout",
     "output_type": "stream",
     "text": [
      "Best Cross Validation Accuracy:  0.9204041154719903\n",
      "Best Parameter:  {'gradientboostingregressor__n_estimators': 1685, 'gradientboostingregressor__max_depth': 4, 'gradientboostingregressor__loss': 'ls', 'gradientboostingregressor__learning_rate': 0.18000000000000002, 'gradientboostingregressor__criterion': 'friedman_mse'}\n"
     ]
    }
   ],
   "source": [
    "grid = RandomizedSearchCV(pipe, grid_values, cv=10, random_state=1, n_jobs=-1)\n",
    "grid.fit(X_train, y_train)\n",
    "\n",
    "best_cross_validation_accuracy = grid.best_score_\n",
    "print(\"Best Cross Validation Accuracy: \", best_cross_validation_accuracy)\n",
    "\n",
    "best_parameter = grid.best_params_\n",
    "print(\"Best Parameter: \", best_parameter)\n",
    "\n",
    "pipe = grid"
   ]
  },
  {
   "cell_type": "code",
   "execution_count": 169,
   "metadata": {},
   "outputs": [],
   "source": [
    "model = pipe"
   ]
  },
  {
   "cell_type": "code",
   "execution_count": 170,
   "metadata": {},
   "outputs": [
    {
     "data": {
      "text/html": [
       "<div>\n",
       "<style scoped>\n",
       "    .dataframe tbody tr th:only-of-type {\n",
       "        vertical-align: middle;\n",
       "    }\n",
       "\n",
       "    .dataframe tbody tr th {\n",
       "        vertical-align: top;\n",
       "    }\n",
       "\n",
       "    .dataframe thead th {\n",
       "        text-align: right;\n",
       "    }\n",
       "</style>\n",
       "<table border=\"1\" class=\"dataframe\">\n",
       "  <thead>\n",
       "    <tr style=\"text-align: right;\">\n",
       "      <th></th>\n",
       "      <th>index</th>\n",
       "      <th>Method</th>\n",
       "      <th>Training accuracy</th>\n",
       "      <th>Testing accuracy</th>\n",
       "      <th>Mean Absolute Error</th>\n",
       "      <th>Root Mean Squared Error</th>\n",
       "      <th>R2 Squared</th>\n",
       "    </tr>\n",
       "  </thead>\n",
       "  <tbody>\n",
       "    <tr>\n",
       "      <th>0</th>\n",
       "      <td>0</td>\n",
       "      <td>Linear Regression</td>\n",
       "      <td>0.6217</td>\n",
       "      <td>0.5420</td>\n",
       "      <td>8.0367</td>\n",
       "      <td>10.3168</td>\n",
       "      <td>0.5420</td>\n",
       "    </tr>\n",
       "    <tr>\n",
       "      <th>1</th>\n",
       "      <td>1</td>\n",
       "      <td>Linear Regression (Preprocessing Scale)</td>\n",
       "      <td>0.6217</td>\n",
       "      <td>0.5186</td>\n",
       "      <td>8.0143</td>\n",
       "      <td>10.5766</td>\n",
       "      <td>0.5186</td>\n",
       "    </tr>\n",
       "    <tr>\n",
       "      <th>2</th>\n",
       "      <td>2</td>\n",
       "      <td>Linear Regression (Standard Scale)</td>\n",
       "      <td>0.6217</td>\n",
       "      <td>0.5420</td>\n",
       "      <td>8.0367</td>\n",
       "      <td>10.3168</td>\n",
       "      <td>0.5420</td>\n",
       "    </tr>\n",
       "    <tr>\n",
       "      <th>3</th>\n",
       "      <td>3</td>\n",
       "      <td>Linear Regression (MinMax Scale)</td>\n",
       "      <td>0.6217</td>\n",
       "      <td>0.5420</td>\n",
       "      <td>8.0367</td>\n",
       "      <td>10.3168</td>\n",
       "      <td>0.5420</td>\n",
       "    </tr>\n",
       "    <tr>\n",
       "      <th>4</th>\n",
       "      <td>4</td>\n",
       "      <td>Ridge Regression</td>\n",
       "      <td>0.6217</td>\n",
       "      <td>0.5420</td>\n",
       "      <td>8.0367</td>\n",
       "      <td>10.3168</td>\n",
       "      <td>0.5420</td>\n",
       "    </tr>\n",
       "    <tr>\n",
       "      <th>5</th>\n",
       "      <td>5</td>\n",
       "      <td>Ridge Regression (Standard Scaler)</td>\n",
       "      <td>0.6217</td>\n",
       "      <td>0.5423</td>\n",
       "      <td>8.0363</td>\n",
       "      <td>10.3128</td>\n",
       "      <td>0.5423</td>\n",
       "    </tr>\n",
       "    <tr>\n",
       "      <th>6</th>\n",
       "      <td>6</td>\n",
       "      <td>Lasso Regression</td>\n",
       "      <td>0.6217</td>\n",
       "      <td>0.5423</td>\n",
       "      <td>8.0343</td>\n",
       "      <td>10.3133</td>\n",
       "      <td>0.5423</td>\n",
       "    </tr>\n",
       "    <tr>\n",
       "      <th>7</th>\n",
       "      <td>7</td>\n",
       "      <td>Lasso Regression (Standard Scaler)</td>\n",
       "      <td>0.6163</td>\n",
       "      <td>0.5480</td>\n",
       "      <td>8.0827</td>\n",
       "      <td>10.2482</td>\n",
       "      <td>0.5480</td>\n",
       "    </tr>\n",
       "    <tr>\n",
       "      <th>8</th>\n",
       "      <td>8</td>\n",
       "      <td>Linear Regression &amp; Polynomial models</td>\n",
       "      <td>0.7595</td>\n",
       "      <td>0.6897</td>\n",
       "      <td>6.7558</td>\n",
       "      <td>8.4919</td>\n",
       "      <td>0.6897</td>\n",
       "    </tr>\n",
       "    <tr>\n",
       "      <th>9</th>\n",
       "      <td>9</td>\n",
       "      <td>Ridge Regression &amp; Polynomial models</td>\n",
       "      <td>0.7595</td>\n",
       "      <td>0.6905</td>\n",
       "      <td>6.7467</td>\n",
       "      <td>8.4809</td>\n",
       "      <td>0.6905</td>\n",
       "    </tr>\n",
       "    <tr>\n",
       "      <th>10</th>\n",
       "      <td>10</td>\n",
       "      <td>Lasso Regression &amp; Polynomial models</td>\n",
       "      <td>0.7568</td>\n",
       "      <td>0.6950</td>\n",
       "      <td>6.6715</td>\n",
       "      <td>8.4189</td>\n",
       "      <td>0.6950</td>\n",
       "    </tr>\n",
       "    <tr>\n",
       "      <th>11</th>\n",
       "      <td>11</td>\n",
       "      <td>LinearRegression &amp; Feature Selection</td>\n",
       "      <td>0.5914</td>\n",
       "      <td>0.5059</td>\n",
       "      <td>8.0367</td>\n",
       "      <td>10.3168</td>\n",
       "      <td>0.5420</td>\n",
       "    </tr>\n",
       "    <tr>\n",
       "      <th>12</th>\n",
       "      <td>12</td>\n",
       "      <td>Decision Tree (Regression)</td>\n",
       "      <td>0.8839</td>\n",
       "      <td>0.7431</td>\n",
       "      <td>5.8917</td>\n",
       "      <td>7.7260</td>\n",
       "      <td>0.7431</td>\n",
       "    </tr>\n",
       "    <tr>\n",
       "      <th>13</th>\n",
       "      <td>13</td>\n",
       "      <td>Linear SVR</td>\n",
       "      <td>0.6071</td>\n",
       "      <td>0.5373</td>\n",
       "      <td>8.2846</td>\n",
       "      <td>10.3696</td>\n",
       "      <td>0.5373</td>\n",
       "    </tr>\n",
       "    <tr>\n",
       "      <th>14</th>\n",
       "      <td>14</td>\n",
       "      <td>Linear SVR &amp; MinMax S.</td>\n",
       "      <td>0.6011</td>\n",
       "      <td>0.5177</td>\n",
       "      <td>7.9468</td>\n",
       "      <td>10.5865</td>\n",
       "      <td>0.5177</td>\n",
       "    </tr>\n",
       "    <tr>\n",
       "      <th>15</th>\n",
       "      <td>15</td>\n",
       "      <td>Linear SVR &amp; Standard S.</td>\n",
       "      <td>0.5938</td>\n",
       "      <td>0.5073</td>\n",
       "      <td>7.9854</td>\n",
       "      <td>10.6999</td>\n",
       "      <td>0.5073</td>\n",
       "    </tr>\n",
       "    <tr>\n",
       "      <th>16</th>\n",
       "      <td>16</td>\n",
       "      <td>DT Reg. &amp; Standard S.</td>\n",
       "      <td>0.8839</td>\n",
       "      <td>0.7454</td>\n",
       "      <td>5.8668</td>\n",
       "      <td>7.6918</td>\n",
       "      <td>0.7454</td>\n",
       "    </tr>\n",
       "    <tr>\n",
       "      <th>17</th>\n",
       "      <td>17</td>\n",
       "      <td>Bagging Reg. &amp; StandardS.</td>\n",
       "      <td>0.6467</td>\n",
       "      <td>0.5868</td>\n",
       "      <td>7.7500</td>\n",
       "      <td>9.7984</td>\n",
       "      <td>0.5868</td>\n",
       "    </tr>\n",
       "    <tr>\n",
       "      <th>18</th>\n",
       "      <td>18</td>\n",
       "      <td>Grad. Boost. Reg. &amp; MinMax.S.</td>\n",
       "      <td>0.6415</td>\n",
       "      <td>0.5808</td>\n",
       "      <td>7.9978</td>\n",
       "      <td>9.8693</td>\n",
       "      <td>0.5808</td>\n",
       "    </tr>\n",
       "    <tr>\n",
       "      <th>19</th>\n",
       "      <td>19</td>\n",
       "      <td>Grad. Boost. Reg. &amp; Std.S.</td>\n",
       "      <td>0.6415</td>\n",
       "      <td>0.5808</td>\n",
       "      <td>7.9978</td>\n",
       "      <td>9.8693</td>\n",
       "      <td>0.5808</td>\n",
       "    </tr>\n",
       "    <tr>\n",
       "      <th>20</th>\n",
       "      <td>20</td>\n",
       "      <td>Grad. Boost. Reg. &amp; Std.S. &amp; PCA</td>\n",
       "      <td>0.1163</td>\n",
       "      <td>0.1082</td>\n",
       "      <td>11.6252</td>\n",
       "      <td>14.3956</td>\n",
       "      <td>0.1082</td>\n",
       "    </tr>\n",
       "    <tr>\n",
       "      <th>21</th>\n",
       "      <td>21</td>\n",
       "      <td>Lasso Reg. &amp; Rand S.</td>\n",
       "      <td>0.7569</td>\n",
       "      <td>0.6949</td>\n",
       "      <td>6.6750</td>\n",
       "      <td>8.4206</td>\n",
       "      <td>0.6949</td>\n",
       "    </tr>\n",
       "    <tr>\n",
       "      <th>22</th>\n",
       "      <td>22</td>\n",
       "      <td>DT Reg. &amp; Standard S. &amp; Rand S.</td>\n",
       "      <td>0.9644</td>\n",
       "      <td>0.8041</td>\n",
       "      <td>4.9596</td>\n",
       "      <td>6.7466</td>\n",
       "      <td>0.8041</td>\n",
       "    </tr>\n",
       "    <tr>\n",
       "      <th>23</th>\n",
       "      <td>0</td>\n",
       "      <td>Grad. Boost. Reg. &amp; Std.S. &amp; Rand S.</td>\n",
       "      <td>0.9959</td>\n",
       "      <td>0.9315</td>\n",
       "      <td>2.8542</td>\n",
       "      <td>3.9908</td>\n",
       "      <td>0.9315</td>\n",
       "    </tr>\n",
       "  </tbody>\n",
       "</table>\n",
       "</div>"
      ],
      "text/plain": [
       "    index                                   Method  Training accuracy  \\\n",
       "0       0                        Linear Regression             0.6217   \n",
       "1       1  Linear Regression (Preprocessing Scale)             0.6217   \n",
       "2       2       Linear Regression (Standard Scale)             0.6217   \n",
       "3       3         Linear Regression (MinMax Scale)             0.6217   \n",
       "4       4                         Ridge Regression             0.6217   \n",
       "5       5       Ridge Regression (Standard Scaler)             0.6217   \n",
       "6       6                         Lasso Regression             0.6217   \n",
       "7       7       Lasso Regression (Standard Scaler)             0.6163   \n",
       "8       8    Linear Regression & Polynomial models             0.7595   \n",
       "9       9     Ridge Regression & Polynomial models             0.7595   \n",
       "10     10    Lasso Regression & Polynomial models              0.7568   \n",
       "11     11     LinearRegression & Feature Selection             0.5914   \n",
       "12     12               Decision Tree (Regression)             0.8839   \n",
       "13     13                               Linear SVR             0.6071   \n",
       "14     14                   Linear SVR & MinMax S.             0.6011   \n",
       "15     15                 Linear SVR & Standard S.             0.5938   \n",
       "16     16                    DT Reg. & Standard S.             0.8839   \n",
       "17     17                Bagging Reg. & StandardS.             0.6467   \n",
       "18     18            Grad. Boost. Reg. & MinMax.S.             0.6415   \n",
       "19     19               Grad. Boost. Reg. & Std.S.             0.6415   \n",
       "20     20         Grad. Boost. Reg. & Std.S. & PCA             0.1163   \n",
       "21     21                     Lasso Reg. & Rand S.             0.7569   \n",
       "22     22          DT Reg. & Standard S. & Rand S.             0.9644   \n",
       "23      0     Grad. Boost. Reg. & Std.S. & Rand S.             0.9959   \n",
       "\n",
       "    Testing accuracy  Mean Absolute Error  Root Mean Squared Error  R2 Squared  \n",
       "0             0.5420               8.0367                  10.3168      0.5420  \n",
       "1             0.5186               8.0143                  10.5766      0.5186  \n",
       "2             0.5420               8.0367                  10.3168      0.5420  \n",
       "3             0.5420               8.0367                  10.3168      0.5420  \n",
       "4             0.5420               8.0367                  10.3168      0.5420  \n",
       "5             0.5423               8.0363                  10.3128      0.5423  \n",
       "6             0.5423               8.0343                  10.3133      0.5423  \n",
       "7             0.5480               8.0827                  10.2482      0.5480  \n",
       "8             0.6897               6.7558                   8.4919      0.6897  \n",
       "9             0.6905               6.7467                   8.4809      0.6905  \n",
       "10            0.6950               6.6715                   8.4189      0.6950  \n",
       "11            0.5059               8.0367                  10.3168      0.5420  \n",
       "12            0.7431               5.8917                   7.7260      0.7431  \n",
       "13            0.5373               8.2846                  10.3696      0.5373  \n",
       "14            0.5177               7.9468                  10.5865      0.5177  \n",
       "15            0.5073               7.9854                  10.6999      0.5073  \n",
       "16            0.7454               5.8668                   7.6918      0.7454  \n",
       "17            0.5868               7.7500                   9.7984      0.5868  \n",
       "18            0.5808               7.9978                   9.8693      0.5808  \n",
       "19            0.5808               7.9978                   9.8693      0.5808  \n",
       "20            0.1082              11.6252                  14.3956      0.1082  \n",
       "21            0.6949               6.6750                   8.4206      0.6949  \n",
       "22            0.8041               4.9596                   6.7466      0.8041  \n",
       "23            0.9315               2.8542                   3.9908      0.9315  "
      ]
     },
     "execution_count": 170,
     "metadata": {},
     "output_type": "execute_result"
    }
   ],
   "source": [
    "resultsDf = print_results(model, X_train, y_train, X_test, y_test, resultsDf)\n",
    "resultsDf"
   ]
  },
  {
   "cell_type": "markdown",
   "metadata": {},
   "source": [
    "#### Time"
   ]
  },
  {
   "cell_type": "code",
   "execution_count": 171,
   "metadata": {},
   "outputs": [],
   "source": [
    "endTime = datetime.now()"
   ]
  },
  {
   "cell_type": "code",
   "execution_count": 172,
   "metadata": {},
   "outputs": [],
   "source": [
    "total_time = endTime - startTime"
   ]
  },
  {
   "cell_type": "code",
   "execution_count": 173,
   "metadata": {},
   "outputs": [
    {
     "name": "stdout",
     "output_type": "stream",
     "text": [
      "Start:  2020-12-05 03:42:18.298345\n",
      "End  :  2020-12-05 03:44:23.296124\n",
      "Time :  0:02:04.997779\n"
     ]
    }
   ],
   "source": [
    "print(\"Start: \", startTime)\n",
    "print(\"End  : \", endTime)\n",
    "print(\"Time : \", total_time)"
   ]
  },
  {
   "cell_type": "markdown",
   "metadata": {},
   "source": [
    "### <i>[Conclusion]\n",
    "<i>Comparing three results from the Hyperparameter Tuning (\"Lasso Regression & Polynomial models\", \"Decision Tree (Regression) & Standard Slacer\", and \"Gradient Boosint & Standard Scaler\"), we noted that \"Gradient Boosint & Standard Scaler\" achieved highest Testing accuracy.\n",
    "    <i><br> Kfold Cross Validation with CV=10 was used to calculate training accuracy when evaluating three results from Hyperparameter Tuning in addition to the testing accuracy.\n",
    "    <i><br> Originally, we used both GridSearchCV and RandomSearchCV but because those RandomSearchCV has similar or relatively better performance then GridSearchCV and faster speed, we decided to use only RandomSearchCV.\n",
    "    <i><br> The model \"Gradient Boosint & Standard Scaler\" with RandomSearchCV achieved 0.9959 in the Training accuracy and 0.9315 in the Testing accuracy."
   ]
  },
  {
   "cell_type": "markdown",
   "metadata": {},
   "source": [
    "### Github"
   ]
  },
  {
   "cell_type": "markdown",
   "metadata": {},
   "source": [
    "https://github.com/GreatLearningAIML1/gl-pgp-aiml-uta-intl-aug20-KokiTabayashi.git"
   ]
  }
 ],
 "metadata": {
  "kernelspec": {
   "display_name": "Python 3",
   "language": "python",
   "name": "python3"
  },
  "language_info": {
   "codemirror_mode": {
    "name": "ipython",
    "version": 3
   },
   "file_extension": ".py",
   "mimetype": "text/x-python",
   "name": "python",
   "nbconvert_exporter": "python",
   "pygments_lexer": "ipython3",
   "version": "3.6.12"
  }
 },
 "nbformat": 4,
 "nbformat_minor": 4
}
